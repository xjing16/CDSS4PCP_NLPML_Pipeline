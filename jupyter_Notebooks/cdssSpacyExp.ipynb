{
 "cells": [
  {
   "cell_type": "code",
   "execution_count": 1,
   "id": "fc4a2c62-7cb7-4fdc-b670-18f5cbbad356",
   "metadata": {},
   "outputs": [],
   "source": [
    "import json\n",
    "import unidecode\n",
    "import contractions\n",
    "from nltk import sent_tokenize, word_tokenize\n",
    "import nltk\n",
    "import logging\n",
    "import re\n",
    "import string\n",
    "import spacy\n",
    "from sklearn.metrics import confusion_matrix\n",
    "from seqeval.metrics import classification_report, accuracy_score, f1_score, recall_score, precision_score\n",
    "from seqeval.scheme import IOB2\n",
    "\n",
    "import matplotlib.pyplot as plt\n",
    "# import numpy as np\n",
    "\n",
    "logger = logging.getLogger(__name__)\n",
    "stop_words = nltk.corpus.stopwords.words('english')\n",
    "#deselect 'no' and 'not' from stop words\n",
    "stop_words.remove('no')\n",
    "stop_words.remove('not')\n",
    "\n",
    "## Do not remove '.' ',' ';' ':'\n",
    "english_punctuations = ['``','?', '（','）','(', ')',\n",
    "                '[', ']', '&', '!', '*', '@', '#', '$', '%','\\\\','\\\"','}','{','=','/','>','<','|','+','_','~']\n",
    "english_punctuations_arr= ''.join(english_punctuations)"
   ]
  },
  {
   "cell_type": "code",
   "execution_count": 2,
   "id": "978e20a7-4727-4985-9530-675a134b8213",
   "metadata": {},
   "outputs": [],
   "source": [
    "def read_json_array(path):\n",
    "    '''Read JSON given array of dictionaries'''\n",
    "    with open(path, \"r\", encoding=\"utf-8\") as fp:\n",
    "        datas = json.loads(fp.read())\n",
    "    return datas\n",
    "\n",
    "trainData = read_json_array(\"../data/pubmed_data/json_data_synthetic_labels/v2_train.json\")\n",
    "testData = read_json_array(\"../data/pubmed_data/json_data_synthetic_labels/v2_test.json\")\n",
    "gs42Data = read_json_array(\"../data/pubmed_data/json_data_synthetic_labels/v2_testgs42.json\")\n",
    "gs91Data = read_json_array(\"../data/pubmed_data/json_data_synthetic_labels/v2_testgs91.json\")\n",
    "gsCombData = gs42Data+gs91Data"
   ]
  },
  {
   "cell_type": "code",
   "execution_count": 3,
   "id": "f054b391-959b-464b-8c98-5d9864b8270a",
   "metadata": {},
   "outputs": [],
   "source": [
    "def sent2words(sent):\n",
    "    '''Pre-process sentence text to words'''\n",
    "    \n",
    "    ## Expand Words\n",
    "    sent = contractions.fix(sent)\n",
    "    \n",
    "    ## Convert sentence to lowercase and strip whitespaces\n",
    "    sent = sent.lower().strip()\n",
    "    \n",
    "    ## Convert unicode characters in sentence to ASCII\n",
    "    sent = unidecode.unidecode(sent)\n",
    "    sent = sent.encode(\"ascii\", \"ignore\").decode()\n",
    "    \n",
    "    ## Remove URL's from Sentence\n",
    "    sent = re.sub('http[s]?://\\S+', '', sent)\n",
    "    \n",
    "    ## Remove words like 2.0-2\n",
    "    sent = re.sub(' \\d*\\.*\\d*\\-+\\d*\\.*\\d* ', ' ', sent)\n",
    "    \n",
    "    # Remove punctuation characters\n",
    "    sent = sent.translate(str.maketrans(english_punctuations_arr,' '*len(english_punctuations_arr)))\n",
    "    \n",
    "    pos, length = {}, {}\n",
    "    words = word_tokenize(sent)\n",
    "    for i, (w, p) in enumerate(nltk.pos_tag(words)):\n",
    "        # Computational features\n",
    "        pos[w] = p\n",
    "        length[w] = len(w)\n",
    "    \n",
    "    # Remove Stop Words\n",
    "    # words = [word for word in word_tokenize(sent) if not word in stop_words]\n",
    "    \n",
    "    # Remove punctuation only strings from sentence\n",
    "    words = [word for word in words if not all(c in string.punctuation for c in word) and len(word)>1]\n",
    "    \n",
    "    # Remove Numericals from sentence\n",
    "    words = [x for x in words if not all(c.isdigit() for c in x)] \n",
    "    \n",
    "    ## Return words, POS tags, lengths of words, processed sentence\n",
    "    return words, pos, length, ' '.join(words)\n",
    "\n",
    "# Mark Keyphrases with BIO Format Labels\n",
    "def mark_keyword_all_sentences(keywords, sentences):\n",
    "\n",
    "    sentence_lengths = [len(sent) for sent in sentences]\n",
    "    logger.debug(\"Sentence length: %s\"%sentence_lengths)\n",
    "\n",
    "    complete_text = []\n",
    "    for sent in sentences:\n",
    "        complete_text.extend(sent)\n",
    "    logger.debug(\"Complete Text: %s\"%complete_text)\n",
    "\n",
    "    complete_text_len = len(complete_text)\n",
    "    mapper = ['O']*complete_text_len\n",
    "    kws = [sent2words(x)[0] for x in keywords]\n",
    "\n",
    "    for kw in kws:\n",
    "        kw_len=len(kw)\n",
    "        if kw_len == 0:\n",
    "            continue\n",
    "        i=0\n",
    "        while i<complete_text_len-kw_len:\n",
    "            if complete_text[i:i+kw_len]==kw and mapper[i:i+kw_len]==['O']*kw_len:\n",
    "                mapper[i:i+kw_len]=['I-KP']*kw_len\n",
    "                mapper[i]='B-KP'\n",
    "            i+=1\n",
    "\n",
    "    final_mapper = []\n",
    "    final_tokens = []\n",
    "    start=0\n",
    "\n",
    "    for slen in sentence_lengths:\n",
    "        final_mapper.append(mapper[start:start+slen])\n",
    "        final_tokens.append(complete_text[start:start+slen])\n",
    "        start+=slen\n",
    "    \n",
    "    return complete_text, final_mapper, final_tokens"
   ]
  },
  {
   "cell_type": "code",
   "execution_count": 9,
   "id": "c4f95c08-11a8-4be9-9e88-785b8ef30dc1",
   "metadata": {},
   "outputs": [],
   "source": [
    "def createBERTtSV(data,filename):\n",
    "    # import csv\n",
    "    # trainCSV = \"../data/trainBERT.tsv\"\n",
    "    f = open(filename,'w')\n",
    "    f.close()\n",
    "\n",
    "    for article in data:\n",
    "        textData = []\n",
    "        for sent in sent_tokenize(article['title']+' '+article['abstract']):\n",
    "            words, _, _, _ = sent2words(sent)\n",
    "            # words.append('.')\n",
    "            textData.append(words)\n",
    "        # textData = [word_tokenize(sent) for sent in sent_tokenize(article['title']+' '+article['abstract'])]\n",
    "        #print(textData)\n",
    "        _, mapper, tokens = mark_keyword_all_sentences(article['keywords'],textData)\n",
    "        with open(filename,'a') as f:\n",
    "        # with open(trainCSV, 'w', encoding='utf8', newline='') as tsv_file:\n",
    "        #     tsv_writer = csv.writer(tsv_file, delimiter='\\t', lineterminator='\\n')\n",
    "        #     tsv_writer.writerow([\"Word\", \"Count\"])\n",
    "            print(\"-DOCSTART- -X- O O\", file=f)\n",
    "            for sentM, sentT in zip(mapper, tokens):\n",
    "                for wordM, wordT in zip(sentM, sentT):\n",
    "                    print(\"{}\\t{}\".format(wordT,wordM), file=f)\n",
    "        # print(mapper, tokens)\n",
    "        \n",
    "def getTargetPreds(data, title=\"Default\"):\n",
    "    comb_arr = []\n",
    "    for article in data:\n",
    "        comb_arr.append(article['title']+' '+article['abstract'])\n",
    "\n",
    "    y_preds, y_targets = [], []\n",
    "    kws_len_preds, kw_len_targets = [], []\n",
    "    for idx, doc in enumerate(nlp.pipe(comb_arr)):\n",
    "\n",
    "        kws = [str(x) for x in doc.ents]\n",
    "        textData = []\n",
    "        for sent in sent_tokenize(article['title']+' '+article['abstract']):\n",
    "            words, _, _, _ = sent2words(sent)\n",
    "            textData.append(words)\n",
    "        # textData = [word_tokenize(sent) for sent in sent_tokenize(data[idx]['title']+' '+data[idx]['abstract'])]\n",
    "\n",
    "        _, target, _ = mark_keyword_all_sentences(data[idx]['keywords'],textData)\n",
    "        _, predict, _ = mark_keyword_all_sentences(kws,textData)\n",
    "        kw_len_targets.append(len(data[idx]['keywords']))\n",
    "        kws_len_preds.append(len(kws))\n",
    "        #print(gs40Data[idx]['id'],gs40Data[idx]['keywords'],kws,sep='\\n')\n",
    "\n",
    "        #print(target,predict,sep='\\n')\n",
    "        y_preds.extend(predict)\n",
    "        y_targets.extend(target)\n",
    "        \n",
    "    plt.title(\"KPs Identified - Prediction vs. Targets : \" + title)\n",
    "    box_plot_data=[kws_len_preds, kw_len_targets]\n",
    "    plt.boxplot(box_plot_data,patch_artist=True,labels=['Predictions','Targets'])\n",
    "    plt.grid()\n",
    "    plt.show()\n",
    "    \n",
    "    return y_preds, y_targets"
   ]
  },
  {
   "cell_type": "code",
   "execution_count": 5,
   "id": "5a8c2e8c-5187-42d0-a2d2-53d210e2d172",
   "metadata": {},
   "outputs": [
    {
     "name": "stdout",
     "output_type": "stream",
     "text": [
      "Data: 3110, Train: 1866.0 Val: 622.0 Test: 622.0\n",
      "GS42 Data: 42, GS42 Train: 33.6 GS42 Val: 8.4\n",
      "GS91 Data: 91, GS91 Train: 72.8 GS91 Val: 18.2\n"
     ]
    }
   ],
   "source": [
    "totalData = trainData+testData\n",
    "datalen = len(totalData)\n",
    "print(\"Data: {}, Train: {} Val: {} Test: {}\".format(datalen, datalen*0.6, datalen*0.2, datalen*0.2))\n",
    "createBERTtSV(totalData[:int(0.6*datalen)],'../data/trainSpacy.tsv')\n",
    "createBERTtSV(totalData[int(0.6*datalen):int(0.8*datalen)],'../data/validSpacy.tsv')\n",
    "createBERTtSV(totalData[int(0.8*datalen):],'../data/testSpacy.tsv')\n",
    "\n",
    "createBERTtSV(gs42Data,'../data/gs42SpacyFull.tsv')\n",
    "gs_datalen = len(gs42Data)\n",
    "print(\"GS42 Data: {}, GS42 Train: {} GS42 Val: {}\".format(gs_datalen, gs_datalen*0.8, gs_datalen*0.2))\n",
    "createBERTtSV(gs42Data[:int(0.8*gs_datalen)],'../data/gs42Spacy_T.tsv')\n",
    "createBERTtSV(gs42Data[int(0.8*gs_datalen):],'../data/gs42Spacy_V.tsv')\n",
    "\n",
    "createBERTtSV(gs91Data,'../data/gs91SpacyFull.tsv')\n",
    "gs_datalen = len(gs91Data)\n",
    "print(\"GS91 Data: {}, GS91 Train: {} GS91 Val: {}\".format(gs_datalen, gs_datalen*0.8, gs_datalen*0.2))\n",
    "createBERTtSV(gs91Data[:int(0.8*gs_datalen)],'../data/gs91Spacy_T.tsv')\n",
    "createBERTtSV(gs91Data[int(0.8*gs_datalen):],'../data/gs91Spacy_V.tsv')"
   ]
  },
  {
   "cell_type": "code",
   "execution_count": 6,
   "id": "5d2f32bd-e888-4910-8c75-b56dd65cd5dc",
   "metadata": {},
   "outputs": [
    {
     "name": "stdout",
     "output_type": "stream",
     "text": [
      "\u001b[38;5;4mℹ Auto-detected token-per-line NER format\u001b[0m\n",
      "\u001b[38;5;3m⚠ Document delimiters found, automatic document segmentation with `-n`\n",
      "disabled.\u001b[0m\n",
      "\u001b[38;5;3m⚠ No sentence boundaries found. Use `-s` to automatically segment\n",
      "sentences.\u001b[0m\n",
      "\u001b[38;5;2m✔ Generated output file (1 documents): trainSpacy.json\u001b[0m\n",
      "\u001b[38;5;4mℹ Auto-detected token-per-line NER format\u001b[0m\n",
      "\u001b[38;5;3m⚠ Document delimiters found, automatic document segmentation with `-n`\n",
      "disabled.\u001b[0m\n",
      "\u001b[38;5;3m⚠ No sentence boundaries found. Use `-s` to automatically segment\n",
      "sentences.\u001b[0m\n",
      "\u001b[38;5;2m✔ Generated output file (1 documents): validSpacy.json\u001b[0m\n",
      "\u001b[38;5;4mℹ Auto-detected token-per-line NER format\u001b[0m\n",
      "\u001b[38;5;3m⚠ Document delimiters found, automatic document segmentation with `-n`\n",
      "disabled.\u001b[0m\n",
      "\u001b[38;5;3m⚠ No sentence boundaries found. Use `-s` to automatically segment\n",
      "sentences.\u001b[0m\n",
      "\u001b[38;5;2m✔ Generated output file (1 documents): testSpacy.json\u001b[0m\n",
      "\u001b[38;5;4mℹ Auto-detected token-per-line NER format\u001b[0m\n",
      "\u001b[38;5;3m⚠ Document delimiters found, automatic document segmentation with `-n`\n",
      "disabled.\u001b[0m\n",
      "\u001b[38;5;3m⚠ No sentence boundaries found. Use `-s` to automatically segment\n",
      "sentences.\u001b[0m\n",
      "\u001b[38;5;2m✔ Generated output file (1 documents): gs42SpacyFull.json\u001b[0m\n",
      "\u001b[38;5;4mℹ Auto-detected token-per-line NER format\u001b[0m\n",
      "\u001b[38;5;3m⚠ Document delimiters found, automatic document segmentation with `-n`\n",
      "disabled.\u001b[0m\n",
      "\u001b[38;5;3m⚠ No sentence boundaries found. Use `-s` to automatically segment\n",
      "sentences.\u001b[0m\n",
      "\u001b[38;5;2m✔ Generated output file (1 documents): gs42Spacy_T.json\u001b[0m\n",
      "\u001b[38;5;4mℹ Auto-detected token-per-line NER format\u001b[0m\n",
      "\u001b[38;5;3m⚠ Document delimiters found, automatic document segmentation with `-n`\n",
      "disabled.\u001b[0m\n",
      "\u001b[38;5;3m⚠ No sentence boundaries found. Use `-s` to automatically segment\n",
      "sentences.\u001b[0m\n",
      "\u001b[38;5;2m✔ Generated output file (1 documents): gs42Spacy_V.json\u001b[0m\n",
      "\u001b[38;5;4mℹ Auto-detected token-per-line NER format\u001b[0m\n",
      "\u001b[38;5;3m⚠ Document delimiters found, automatic document segmentation with `-n`\n",
      "disabled.\u001b[0m\n",
      "\u001b[38;5;3m⚠ No sentence boundaries found. Use `-s` to automatically segment\n",
      "sentences.\u001b[0m\n",
      "\u001b[38;5;2m✔ Generated output file (1 documents): gs91SpacyFull.json\u001b[0m\n",
      "\u001b[38;5;4mℹ Auto-detected token-per-line NER format\u001b[0m\n",
      "\u001b[38;5;3m⚠ Document delimiters found, automatic document segmentation with `-n`\n",
      "disabled.\u001b[0m\n",
      "\u001b[38;5;3m⚠ No sentence boundaries found. Use `-s` to automatically segment\n",
      "sentences.\u001b[0m\n",
      "\u001b[38;5;2m✔ Generated output file (1 documents): gs91Spacy_T.json\u001b[0m\n",
      "\u001b[38;5;4mℹ Auto-detected token-per-line NER format\u001b[0m\n",
      "\u001b[38;5;3m⚠ Document delimiters found, automatic document segmentation with `-n`\n",
      "disabled.\u001b[0m\n",
      "\u001b[38;5;3m⚠ No sentence boundaries found. Use `-s` to automatically segment\n",
      "sentences.\u001b[0m\n",
      "\u001b[38;5;2m✔ Generated output file (1 documents): gs91Spacy_V.json\u001b[0m\n"
     ]
    }
   ],
   "source": [
    "import sys\n",
    "!cd ../data && {sys.executable} -m spacy convert trainSpacy.tsv ./ -t json -n 1 -c iob\n",
    "!cd ../data && {sys.executable} -m spacy convert validSpacy.tsv ./ -t json -n 1 -c iob\n",
    "!cd ../data && {sys.executable} -m spacy convert testSpacy.tsv ./ -t json -n 1 -c iob\n",
    "!cd ../data && {sys.executable} -m spacy convert gs42SpacyFull.tsv ./ -t json -n 1 -c iob\n",
    "!cd ../data && {sys.executable} -m spacy convert gs42Spacy_T.tsv ./ -t json -n 1 -c iob\n",
    "!cd ../data && {sys.executable} -m spacy convert gs42Spacy_V.tsv ./ -t json -n 1 -c iob\n",
    "!cd ../data && {sys.executable} -m spacy convert gs91SpacyFull.tsv ./ -t json -n 1 -c iob\n",
    "!cd ../data && {sys.executable} -m spacy convert gs91Spacy_T.tsv ./ -t json -n 1 -c iob\n",
    "!cd ../data && {sys.executable} -m spacy convert gs91Spacy_V.tsv ./ -t json -n 1 -c iob"
   ]
  },
  {
   "cell_type": "code",
   "execution_count": 7,
   "id": "c9388b0a-1051-4b3d-9a37-8bcde45ed3b2",
   "metadata": {},
   "outputs": [
    {
     "name": "stdout",
     "output_type": "stream",
     "text": [
      "\u001b[38;5;2m✔ Generated output file (1866 documents): trainSpacy.spacy\u001b[0m\n",
      "\u001b[38;5;2m✔ Generated output file (622 documents): validSpacy.spacy\u001b[0m\n",
      "\u001b[38;5;2m✔ Generated output file (622 documents): testSpacy.spacy\u001b[0m\n",
      "\u001b[38;5;2m✔ Generated output file (42 documents): gs42SpacyFull.spacy\u001b[0m\n",
      "\u001b[38;5;2m✔ Generated output file (33 documents): gs42Spacy_T.spacy\u001b[0m\n",
      "\u001b[38;5;2m✔ Generated output file (9 documents): gs42Spacy_V.spacy\u001b[0m\n",
      "\u001b[38;5;2m✔ Generated output file (91 documents): gs91SpacyFull.spacy\u001b[0m\n",
      "\u001b[38;5;2m✔ Generated output file (72 documents): gs91Spacy_T.spacy\u001b[0m\n",
      "\u001b[38;5;2m✔ Generated output file (19 documents): gs91Spacy_V.spacy\u001b[0m\n"
     ]
    }
   ],
   "source": [
    "!cd ../data && {sys.executable} -m spacy convert trainSpacy.json ./ -t spacy\n",
    "!cd ../data && {sys.executable} -m spacy convert validSpacy.json ./ -t spacy\n",
    "!cd ../data && {sys.executable} -m spacy convert testSpacy.json ./ -t spacy\n",
    "!cd ../data && {sys.executable} -m spacy convert gs42SpacyFull.json ./ -t spacy\n",
    "!cd ../data && {sys.executable} -m spacy convert gs42Spacy_T.json ./ -t spacy\n",
    "!cd ../data && {sys.executable} -m spacy convert gs42Spacy_V.json ./ -t spacy\n",
    "!cd ../data && {sys.executable} -m spacy convert gs91SpacyFull.json ./ -t spacy\n",
    "!cd ../data && {sys.executable} -m spacy convert gs91Spacy_T.json ./ -t spacy\n",
    "!cd ../data && {sys.executable} -m spacy convert gs91Spacy_V.json ./ -t spacy"
   ]
  },
  {
   "cell_type": "markdown",
   "id": "7145b69f-efce-4763-b095-373b5a34bd35",
   "metadata": {},
   "source": [
    "### Round 1:\n",
    "#### Stage 1: Fine-Tune Bio-Medical sciSpacy to CDSS Domain [Common to BOTH Experiments]\n",
    "sciSpacy >> Train/Val Synthetic DS >> cdssSciSpacy << Test Synthetic DS\n",
    "#### Stage 2: Fine-Tune Synthetic-CDSS-sciSpacy to GS-CDSS-sciSpacy\n",
    "cdssSciSpacy >> Train/Val GS42 DS >> cdssSciSpacyGS << Test G291 DS"
   ]
  },
  {
   "cell_type": "code",
   "execution_count": 8,
   "id": "6ce29797-1d34-4489-be7b-d7f1983d4602",
   "metadata": {},
   "outputs": [
    {
     "name": "stdout",
     "output_type": "stream",
     "text": [
      "/home/rgoli/.conda/envs/pytorch/lib/python3.8/site-packages/spacy/util.py:833: UserWarning: [W095] Model 'en_core_sci_lg' (0.4.0) was trained with spaCy v3.0 and may not be 100% compatible with the current version (3.2.4). If you see errors or degraded performance, download a newer compatible model or retrain your custom model with the current spaCy version. For more details and available updates, run: python -m spacy validate\n",
      "  warnings.warn(warn_msg)\n",
      "\u001b[38;5;2m✔ Auto-filled config with all values\u001b[0m\n",
      "\u001b[38;5;2m✔ Saved config\u001b[0m\n",
      "config.cfg\n",
      "You can now add your data and train your pipeline:\n",
      "python -m spacy train config.cfg --paths.train ./train.spacy --paths.dev ./dev.spacy\n"
     ]
    }
   ],
   "source": [
    "## ROUND1:::STAGE1\n",
    "BASE_SCISPACY_CONFIG = '''\n",
    "# This is an auto-generated partial config. To use it with 'spacy train'\n",
    "# you can run spacy init fill-config to auto-fill all default settings:\n",
    "# python -m spacy init fill-config ./base_config.cfg ./config.cfg\n",
    "[paths]\n",
    "train = null\n",
    "dev = null\n",
    "vectors = null\n",
    "[system]\n",
    "gpu_allocator = \"pytorch\"\n",
    "\n",
    "[nlp]\n",
    "lang = \"en\"\n",
    "pipeline = [\"transformer\",\"ner\"]\n",
    "batch_size = 128\n",
    "\n",
    "[components]\n",
    "\n",
    "[components.transformer]\n",
    "factory = \"transformer\"\n",
    "\n",
    "[components.transformer.model]\n",
    "@architectures = \"spacy-transformers.TransformerModel.v3\"\n",
    "name = \"roberta-base\"\n",
    "#name = \"allenai/scibert_scivocab_cased\"\n",
    "tokenizer_config = {\"use_fast\": true}\n",
    "\n",
    "[components.transformer.model.get_spans]\n",
    "@span_getters = \"spacy-transformers.strided_spans.v1\"\n",
    "window = 128\n",
    "stride = 96\n",
    "\n",
    "[components.ner]\n",
    "source = \"en_core_sci_lg\"\n",
    "\n",
    "[components.ner.model]\n",
    "@architectures = \"spacy.TransitionBasedParser.v2\"\n",
    "state_type = \"ner\"\n",
    "extra_state_tokens = false\n",
    "hidden_width = 64\n",
    "maxout_pieces = 2\n",
    "use_upper = false\n",
    "nO = null\n",
    "\n",
    "[components.ner.model.tok2vec]\n",
    "@architectures = \"spacy-transformers.TransformerListener.v1\"\n",
    "grad_factor = 1.0\n",
    "\n",
    "[components.ner.model.tok2vec.pooling]\n",
    "@layers = \"reduce_mean.v1\"\n",
    "\n",
    "[corpora]\n",
    "\n",
    "[corpora.train]\n",
    "@readers = \"spacy.Corpus.v1\"\n",
    "path = ${paths.train}\n",
    "max_length = 0\n",
    "\n",
    "[corpora.dev]\n",
    "@readers = \"spacy.Corpus.v1\"\n",
    "path = ${paths.dev}\n",
    "max_length = 0\n",
    "\n",
    "[training]\n",
    "accumulate_gradient = 3\n",
    "dev_corpus = \"corpora.dev\"\n",
    "train_corpus = \"corpora.train\"\n",
    "\n",
    "[training.optimizer]\n",
    "@optimizers = \"Adam.v1\"\n",
    "\n",
    "[training.optimizer.learn_rate]\n",
    "@schedules = \"warmup_linear.v1\"\n",
    "warmup_steps = 250\n",
    "total_steps = 20000\n",
    "initial_rate = 5e-5\n",
    "\n",
    "[training.batcher]\n",
    "@batchers = \"spacy.batch_by_padded.v1\"\n",
    "discard_oversize = true\n",
    "size = 2000\n",
    "buffer = 256\n",
    "\n",
    "[initialize]\n",
    "vectors = ${paths.vectors}\n",
    "\n",
    "[initialize.before_init]\n",
    "@callbacks: \"spacy.copy_from_base_model.v1\"\n",
    "tokenizer: \"en_core_sci_lg\"\n",
    "vocab: \"en_core_sci_lg\"\n",
    "'''\n",
    "with open('tempSpacy.cfg','w') as f:\n",
    "    f.write(BASE_SCISPACY_CONFIG)\n",
    "\n",
    "!{sys.executable} -m spacy init fill-config tempSpacy.cfg config.cfg"
   ]
  },
  {
   "cell_type": "code",
   "execution_count": 9,
   "id": "0589d250-8225-44a9-bc46-516b326ace31",
   "metadata": {},
   "outputs": [
    {
     "name": "stdout",
     "output_type": "stream",
     "text": [
      "\u001b[38;5;4mℹ Saving to output directory: ../cdssSciSpacy\u001b[0m\n",
      "\u001b[38;5;4mℹ Using GPU: 0\u001b[0m\n",
      "\u001b[1m\n",
      "=========================== Initializing pipeline ===========================\u001b[0m\n",
      "/home/rgoli/.conda/envs/pytorch/lib/python3.8/site-packages/spacy/util.py:833: UserWarning: [W095] Model 'en_core_sci_lg' (0.4.0) was trained with spaCy v3.0 and may not be 100% compatible with the current version (3.2.4). If you see errors or degraded performance, download a newer compatible model or retrain your custom model with the current spaCy version. For more details and available updates, run: python -m spacy validate\n",
      "  warnings.warn(warn_msg)\n",
      "[2022-09-03 15:35:32,318] [INFO] Set up nlp object from config\n",
      "[2022-09-03 15:35:32,327] [INFO] Pipeline: ['transformer', 'ner']\n",
      "[2022-09-03 15:35:32,327] [INFO] Resuming training for: ['ner']\n",
      "[2022-09-03 15:35:32,334] [INFO] Copying tokenizer from: en_core_sci_lg\n",
      "/home/rgoli/.conda/envs/pytorch/lib/python3.8/site-packages/spacy/util.py:833: UserWarning: [W095] Model 'en_core_sci_lg' (0.4.0) was trained with spaCy v3.0 and may not be 100% compatible with the current version (3.2.4). If you see errors or degraded performance, download a newer compatible model or retrain your custom model with the current spaCy version. For more details and available updates, run: python -m spacy validate\n",
      "  warnings.warn(warn_msg)\n",
      "[2022-09-03 15:35:38,955] [INFO] Copying vocab from: en_core_sci_lg\n",
      "[2022-09-03 15:35:55,960] [INFO] Created vocabulary\n",
      "[2022-09-03 15:35:57,412] [INFO] Finished initializing nlp object\n",
      "Some weights of the model checkpoint at roberta-base were not used when initializing RobertaModel: ['lm_head.layer_norm.bias', 'lm_head.layer_norm.weight', 'lm_head.bias', 'lm_head.decoder.weight', 'lm_head.dense.weight', 'lm_head.dense.bias']\n",
      "- This IS expected if you are initializing RobertaModel from the checkpoint of a model trained on another task or with another architecture (e.g. initializing a BertForSequenceClassification model from a BertForPreTraining model).\n",
      "- This IS NOT expected if you are initializing RobertaModel from the checkpoint of a model that you expect to be exactly identical (initializing a BertForSequenceClassification model from a BertForSequenceClassification model).\n",
      "[2022-09-03 15:36:01,909] [INFO] Initialized pipeline components: ['transformer']\n",
      "\u001b[38;5;2m✔ Initialized pipeline\u001b[0m\n",
      "\u001b[1m\n",
      "============================= Training pipeline =============================\u001b[0m\n",
      "\u001b[38;5;4mℹ Pipeline: ['transformer', 'ner']\u001b[0m\n",
      "\u001b[38;5;4mℹ Initial learn rate: 0.0\u001b[0m\n",
      "E    #       LOSS TRANS...  LOSS NER  ENTS_F  ENTS_P  ENTS_R  SCORE \n",
      "---  ------  -------------  --------  ------  ------  ------  ------\n",
      "  0       0           0.00    274.57    0.00    0.00    0.00    0.00\n",
      "  0     200           0.00  150824.27    0.00    0.00    0.00    0.00\n",
      "  1     400           0.00  87508.87   20.55   57.61   12.50    0.21\n",
      "  2     600           0.00  68739.24   50.87   61.34   43.46    0.51\n",
      "  2     800           0.00  48534.28   63.00   63.36   62.65    0.63\n",
      "  3    1000           0.00  36876.33   66.82   66.57   67.09    0.67\n",
      "  4    1200           0.00  30101.90   70.76   70.95   70.57    0.71\n",
      "  5    1400           0.00  25953.87   74.21   75.54   72.93    0.74\n",
      "  5    1600           0.00  21544.89   76.58   75.50   77.69    0.77\n",
      "  6    1800           0.00  17733.45   78.36   77.26   79.48    0.78\n",
      "  7    2000           0.00  15521.22   79.76   80.15   79.37    0.80\n",
      "  8    2200           0.00  15063.35   81.28   80.83   81.73    0.81\n",
      "  8    2400           0.00  12125.89   82.47   81.89   83.06    0.82\n",
      "  9    2600           0.00  10288.71   83.40   82.70   84.10    0.83\n",
      " 10    2800           0.00  10059.78   84.42   84.25   84.58    0.84\n",
      " 11    3000           0.00   9786.53   84.97   84.43   85.51    0.85\n",
      " 11    3200           0.00   7949.98   85.73   85.84   85.63    0.86\n",
      " 12    3400           0.00   7313.23   85.84   85.68   85.99    0.86\n",
      " 13    3600           0.00   7756.57   86.14   86.01   86.26    0.86\n",
      " 14    3800           0.00   6541.19   86.99   87.06   86.91    0.87\n",
      " 14    4000           0.00   6199.79   87.18   87.52   86.85    0.87\n",
      " 15    4200           0.00   5433.27   87.51   87.54   87.48    0.88\n",
      " 16    4400           0.00   6161.43   87.58   87.10   88.06    0.88\n",
      " 17    4600           0.00   5548.33   88.06   88.03   88.09    0.88\n",
      " 17    4800           0.00   5505.47   88.14   88.21   88.07    0.88\n",
      " 18    5000           0.00   4336.01   88.26   88.11   88.40    0.88\n",
      " 19    5200           0.00   5737.11   88.74   88.75   88.74    0.89\n",
      " 20    5400           0.00   4417.31   89.03   89.06   89.01    0.89\n",
      " 20    5600           0.00   4855.33   88.94   88.93   88.95    0.89\n",
      " 21    5800           0.00   4510.48   88.83   88.55   89.11    0.89\n",
      " 22    6000           0.00   4054.98   89.17   89.54   88.80    0.89\n",
      " 23    6200           0.00   4778.70   89.18   89.08   89.28    0.89\n",
      " 23    6400           0.00   3950.13   89.17   89.00   89.35    0.89\n",
      " 24    6600           0.00   4111.48   89.35   89.48   89.21    0.89\n",
      " 25    6800           0.00   3948.48   89.40   89.41   89.39    0.89\n",
      " 26    7000           0.00   4186.95   89.51   89.00   90.02    0.90\n",
      " 26    7200           0.00   3372.09   89.60   89.22   89.99    0.90\n",
      " 27    7400           0.00   3766.61   89.54   89.04   90.05    0.90\n",
      " 28    7600           0.00   3280.16   89.65   89.32   89.98    0.90\n",
      " 29    7800           0.00   4116.06   89.54   88.87   90.22    0.90\n",
      " 29    8000           0.00   3238.48   89.54   88.82   90.27    0.90\n",
      " 30    8200           0.00   3174.22   89.81   89.58   90.04    0.90\n",
      " 31    8400           0.00   3834.20   89.79   89.20   90.38    0.90\n",
      " 32    8600           0.00   3963.85   89.68   88.83   90.55    0.90\n",
      " 32    8800           0.00   2881.05   89.64   88.95   90.34    0.90\n",
      " 33    9000           0.00   3669.35   89.66   88.83   90.51    0.90\n",
      " 34    9200           0.00   3395.22   89.95   89.52   90.39    0.90\n",
      " 35    9400           0.00   2524.36   90.03   89.50   90.57    0.90\n",
      " 35    9600           0.00   3387.84   89.86   88.95   90.79    0.90\n",
      " 36    9800           0.00   3052.15   89.96   89.09   90.84    0.90\n",
      " 37   10000           0.00   3207.80   90.22   89.52   90.93    0.90\n",
      " 38   10200           0.00   3165.73   90.14   89.53   90.77    0.90\n",
      " 38   10400           0.00   2986.67   90.08   89.46   90.70    0.90\n",
      " 39   10600           0.00   3491.91   90.10   89.50   90.70    0.90\n",
      " 40   10800           0.00   2178.00   90.05   89.28   90.83    0.90\n",
      " 41   11000           0.00   2915.80   90.01   89.26   90.79    0.90\n",
      " 41   11200           0.00   3119.59   89.90   89.00   90.81    0.90\n",
      " 42   11400           0.00   2989.80   89.93   89.13   90.74    0.90\n",
      " 43   11600           0.00   2574.03   89.89   88.89   90.92    0.90\n",
      "\u001b[38;5;2m✔ Saved pipeline to output directory\u001b[0m\n",
      "../cdssSciSpacy/model-last\n"
     ]
    }
   ],
   "source": [
    "!{sys.executable} -m spacy train -g 0 config.cfg --output ../cdssSciSpacy --paths.train ../data/trainSpacy.spacy --paths.dev ../data/validSpacy.spacy "
   ]
  },
  {
   "cell_type": "code",
   "execution_count": 5,
   "id": "c7c8594e-1679-4932-b897-b062f3afe979",
   "metadata": {},
   "outputs": [],
   "source": [
    "def printMetrics(y_targets, y_preds,custom=''):\n",
    "    print(\"\\nSeqEval Metrics on sciSpacy {}:\\n\".format(custom))\n",
    "    print(classification_report(y_targets, y_preds, mode='strict', scheme=IOB2))\n",
    "    print(\"Precision given by SeqEval: {:.2f}%\".format(precision_score(y_targets, y_preds)*100))\n",
    "    print(\"Recall given by SeqEval: {:.2f}%\".format(recall_score(y_targets, y_preds)*100))\n",
    "    print(\"F1-Score given by SeqEval: {:.2f}%\".format(f1_score(y_targets, y_preds)*100))\n",
    "    print(\"Accuracy given by SeqEval: {:.2f}%\".format(accuracy_score(y_targets, y_preds)*100))\n",
    "    print(\"-\"*60)"
   ]
  },
  {
   "cell_type": "code",
   "execution_count": 10,
   "id": "37ae97ad-218a-4a25-ab98-a5bc7df297d9",
   "metadata": {},
   "outputs": [
    {
     "name": "stderr",
     "output_type": "stream",
     "text": [
      "/home/rgoli/.conda/envs/pytorch/lib/python3.8/site-packages/spacy/util.py:833: UserWarning: [W095] Model 'en_core_sci_lg' (0.4.0) was trained with spaCy v3.0 and may not be 100% compatible with the current version (3.2.4). If you see errors or degraded performance, download a newer compatible model or retrain your custom model with the current spaCy version. For more details and available updates, run: python -m spacy validate\n",
      "  warnings.warn(warn_msg)\n"
     ]
    },
    {
     "data": {
      "image/png": "[encoded data removed]",
      "text/plain": [
       "<Figure size 432x288 with 1 Axes>"
      ]
     },
     "metadata": {
      "needs_background": "light"
     },
     "output_type": "display_data"
    },
    {
     "name": "stdout",
     "output_type": "stream",
     "text": [
      "\n",
      "SeqEval Metrics on sciSpacy + 42GS Test:\n",
      "\n",
      "              precision    recall  f1-score   support\n",
      "\n",
      "          KP       0.61      0.17      0.27       675\n",
      "\n",
      "   micro avg       0.61      0.17      0.27       675\n",
      "   macro avg       0.61      0.17      0.27       675\n",
      "weighted avg       0.61      0.17      0.27       675\n",
      "\n",
      "Precision given by SeqEval: 60.82%\n",
      "Recall given by SeqEval: 17.48%\n",
      "F1-Score given by SeqEval: 27.16%\n",
      "Accuracy given by SeqEval: 93.18%\n",
      "------------------------------------------------------------\n"
     ]
    },
    {
     "data": {
      "image/png": "[encoded data removed]",
      "text/plain": [
       "<Figure size 432x288 with 1 Axes>"
      ]
     },
     "metadata": {
      "needs_background": "light"
     },
     "output_type": "display_data"
    },
    {
     "name": "stdout",
     "output_type": "stream",
     "text": [
      "\n",
      "SeqEval Metrics on sciSpacy + 91GS Test:\n",
      "\n",
      "              precision    recall  f1-score   support\n",
      "\n",
      "          KP       0.59      0.23      0.33       900\n",
      "\n",
      "   micro avg       0.59      0.23      0.33       900\n",
      "   macro avg       0.59      0.23      0.33       900\n",
      "weighted avg       0.59      0.23      0.33       900\n",
      "\n",
      "Precision given by SeqEval: 58.79%\n",
      "Recall given by SeqEval: 22.67%\n",
      "F1-Score given by SeqEval: 32.72%\n",
      "Accuracy given by SeqEval: 96.49%\n",
      "------------------------------------------------------------\n"
     ]
    },
    {
     "data": {
      "image/png": "[encoded data removed]",
      "text/plain": [
       "<Figure size 432x288 with 1 Axes>"
      ]
     },
     "metadata": {
      "needs_background": "light"
     },
     "output_type": "display_data"
    },
    {
     "name": "stdout",
     "output_type": "stream",
     "text": [
      "\n",
      "SeqEval Metrics on sciSpacy + 133GS Test:\n",
      "\n",
      "              precision    recall  f1-score   support\n",
      "\n",
      "          KP       0.62      0.22      0.33      1483\n",
      "\n",
      "   micro avg       0.62      0.22      0.33      1483\n",
      "   macro avg       0.62      0.22      0.33      1483\n",
      "weighted avg       0.62      0.22      0.33      1483\n",
      "\n",
      "Precision given by SeqEval: 61.82%\n",
      "Recall given by SeqEval: 22.39%\n",
      "F1-Score given by SeqEval: 32.87%\n",
      "Accuracy given by SeqEval: 96.08%\n",
      "------------------------------------------------------------\n"
     ]
    }
   ],
   "source": [
    "nlp = spacy.load('en_core_sci_lg')\n",
    "\n",
    "y_preds, y_targets = getTargetPreds(gs42Data, 'en_core_sci_lg:::42GS Test')\n",
    "printMetrics(y_preds, y_targets, '+ 42GS Test')\n",
    "\n",
    "y_preds, y_targets = getTargetPreds(gs91Data, 'en_core_sci_lg:::91GS Test')\n",
    "printMetrics(y_preds, y_targets, '+ 91GS Test')\n",
    "\n",
    "y_preds, y_targets = getTargetPreds(gsCombData, 'en_core_sci_lg:::133GS Test')\n",
    "printMetrics(y_preds, y_targets, '+ 133GS Test')"
   ]
  },
  {
   "cell_type": "code",
   "execution_count": 11,
   "id": "2605021f-eb95-490b-bd74-cdbad350284e",
   "metadata": {},
   "outputs": [
    {
     "data": {
      "image/png": "[encoded data removed]",
      "text/plain": [
       "<Figure size 432x288 with 1 Axes>"
      ]
     },
     "metadata": {
      "needs_background": "light"
     },
     "output_type": "display_data"
    },
    {
     "name": "stdout",
     "output_type": "stream",
     "text": [
      "\n",
      "SeqEval Metrics on sciSpacy + Synthetic 1866 Train / 622 Val + 42GS Test:\n",
      "\n",
      "              precision    recall  f1-score   support\n",
      "\n",
      "          KP       0.70      0.38      0.50       355\n",
      "\n",
      "   micro avg       0.70      0.38      0.50       355\n",
      "   macro avg       0.70      0.38      0.50       355\n",
      "weighted avg       0.70      0.38      0.50       355\n",
      "\n",
      "Precision given by SeqEval: 70.10%\n",
      "Recall given by SeqEval: 38.31%\n",
      "F1-Score given by SeqEval: 49.54%\n",
      "Accuracy given by SeqEval: 96.73%\n",
      "------------------------------------------------------------\n"
     ]
    },
    {
     "data": {
      "image/png": "[encoded data removed]",
      "text/plain": [
       "<Figure size 432x288 with 1 Axes>"
      ]
     },
     "metadata": {
      "needs_background": "light"
     },
     "output_type": "display_data"
    },
    {
     "name": "stdout",
     "output_type": "stream",
     "text": [
      "\n",
      "SeqEval Metrics on sciSpacy + Synthetic 1866 Train / 622 Val + 91GS Test:\n",
      "\n",
      "              precision    recall  f1-score   support\n",
      "\n",
      "          KP       0.73      0.64      0.68       393\n",
      "\n",
      "   micro avg       0.73      0.64      0.68       393\n",
      "   macro avg       0.73      0.64      0.68       393\n",
      "weighted avg       0.73      0.64      0.68       393\n",
      "\n",
      "Precision given by SeqEval: 72.62%\n",
      "Recall given by SeqEval: 64.12%\n",
      "F1-Score given by SeqEval: 68.11%\n",
      "Accuracy given by SeqEval: 98.88%\n",
      "------------------------------------------------------------\n"
     ]
    },
    {
     "data": {
      "image/png": "[encoded data removed]",
      "text/plain": [
       "<Figure size 432x288 with 1 Axes>"
      ]
     },
     "metadata": {
      "needs_background": "light"
     },
     "output_type": "display_data"
    },
    {
     "name": "stdout",
     "output_type": "stream",
     "text": [
      "\n",
      "SeqEval Metrics on sciSpacy + Synthetic 1866 Train / 622 Val + 133GS Test:\n",
      "\n",
      "              precision    recall  f1-score   support\n",
      "\n",
      "          KP       0.74      0.59      0.66       672\n",
      "\n",
      "   micro avg       0.74      0.59      0.66       672\n",
      "   macro avg       0.74      0.59      0.66       672\n",
      "weighted avg       0.74      0.59      0.66       672\n",
      "\n",
      "Precision given by SeqEval: 73.93%\n",
      "Recall given by SeqEval: 59.08%\n",
      "F1-Score given by SeqEval: 65.67%\n",
      "Accuracy given by SeqEval: 98.66%\n",
      "------------------------------------------------------------\n"
     ]
    }
   ],
   "source": [
    "nlp = spacy.load('../cdssSciSpacy/model-best')\n",
    "\n",
    "y_preds, y_targets = getTargetPreds(gs42Data, 'cdssSciSpacy:::42GS')\n",
    "printMetrics(y_preds, y_targets, '+ Synthetic 1866 Train / 622 Val + 42GS Test')\n",
    "\n",
    "y_preds, y_targets = getTargetPreds(gs91Data, 'cdssSciSpacy:::91GS')\n",
    "printMetrics(y_preds, y_targets, '+ Synthetic 1866 Train / 622 Val + 91GS Test')\n",
    "\n",
    "y_preds, y_targets = getTargetPreds(gsCombData, 'cdssSciSpacy:::133GS')\n",
    "printMetrics(y_preds, y_targets, '+ Synthetic 1866 Train / 622 Val + 133GS Test')"
   ]
  },
  {
   "cell_type": "code",
   "execution_count": 27,
   "id": "b571d1e3-365c-435a-9475-b428c6013906",
   "metadata": {},
   "outputs": [
    {
     "name": "stdout",
     "output_type": "stream",
     "text": [
      "huggingface/tokenizers: The current process just got forked, after parallelism has already been used. Disabling parallelism to avoid deadlocks...\n",
      "To disable this warning, you can either:\n",
      "\t- Avoid using `tokenizers` before the fork if possible\n",
      "\t- Explicitly set the environment variable TOKENIZERS_PARALLELISM=(true | false)\n",
      "\u001b[38;5;2m✔ Auto-filled config with all values\u001b[0m\n",
      "\u001b[38;5;2m✔ Saved config\u001b[0m\n",
      "config.cfg\n",
      "You can now add your data and train your pipeline:\n",
      "python -m spacy train config.cfg --paths.train ./train.spacy --paths.dev ./dev.spacy\n"
     ]
    }
   ],
   "source": [
    "## ROUND1 ::: STAGE2\n",
    "BASE_SCISPACY_42GS_CONFIG = '''\n",
    "# This is an auto-generated partial config. To use it with 'spacy train'\n",
    "# you can run spacy init fill-config to auto-fill all default settings:\n",
    "# python -m spacy init fill-config ./base_config.cfg ./config.cfg\n",
    "[paths]\n",
    "train = null\n",
    "dev = null\n",
    "vectors = null\n",
    "[system]\n",
    "gpu_allocator = \"pytorch\"\n",
    "\n",
    "[nlp]\n",
    "lang = \"en\"\n",
    "pipeline = [\"transformer\",\"ner\"]\n",
    "batch_size = 128\n",
    "\n",
    "[components]\n",
    "\n",
    "[components.transformer]\n",
    "factory = \"transformer\"\n",
    "\n",
    "[components.transformer.model]\n",
    "@architectures = \"spacy-transformers.TransformerModel.v3\"\n",
    "name = \"roberta-base\"\n",
    "#name = \"allenai/scibert_scivocab_cased\"\n",
    "tokenizer_config = {\"use_fast\": true}\n",
    "\n",
    "[components.transformer.model.get_spans]\n",
    "@span_getters = \"spacy-transformers.strided_spans.v1\"\n",
    "window = 128\n",
    "stride = 96\n",
    "\n",
    "[components.ner]\n",
    "source = \"../cdssSciSpacy/model-best\"\n",
    "\n",
    "[components.ner.model]\n",
    "@architectures = \"spacy.TransitionBasedParser.v2\"\n",
    "state_type = \"ner\"\n",
    "extra_state_tokens = false\n",
    "hidden_width = 64\n",
    "maxout_pieces = 2\n",
    "use_upper = false\n",
    "nO = null\n",
    "\n",
    "[components.ner.model.tok2vec]\n",
    "@architectures = \"spacy-transformers.TransformerListener.v1\"\n",
    "grad_factor = 1.0\n",
    "\n",
    "[components.ner.model.tok2vec.pooling]\n",
    "@layers = \"reduce_mean.v1\"\n",
    "\n",
    "[corpora]\n",
    "\n",
    "[corpora.train]\n",
    "@readers = \"spacy.Corpus.v1\"\n",
    "path = ${paths.train}\n",
    "max_length = 0\n",
    "\n",
    "[corpora.dev]\n",
    "@readers = \"spacy.Corpus.v1\"\n",
    "path = ${paths.dev}\n",
    "max_length = 0\n",
    "\n",
    "[training]\n",
    "accumulate_gradient = 3\n",
    "dev_corpus = \"corpora.dev\"\n",
    "train_corpus = \"corpora.train\"\n",
    "\n",
    "[training.optimizer]\n",
    "@optimizers = \"Adam.v1\"\n",
    "\n",
    "[training.optimizer.learn_rate]\n",
    "@schedules = \"warmup_linear.v1\"\n",
    "warmup_steps = 250\n",
    "total_steps = 20000\n",
    "initial_rate = 5e-5\n",
    "\n",
    "[training.batcher]\n",
    "@batchers = \"spacy.batch_by_padded.v1\"\n",
    "discard_oversize = true\n",
    "size = 2000\n",
    "buffer = 256\n",
    "\n",
    "[initialize]\n",
    "vectors = ${paths.vectors}\n",
    "\n",
    "[initialize.before_init]\n",
    "@callbacks: \"spacy.copy_from_base_model.v1\"\n",
    "tokenizer: \"../cdssSciSpacy/model-best\"\n",
    "vocab: \"../cdssSciSpacy/model-best\"\n",
    "'''\n",
    "with open('tempSpacy42GS.cfg','w') as f:\n",
    "    f.write(BASE_SCISPACY_42GS_CONFIG)\n",
    "\n",
    "!{sys.executable} -m spacy init fill-config tempSpacy42GS.cfg config.cfg"
   ]
  },
  {
   "cell_type": "code",
   "execution_count": 28,
   "id": "a5b3bf73-27a9-47e2-8fd5-788d6363744f",
   "metadata": {},
   "outputs": [
    {
     "name": "stdout",
     "output_type": "stream",
     "text": [
      "huggingface/tokenizers: The current process just got forked, after parallelism has already been used. Disabling parallelism to avoid deadlocks...\n",
      "To disable this warning, you can either:\n",
      "\t- Avoid using `tokenizers` before the fork if possible\n",
      "\t- Explicitly set the environment variable TOKENIZERS_PARALLELISM=(true | false)\n",
      "\u001b[38;5;2m✔ Created output directory: ../cdssSciSpacyGS42\u001b[0m\n",
      "\u001b[38;5;4mℹ Saving to output directory: ../cdssSciSpacyGS42\u001b[0m\n",
      "\u001b[38;5;4mℹ Using GPU: 0\u001b[0m\n",
      "\u001b[1m\n",
      "=========================== Initializing pipeline ===========================\u001b[0m\n",
      "[2022-09-03 17:52:06,974] [INFO] Set up nlp object from config\n",
      "[2022-09-03 17:52:06,986] [INFO] Pipeline: ['transformer', 'ner']\n",
      "[2022-09-03 17:52:06,986] [INFO] Resuming training for: ['ner']\n",
      "[2022-09-03 17:52:06,996] [INFO] Copying tokenizer from: ../cdssSciSpacy/model-best\n",
      "[2022-09-03 17:52:14,344] [INFO] Copying vocab from: ../cdssSciSpacy/model-best\n",
      "[2022-09-03 17:52:28,586] [INFO] Created vocabulary\n",
      "[2022-09-03 17:52:30,328] [INFO] Finished initializing nlp object\n",
      "Some weights of the model checkpoint at roberta-base were not used when initializing RobertaModel: ['lm_head.decoder.weight', 'lm_head.layer_norm.weight', 'lm_head.layer_norm.bias', 'lm_head.dense.bias', 'lm_head.bias', 'lm_head.dense.weight']\n",
      "- This IS expected if you are initializing RobertaModel from the checkpoint of a model trained on another task or with another architecture (e.g. initializing a BertForSequenceClassification model from a BertForPreTraining model).\n",
      "- This IS NOT expected if you are initializing RobertaModel from the checkpoint of a model that you expect to be exactly identical (initializing a BertForSequenceClassification model from a BertForSequenceClassification model).\n",
      "[2022-09-03 17:52:31,971] [INFO] Initialized pipeline components: ['transformer']\n",
      "\u001b[38;5;2m✔ Initialized pipeline\u001b[0m\n",
      "\u001b[1m\n",
      "============================= Training pipeline =============================\u001b[0m\n",
      "\u001b[38;5;4mℹ Pipeline: ['transformer', 'ner']\u001b[0m\n",
      "\u001b[38;5;4mℹ Initial learn rate: 0.0\u001b[0m\n",
      "E    #       LOSS TRANS...  LOSS NER  ENTS_F  ENTS_P  ENTS_R  SCORE \n",
      "---  ------  -------------  --------  ------  ------  ------  ------\n",
      "  0       0           0.00    221.29   40.95   33.59   52.44    0.41\n",
      " 40     200           0.00  75717.09   44.29   41.21   47.87    0.44\n",
      " 80     400           0.00  44501.66   47.31   46.47   48.17    0.47\n",
      "120     600           0.00  24143.71   49.13   46.70   51.83    0.49\n",
      "160     800           0.00  13842.00   49.20   47.08   51.52    0.49\n",
      "200    1000           0.00   8199.14   48.57   45.70   51.83    0.49\n",
      "240    1200           0.00   5194.41   50.00   48.30   51.83    0.50\n",
      "280    1400           0.00   3456.03   48.59   47.26   50.00    0.49\n",
      "320    1600           0.00   2447.29   47.32   46.22   48.48    0.47\n",
      "360    1800           0.00   1732.67   48.36   47.37   49.39    0.48\n",
      "400    2000           0.00   1354.87   47.29   46.73   47.87    0.47\n",
      "440    2200           0.00   1042.22   48.59   47.26   50.00    0.49\n",
      "480    2400           0.00    886.99   48.29   47.23   49.39    0.48\n",
      "520    2600           0.00    727.90   48.90   47.29   50.61    0.49\n",
      "560    2800           0.00    624.39   48.88   47.81   50.00    0.49\n",
      "\u001b[38;5;2m✔ Saved pipeline to output directory\u001b[0m\n",
      "../cdssSciSpacyGS42/model-last\n"
     ]
    }
   ],
   "source": [
    "## ROUND1 ::: STAGE2\n",
    "!{sys.executable} -m spacy train -g 0 config.cfg --output ../cdssSciSpacyGS42 --paths.train ../data/gs42Spacy_T.spacy --paths.dev ../data/gs42Spacy_V.spacy "
   ]
  },
  {
   "cell_type": "code",
   "execution_count": 12,
   "id": "4a1c49e3-c398-4ed2-88eb-9aa0230aab5f",
   "metadata": {},
   "outputs": [
    {
     "data": {
      "image/png": "[encoded data removed]",
      "text/plain": [
       "<Figure size 432x288 with 1 Axes>"
      ]
     },
     "metadata": {
      "needs_background": "light"
     },
     "output_type": "display_data"
    },
    {
     "name": "stdout",
     "output_type": "stream",
     "text": [
      "\n",
      "SeqEval Metrics on sciSpacy + Synthetic 1866 Train / 622 Val + 42GS 33 Train / 9 Val + 91GS Test:\n",
      "\n",
      "              precision    recall  f1-score   support\n",
      "\n",
      "          KP       0.57      0.64      0.60       310\n",
      "\n",
      "   micro avg       0.57      0.64      0.60       310\n",
      "   macro avg       0.57      0.64      0.60       310\n",
      "weighted avg       0.57      0.64      0.60       310\n",
      "\n",
      "Precision given by SeqEval: 57.06%\n",
      "Recall given by SeqEval: 63.87%\n",
      "F1-Score given by SeqEval: 60.27%\n",
      "Accuracy given by SeqEval: 98.79%\n",
      "------------------------------------------------------------\n"
     ]
    }
   ],
   "source": [
    "nlp = spacy.load('../cdssSciSpacyGS42/model-best')\n",
    "\n",
    "y_preds, y_targets = getTargetPreds(gs91Data, 'cdssSciSpacyGS42:::GS91')\n",
    "printMetrics(y_preds, y_targets, '+ Synthetic 1866 Train / 622 Val + 42GS 33 Train / 9 Val + 91GS Test')"
   ]
  },
  {
   "cell_type": "code",
   "execution_count": null,
   "id": "afcb0956-d645-486d-944a-e184f973f63a",
   "metadata": {},
   "outputs": [],
   "source": []
  },
  {
   "cell_type": "code",
   "execution_count": null,
   "id": "4a2cb8c8-c5be-4f5f-94cf-ceceeb664922",
   "metadata": {},
   "outputs": [],
   "source": []
  },
  {
   "cell_type": "code",
   "execution_count": null,
   "id": "3ff06c4b-65bb-44ab-a127-4fb80d97ec8b",
   "metadata": {},
   "outputs": [],
   "source": []
  },
  {
   "cell_type": "code",
   "execution_count": null,
   "id": "7805485f-6b6f-46fd-a82b-484ec28ac0c4",
   "metadata": {},
   "outputs": [],
   "source": []
  },
  {
   "cell_type": "markdown",
   "id": "640686e1-3f8f-4762-ac48-2832ef14f988",
   "metadata": {},
   "source": [
    "### Round 2:\n",
    "#### Stage 1: Fine-Tune Bio-Medical sciSpacy to CDSS Domain [Common to BOTH Experiments]\n",
    "sciSpacy >> Train/Val Synthetic DS >> cdssSciSpacy << Test Synthetic DS\n",
    "#### Stage 2: Fine-Tune Synthetic-CDSS-sciSpacy to GS-CDSS-sciSpacy\n",
    "cdssSciSpacy >> Train/Val GS91 DS >> cdssSciSpacyGS << Test G242 DS"
   ]
  },
  {
   "cell_type": "code",
   "execution_count": 30,
   "id": "474d98e3-047b-4397-ab7f-d60163186c6a",
   "metadata": {},
   "outputs": [
    {
     "name": "stdout",
     "output_type": "stream",
     "text": [
      "huggingface/tokenizers: The current process just got forked, after parallelism has already been used. Disabling parallelism to avoid deadlocks...\n",
      "To disable this warning, you can either:\n",
      "\t- Avoid using `tokenizers` before the fork if possible\n",
      "\t- Explicitly set the environment variable TOKENIZERS_PARALLELISM=(true | false)\n",
      "\u001b[38;5;2m✔ Created output directory: ../cdssSciSpacyGS91\u001b[0m\n",
      "\u001b[38;5;4mℹ Saving to output directory: ../cdssSciSpacyGS91\u001b[0m\n",
      "\u001b[38;5;4mℹ Using GPU: 0\u001b[0m\n",
      "\u001b[1m\n",
      "=========================== Initializing pipeline ===========================\u001b[0m\n",
      "[2022-09-03 18:31:33,089] [INFO] Set up nlp object from config\n",
      "[2022-09-03 18:31:33,103] [INFO] Pipeline: ['transformer', 'ner']\n",
      "[2022-09-03 18:31:33,103] [INFO] Resuming training for: ['ner']\n",
      "[2022-09-03 18:31:33,112] [INFO] Copying tokenizer from: ../cdssSciSpacy/model-best\n",
      "[2022-09-03 18:31:40,590] [INFO] Copying vocab from: ../cdssSciSpacy/model-best\n",
      "[2022-09-03 18:31:53,996] [INFO] Created vocabulary\n",
      "[2022-09-03 18:31:55,637] [INFO] Finished initializing nlp object\n",
      "Some weights of the model checkpoint at roberta-base were not used when initializing RobertaModel: ['lm_head.dense.weight', 'lm_head.dense.bias', 'lm_head.layer_norm.bias', 'lm_head.bias', 'lm_head.layer_norm.weight', 'lm_head.decoder.weight']\n",
      "- This IS expected if you are initializing RobertaModel from the checkpoint of a model trained on another task or with another architecture (e.g. initializing a BertForSequenceClassification model from a BertForPreTraining model).\n",
      "- This IS NOT expected if you are initializing RobertaModel from the checkpoint of a model that you expect to be exactly identical (initializing a BertForSequenceClassification model from a BertForSequenceClassification model).\n",
      "[2022-09-03 18:31:57,285] [INFO] Initialized pipeline components: ['transformer']\n",
      "\u001b[38;5;2m✔ Initialized pipeline\u001b[0m\n",
      "\u001b[1m\n",
      "============================= Training pipeline =============================\u001b[0m\n",
      "\u001b[38;5;4mℹ Pipeline: ['transformer', 'ner']\u001b[0m\n",
      "\u001b[38;5;4mℹ Initial learn rate: 0.0\u001b[0m\n",
      "E    #       LOSS TRANS...  LOSS NER  ENTS_F  ENTS_P  ENTS_R  SCORE \n",
      "---  ------  -------------  --------  ------  ------  ------  ------\n",
      "  0       0           0.00      0.01   49.34   47.53   51.29    0.49\n",
      " 22     200           0.00  42513.70   50.19   51.55   48.90    0.50\n",
      " 44     400           0.00  33828.81   51.08   52.00   50.18    0.51\n",
      " 66     600           0.00  24623.32   51.36   52.39   50.37    0.51\n",
      " 88     800           0.00  19156.16   51.68   52.46   50.92    0.52\n",
      "111    1000           0.00  14916.74   52.42   52.09   52.76    0.52\n",
      "133    1200           0.00  11771.76   51.83   51.64   52.02    0.52\n",
      "155    1400           0.00   9380.25   51.01   51.11   50.92    0.51\n",
      "177    1600           0.00   7552.48   50.60   50.64   50.55    0.51\n",
      "200    1800           0.00   5995.48   50.55   50.00   51.10    0.51\n",
      "222    2000           0.00   4966.74   50.88   51.02   50.74    0.51\n",
      "244    2200           0.00   4070.81   50.60   50.83   50.37    0.51\n",
      "266    2400           0.00   3424.70   51.06   51.20   50.92    0.51\n",
      "288    2600           0.00   2948.06   50.69   50.46   50.92    0.51\n",
      "\u001b[38;5;2m✔ Saved pipeline to output directory\u001b[0m\n",
      "../cdssSciSpacyGS91/model-last\n"
     ]
    }
   ],
   "source": [
    "## ROUND2 ::: STAGE2\n",
    "!{sys.executable} -m spacy train -g 0 config.cfg --output ../cdssSciSpacyGS91 --paths.train ../data/gs91Spacy_T.spacy --paths.dev ../data/gs91Spacy_V.spacy "
   ]
  },
  {
   "cell_type": "code",
   "execution_count": 13,
   "id": "07f4c179-7922-444f-bb64-78c8a056d763",
   "metadata": {},
   "outputs": [
    {
     "data": {
      "image/png": "[encoded data removed]",
      "text/plain": [
       "<Figure size 432x288 with 1 Axes>"
      ]
     },
     "metadata": {
      "needs_background": "light"
     },
     "output_type": "display_data"
    },
    {
     "name": "stdout",
     "output_type": "stream",
     "text": [
      "\n",
      "SeqEval Metrics on sciSpacy + Synthetic 1866 Train / 622 Val + 91GS 72 Train / 19 Val + 42GS Test:\n",
      "\n",
      "              precision    recall  f1-score   support\n",
      "\n",
      "          KP       0.66      0.38      0.48       341\n",
      "\n",
      "   micro avg       0.66      0.38      0.48       341\n",
      "   macro avg       0.66      0.38      0.48       341\n",
      "weighted avg       0.66      0.38      0.48       341\n",
      "\n",
      "Precision given by SeqEval: 65.98%\n",
      "Recall given by SeqEval: 37.54%\n",
      "F1-Score given by SeqEval: 47.85%\n",
      "Accuracy given by SeqEval: 96.70%\n",
      "------------------------------------------------------------\n"
     ]
    }
   ],
   "source": [
    "nlp = spacy.load('../cdssSciSpacyGS91/model-best')\n",
    "\n",
    "y_preds, y_targets = getTargetPreds(gs42Data, 'cdssSciSpacyGS91:::42GS')\n",
    "printMetrics(y_preds, y_targets, '+ Synthetic 1866 Train / 622 Val + 91GS 72 Train / 19 Val + 42GS Test')"
   ]
  },
  {
   "cell_type": "markdown",
   "id": "c6af299f-189d-4b33-a4d5-13b4678646ff",
   "metadata": {},
   "source": [
    "### Round 3:\n",
    "#### Stage 1: Fine-Tune Bio-Medical sciSpacy to CDSS Domain [Common to BOTH Experiments]\n",
    "sciSpacy >> Train/Val Synthetic DS >> cdssSciSpacy << Test Synthetic DS\n",
    "#### Stage 2: Experiment 50 Times ::: Fine-Tune Synthetic-CDSS-sciSpacy to Random Sample GS133 - 52 Train / 14 Validate / 67 Test\n",
    "cdssSciSpacy >> Train/Val GS66 DS >> cdssSciSpacyGS << Test GS67 DS"
   ]
  },
  {
   "cell_type": "code",
   "execution_count": 1,
   "id": "1d864a7c-b38b-4f3d-8199-53a74e9553b1",
   "metadata": {},
   "outputs": [
    {
     "data": {
      "text/html": [
       "<div>\n",
       "<style scoped>\n",
       "    .dataframe tbody tr th:only-of-type {\n",
       "        vertical-align: middle;\n",
       "    }\n",
       "\n",
       "    .dataframe tbody tr th {\n",
       "        vertical-align: top;\n",
       "    }\n",
       "\n",
       "    .dataframe thead th {\n",
       "        text-align: right;\n",
       "    }\n",
       "</style>\n",
       "<table border=\"1\" class=\"dataframe\">\n",
       "  <thead>\n",
       "    <tr style=\"text-align: right;\">\n",
       "      <th></th>\n",
       "      <th>No.</th>\n",
       "      <th>Precision</th>\n",
       "      <th>Recall</th>\n",
       "      <th>F1Score</th>\n",
       "      <th>Accuracy</th>\n",
       "    </tr>\n",
       "  </thead>\n",
       "  <tbody>\n",
       "    <tr>\n",
       "      <th>count</th>\n",
       "      <td>50.00000</td>\n",
       "      <td>50.000000</td>\n",
       "      <td>50.000000</td>\n",
       "      <td>50.000000</td>\n",
       "      <td>50.000000</td>\n",
       "    </tr>\n",
       "    <tr>\n",
       "      <th>mean</th>\n",
       "      <td>25.50000</td>\n",
       "      <td>63.354669</td>\n",
       "      <td>61.767123</td>\n",
       "      <td>62.173416</td>\n",
       "      <td>98.668695</td>\n",
       "    </tr>\n",
       "    <tr>\n",
       "      <th>std</th>\n",
       "      <td>14.57738</td>\n",
       "      <td>7.703414</td>\n",
       "      <td>9.473819</td>\n",
       "      <td>7.414468</td>\n",
       "      <td>0.588110</td>\n",
       "    </tr>\n",
       "    <tr>\n",
       "      <th>min</th>\n",
       "      <td>1.00000</td>\n",
       "      <td>47.783251</td>\n",
       "      <td>37.658228</td>\n",
       "      <td>46.491228</td>\n",
       "      <td>96.777793</td>\n",
       "    </tr>\n",
       "    <tr>\n",
       "      <th>25%</th>\n",
       "      <td>13.25000</td>\n",
       "      <td>57.766272</td>\n",
       "      <td>58.383865</td>\n",
       "      <td>58.303158</td>\n",
       "      <td>98.412014</td>\n",
       "    </tr>\n",
       "    <tr>\n",
       "      <th>50%</th>\n",
       "      <td>25.50000</td>\n",
       "      <td>64.065671</td>\n",
       "      <td>62.913147</td>\n",
       "      <td>62.781920</td>\n",
       "      <td>98.764402</td>\n",
       "    </tr>\n",
       "    <tr>\n",
       "      <th>75%</th>\n",
       "      <td>37.75000</td>\n",
       "      <td>69.629364</td>\n",
       "      <td>68.457557</td>\n",
       "      <td>68.022469</td>\n",
       "      <td>99.099252</td>\n",
       "    </tr>\n",
       "    <tr>\n",
       "      <th>max</th>\n",
       "      <td>50.00000</td>\n",
       "      <td>79.338843</td>\n",
       "      <td>77.358491</td>\n",
       "      <td>75.889328</td>\n",
       "      <td>99.668325</td>\n",
       "    </tr>\n",
       "  </tbody>\n",
       "</table>\n",
       "</div>"
      ],
      "text/plain": [
       "            No.  Precision     Recall    F1Score   Accuracy\n",
       "count  50.00000  50.000000  50.000000  50.000000  50.000000\n",
       "mean   25.50000  63.354669  61.767123  62.173416  98.668695\n",
       "std    14.57738   7.703414   9.473819   7.414468   0.588110\n",
       "min     1.00000  47.783251  37.658228  46.491228  96.777793\n",
       "25%    13.25000  57.766272  58.383865  58.303158  98.412014\n",
       "50%    25.50000  64.065671  62.913147  62.781920  98.764402\n",
       "75%    37.75000  69.629364  68.457557  68.022469  99.099252\n",
       "max    50.00000  79.338843  77.358491  75.889328  99.668325"
      ]
     },
     "execution_count": 1,
     "metadata": {},
     "output_type": "execute_result"
    }
   ],
   "source": [
    "import pandas as pd\n",
    "\n",
    "df = pd.read_csv('../results/cdssSpacyExp/cdssSpacyExp_results.csv', sep=';')\n",
    "\n",
    "df.describe()"
   ]
  },
  {
   "cell_type": "code",
   "execution_count": 2,
   "id": "3fc3e607-cfaa-4026-b6f8-2f25a5d80f24",
   "metadata": {},
   "outputs": [
    {
     "data": {
      "text/plain": [
       "<AxesSubplot:>"
      ]
     },
     "execution_count": 2,
     "metadata": {},
     "output_type": "execute_result"
    },
    {
     "data": {
      "image/png": "[encoded data removed]",
      "text/plain": [
       "<Figure size 1080x720 with 1 Axes>"
      ]
     },
     "metadata": {
      "needs_background": "light"
     },
     "output_type": "display_data"
    }
   ],
   "source": [
    "df.boxplot(column=['Precision', 'Recall', 'F1Score','Accuracy'],figsize=(15, 10))  "
   ]
  },
  {
   "cell_type": "code",
   "execution_count": 4,
   "id": "cb81aae5-8859-495b-b66d-dd75f49f8682",
   "metadata": {},
   "outputs": [
    {
     "data": {
      "text/html": [
       "<div>\n",
       "<style scoped>\n",
       "    .dataframe tbody tr th:only-of-type {\n",
       "        vertical-align: middle;\n",
       "    }\n",
       "\n",
       "    .dataframe tbody tr th {\n",
       "        vertical-align: top;\n",
       "    }\n",
       "\n",
       "    .dataframe thead th {\n",
       "        text-align: right;\n",
       "    }\n",
       "</style>\n",
       "<table border=\"1\" class=\"dataframe\">\n",
       "  <thead>\n",
       "    <tr style=\"text-align: right;\">\n",
       "      <th></th>\n",
       "      <th>No.</th>\n",
       "      <th>Precision</th>\n",
       "      <th>Recall</th>\n",
       "      <th>F1Score</th>\n",
       "      <th>Accuracy</th>\n",
       "    </tr>\n",
       "  </thead>\n",
       "  <tbody>\n",
       "    <tr>\n",
       "      <th>count</th>\n",
       "      <td>50.00000</td>\n",
       "      <td>50.000000</td>\n",
       "      <td>50.000000</td>\n",
       "      <td>50.000000</td>\n",
       "      <td>50.000000</td>\n",
       "    </tr>\n",
       "    <tr>\n",
       "      <th>mean</th>\n",
       "      <td>25.50000</td>\n",
       "      <td>57.388151</td>\n",
       "      <td>54.262225</td>\n",
       "      <td>55.390315</td>\n",
       "      <td>98.557063</td>\n",
       "    </tr>\n",
       "    <tr>\n",
       "      <th>std</th>\n",
       "      <td>14.57738</td>\n",
       "      <td>9.037766</td>\n",
       "      <td>9.737854</td>\n",
       "      <td>8.221835</td>\n",
       "      <td>0.532450</td>\n",
       "    </tr>\n",
       "    <tr>\n",
       "      <th>min</th>\n",
       "      <td>1.00000</td>\n",
       "      <td>31.355932</td>\n",
       "      <td>38.914027</td>\n",
       "      <td>38.743455</td>\n",
       "      <td>97.342033</td>\n",
       "    </tr>\n",
       "    <tr>\n",
       "      <th>25%</th>\n",
       "      <td>13.25000</td>\n",
       "      <td>52.606650</td>\n",
       "      <td>47.501840</td>\n",
       "      <td>49.899111</td>\n",
       "      <td>98.216359</td>\n",
       "    </tr>\n",
       "    <tr>\n",
       "      <th>50%</th>\n",
       "      <td>25.50000</td>\n",
       "      <td>58.607162</td>\n",
       "      <td>53.328411</td>\n",
       "      <td>56.575097</td>\n",
       "      <td>98.672409</td>\n",
       "    </tr>\n",
       "    <tr>\n",
       "      <th>75%</th>\n",
       "      <td>37.75000</td>\n",
       "      <td>63.257803</td>\n",
       "      <td>60.468762</td>\n",
       "      <td>61.396326</td>\n",
       "      <td>98.892162</td>\n",
       "    </tr>\n",
       "    <tr>\n",
       "      <th>max</th>\n",
       "      <td>50.00000</td>\n",
       "      <td>73.109244</td>\n",
       "      <td>75.434243</td>\n",
       "      <td>72.640382</td>\n",
       "      <td>99.479468</td>\n",
       "    </tr>\n",
       "  </tbody>\n",
       "</table>\n",
       "</div>"
      ],
      "text/plain": [
       "            No.  Precision     Recall    F1Score   Accuracy\n",
       "count  50.00000  50.000000  50.000000  50.000000  50.000000\n",
       "mean   25.50000  57.388151  54.262225  55.390315  98.557063\n",
       "std    14.57738   9.037766   9.737854   8.221835   0.532450\n",
       "min     1.00000  31.355932  38.914027  38.743455  97.342033\n",
       "25%    13.25000  52.606650  47.501840  49.899111  98.216359\n",
       "50%    25.50000  58.607162  53.328411  56.575097  98.672409\n",
       "75%    37.75000  63.257803  60.468762  61.396326  98.892162\n",
       "max    50.00000  73.109244  75.434243  72.640382  99.479468"
      ]
     },
     "execution_count": 4,
     "metadata": {},
     "output_type": "execute_result"
    }
   ],
   "source": [
    "df = pd.read_csv('../results/cdssSpacyExp/sciSpacyExp42GS_results.csv', sep=';')\n",
    "df.describe()"
   ]
  },
  {
   "cell_type": "code",
   "execution_count": 5,
   "id": "94f05b9d-b234-4a41-badc-5642568aebcd",
   "metadata": {},
   "outputs": [
    {
     "data": {
      "text/plain": [
       "<AxesSubplot:>"
      ]
     },
     "execution_count": 5,
     "metadata": {},
     "output_type": "execute_result"
    },
    {
     "data": {
      "image/png": "[encoded data removed]",
      "text/plain": [
       "<Figure size 1080x720 with 1 Axes>"
      ]
     },
     "metadata": {
      "needs_background": "light"
     },
     "output_type": "display_data"
    }
   ],
   "source": [
    "df.boxplot(column=['Precision', 'Recall', 'F1Score','Accuracy'],figsize=(15, 10))  "
   ]
  },
  {
   "cell_type": "code",
   "execution_count": null,
   "id": "a8693596-d8ba-476f-8aa0-83c3ea5521c8",
   "metadata": {},
   "outputs": [],
   "source": []
  }
 ],
 "metadata": {
  "kernelspec": {
   "display_name": "Python 3",
   "language": "python",
   "name": "python3"
  },
  "language_info": {
   "codemirror_mode": {
    "name": "ipython",
    "version": 3
   },
   "file_extension": ".py",
   "mimetype": "text/x-python",
   "name": "python",
   "nbconvert_exporter": "python",
   "pygments_lexer": "ipython3",
   "version": "3.9.12"
  },
  "vscode": {
   "interpreter": {
    "hash": "b0fa6594d8f4cbf19f97940f81e996739fb7646882a419484c72d19e05852a7e"
   }
  }
 },
 "nbformat": 4,
 "nbformat_minor": 5
}
