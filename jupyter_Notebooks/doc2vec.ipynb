{
 "cells": [
  {
   "cell_type": "code",
   "execution_count": 1,
   "id": "df4f5e8b-fa9b-4ec7-8883-091c84353c6e",
   "metadata": {},
   "outputs": [
    {
     "output_type": "stream",
     "name": "stderr",
     "text": [
      "/home/rgoli/.conda/envs/pytorch/lib/python3.8/site-packages/spacy/util.py:833: UserWarning: [W095] Model 'en_core_sci_lg' (0.4.0) was trained with spaCy v3.0 and may not be 100% compatible with the current version (3.2.4). If you see errors or degraded performance, download a newer compatible model or retrain your custom model with the current spaCy version. For more details and available updates, run: python -m spacy validate\n",
      "  warnings.warn(warn_msg)\n",
      "/home/rgoli/.local/lib/python3.8/site-packages/sklearn/base.py:324: UserWarning: Trying to unpickle estimator TfidfTransformer from version 0.20.3 when using version 1.0.1. This might lead to breaking code or invalid results. Use at your own risk. For more info please refer to:\n",
      "https://scikit-learn.org/stable/modules/model_persistence.html#security-maintainability-limitations\n",
      "  warnings.warn(\n",
      "/home/rgoli/.local/lib/python3.8/site-packages/sklearn/base.py:324: UserWarning: Trying to unpickle estimator TfidfVectorizer from version 0.20.3 when using version 1.0.1. This might lead to breaking code or invalid results. Use at your own risk. For more info please refer to:\n",
      "https://scikit-learn.org/stable/modules/model_persistence.html#security-maintainability-limitations\n",
      "  warnings.warn(\n"
     ]
    }
   ],
   "source": [
    "import json \n",
    "import spacy\n",
    "import scispacy\n",
    "from scispacy.linking import EntityLinker\n",
    "import pubmed_parser as pp\n",
    "from gensim.models.doc2vec import Doc2Vec, TaggedDocument\n",
    "\n",
    "nlp = spacy.load(\"en_core_sci_lg\")\n",
    "nlp.add_pipe(\"scispacy_linker\", config={\"resolve_abbreviations\": True, \"linker_name\": \"umls\"})\n",
    "\n",
    "dicts_out = pp.parse_medline_xml('../data/pubmed_data/raw_data/44_abstracts_test.xml',\n",
    "                                 year_info_only=False,\n",
    "                                 nlm_category=False,\n",
    "                                 author_list=False,\n",
    "                                 reference_list=False)"
   ]
  },
  {
   "cell_type": "code",
   "execution_count": 2,
   "id": "a32b9064-4d1a-4e98-bf6d-c26174f3a1de",
   "metadata": {},
   "outputs": [
    {
     "output_type": "execute_result",
     "data": {
      "text/plain": [
       "{'title': 'ASTI: a guideline-based drug-ordering system for primary care.',\n",
       " 'abstract': 'Existing computer-based ordering systems for physicians provide effective drug-centered checks but offer little assistance for optimizing the overall patient-centered treatment strategy. Evidence-based clinical practice guidelines have been developed to disseminate state-of-the-art information concerning treatment strategy but these guidelines are poorly used in routine practice. The ASTI project aims to design a guideline-based ordering system to enable general practitioners to avoid prescription errors and to improve compliance with best therapeutic practices. The \" critic mode \" operates as a background process and corrects the physician\\'s prescription on the basis of automatically triggered elementary rules that account for isolated guideline recommendations. The \" guided mode \" directs the physician to the best treatment by browsing a comprehensive guideline knowledge base represented as a decision tree. A first prototype, applied to hypertension, is currently under development.',\n",
       " 'journal': 'Studies in health technology and informatics',\n",
       " 'authors': 'B Séroussi;J Bouaud;H Dréau;H Falcoff;C Riou;M Joubert;C Simon;G Simon;A Venot',\n",
       " 'pubdate': '2001',\n",
       " 'pmid': '11604796',\n",
       " 'pmc': '',\n",
       " 'mesh_terms': \"D020000:Decision Support Systems, Clinical; D011307:Drug Prescriptions; D004360:Drug Therapy, Computer-Assisted; D006801:Humans; D017410:Practice Guidelines as Topic; D010818:Practice Patterns, Physicians'; D011320:Primary Health Care\",\n",
       " 'publication_types': \"D016428:Journal Article; D013485:Research Support, Non-U.S. Gov't\",\n",
       " 'chemical_list': '',\n",
       " 'keywords': '',\n",
       " 'doi': '',\n",
       " 'references': '',\n",
       " 'delete': False,\n",
       " 'affiliations': \"Service d'Informatique Médicale, DSI/AP-HP, 75634 Paris, France. bs@biomath.jussieu.fr\",\n",
       " 'medline_ta': 'Stud Health Technol Inform',\n",
       " 'nlm_unique_id': '9214582',\n",
       " 'issn_linking': '0926-9630',\n",
       " 'country': 'Netherlands'}"
      ]
     },
     "metadata": {},
     "execution_count": 2
    }
   ],
   "source": [
    "dicts_out[0]"
   ]
  },
  {
   "cell_type": "code",
   "execution_count": 3,
   "id": "fcf8242a-4a42-43ad-a8f5-304a7993719e",
   "metadata": {},
   "outputs": [
    {
     "output_type": "execute_result",
     "data": {
      "text/plain": [
       "42"
      ]
     },
     "metadata": {},
     "execution_count": 3
    }
   ],
   "source": [
    "len(dicts_out)"
   ]
  },
  {
   "cell_type": "code",
   "execution_count": 4,
   "id": "2e6d673f-4259-446d-9418-6e62f4e3beb2",
   "metadata": {},
   "outputs": [],
   "source": [
    "comb_arr=[]\n",
    "pmid_arr =[]\n",
    "for paper in dicts_out:\n",
    "    comb_arr.append(paper['title']+' '+paper['abstract'])\n",
    "    pmid_arr.append(paper['pmid'])"
   ]
  },
  {
   "cell_type": "code",
   "execution_count": 33,
   "id": "0fac132c-b796-4424-aec3-17f3aeac61a5",
   "metadata": {},
   "outputs": [
    {
     "output_type": "stream",
     "name": "stderr",
     "text": [
      "/home/rgoli/.conda/envs/pytorch/lib/python3.8/site-packages/scispacy/candidate_generation.py:284: VisibleDeprecationWarning: Creating an ndarray from ragged nested sequences (which is a list-or-tuple of lists-or-tuples-or ndarrays with different lengths or shapes) is deprecated. If you meant to do this, you must specify 'dtype=object' when creating the ndarray.\n  extended_neighbors[empty_vectors_boolean_flags] = numpy.array(neighbors)[:-1]\n/home/rgoli/.conda/envs/pytorch/lib/python3.8/site-packages/scispacy/candidate_generation.py:285: VisibleDeprecationWarning: Creating an ndarray from ragged nested sequences (which is a list-or-tuple of lists-or-tuples-or ndarrays with different lengths or shapes) is deprecated. If you meant to do this, you must specify 'dtype=object' when creating the ndarray.\n  extended_distances[empty_vectors_boolean_flags] = numpy.array(distances)[:-1]\n"
     ]
    }
   ],
   "source": [
    "documents =[]\n",
    "\n",
    "doc_id=0\n",
    "for doc in nlp.pipe(comb_arr):\n",
    "    # sents = [str(x) for x in doc.sents]\n",
    "    text = [token.orth_ for token in doc if not token.is_punct | token.is_space]\n",
    "    # text = [token.orth_ for token in doc if not token.is_space]\n",
    "    documents.append(TaggedDocument(text, [doc_id]))\n",
    "    doc_id+=1"
   ]
  },
  {
   "cell_type": "code",
   "execution_count": 34,
   "id": "465e80ea-640e-4785-820c-4845ad71d64e",
   "metadata": {},
   "outputs": [
    {
     "output_type": "execute_result",
     "data": {
      "text/plain": [
       "[TaggedDocument(words=['ASTI', 'a', 'guideline-based', 'drug-ordering', 'system', 'for', 'primary', 'care', 'Existing', 'computer-based', 'ordering', 'systems', 'for', 'physicians', 'provide', 'effective', 'drug-centered', 'checks', 'but', 'offer', 'little', 'assistance', 'for', 'optimizing', 'the', 'overall', 'patient-centered', 'treatment', 'strategy', 'Evidence-based', 'clinical', 'practice', 'guidelines', 'have', 'been', 'developed', 'to', 'disseminate', 'state-of-the-art', 'information', 'concerning', 'treatment', 'strategy', 'but', 'these', 'guidelines', 'are', 'poorly', 'used', 'in', 'routine', 'practice', 'The', 'ASTI', 'project', 'aims', 'to', 'design', 'a', 'guideline-based', 'ordering', 'system', 'to', 'enable', 'general', 'practitioners', 'to', 'avoid', 'prescription', 'errors', 'and', 'to', 'improve', 'compliance', 'with', 'best', 'therapeutic', 'practices', 'The', 'critic', 'mode', 'operates', 'as', 'a', 'background', 'process', 'and', 'corrects', 'the', 'physician', \"'s\", 'prescription', 'on', 'the', 'basis', 'of', 'automatically', 'triggered', 'elementary', 'rules', 'that', 'account', 'for', 'isolated', 'guideline', 'recommendations', 'The', 'guided', 'mode', 'directs', 'the', 'physician', 'to', 'the', 'best', 'treatment', 'by', 'browsing', 'a', 'comprehensive', 'guideline', 'knowledge', 'base', 'represented', 'as', 'a', 'decision', 'tree', 'A', 'first', 'prototype', 'applied', 'to', 'hypertension', 'is', 'currently', 'under', 'development'], tags=[0]),\n",
       " TaggedDocument(words=['Construction', 'of', 'a', 'clinical', 'decision', 'support', 'system', 'for', 'undergoing', 'surgery', 'based', 'on', 'domain', 'ontology', 'and', 'rules', 'reasoning', 'OBJECTIVE', 'To', 'construct', 'a', 'clinical', 'decision', 'support', 'system', 'CDSS', 'for', 'undergoing', 'surgery', 'based', 'on', 'domain', 'ontology', 'and', 'rules', 'reasoning', 'in', 'the', 'setting', 'of', 'hospitalized', 'diabetic', 'patients', 'MATERIALS', 'AND', 'METHODS', 'The', 'ontology', 'was', 'created', 'with', 'a', 'modified', 'ontology', 'development', 'method', 'including', 'specification', 'and', 'conceptualization', 'formalization', 'implementation', 'and', 'evaluation', 'and', 'maintenance', 'The', 'Protégé-Web', 'Ontology', 'Language', 'editor', 'was', 'used', 'to', 'implement', 'the', 'ontology', 'Embedded', 'clinical', 'knowledge', 'was', 'elicited', 'to', 'complement', 'the', 'domain', 'ontology', 'with', 'formal', 'concept', 'analysis', 'The', 'decision', 'rules', 'were', 'translated', 'into', 'JENA', 'format', 'which', 'JENA', 'can', 'use', 'to', 'infer', 'recommendations', 'based', 'on', 'patient', 'clinical', 'situations', 'RESULTS', 'The', 'ontology', 'includes', '31', 'classes', 'and', '13', 'properties', 'plus', '38', 'JENA', 'rules', 'that', 'were', 'built', 'to', 'generate', 'recommendations', 'The', 'evaluation', 'studies', 'confirmed', 'the', 'correctness', 'of', 'the', 'ontology', 'acceptance', 'of', 'recommendations', 'satisfaction', 'with', 'the', 'system', 'and', 'usefulness', 'of', 'the', 'ontology', 'for', 'glycemic', 'management', 'of', 'diabetic', 'patients', 'undergoing', 'surgery', 'especially', 'for', 'domain', 'experts', 'CONCLUSIONS', 'The', 'contribution', 'of', 'this', 'research', 'is', 'to', 'set', 'up', 'an', 'evidence-based', 'hybrid', 'ontology', 'and', 'an', 'evaluation', 'method', 'for', 'CDSS', 'The', 'system', 'can', 'help', 'clinicians', 'to', 'achieve', 'inpatient', 'glycemic', 'control', 'in', 'diabetic', 'patients', 'undergoing', 'surgery', 'while', 'avoiding', 'hypoglycemia'], tags=[1])]"
      ]
     },
     "metadata": {},
     "execution_count": 34
    }
   ],
   "source": [
    "documents[0:2]"
   ]
  },
  {
   "cell_type": "code",
   "execution_count": 56,
   "id": "475bcee9-565f-44b8-8985-b8f15bb50019",
   "metadata": {},
   "outputs": [],
   "source": [
    "# model = Doc2Vec(documents, vector_size=50, window=30, min_count=2, workers=1, epochs=40, seed=42)\n",
    "model = Doc2Vec(documents, vector_size=128, shrink_windows=True, min_count=2, workers=1, epochs=40, seed=42)"
   ]
  },
  {
   "cell_type": "code",
   "execution_count": 66,
   "id": "7a26c3a4-4b4d-464e-b7de-1b84afb13e88",
   "metadata": {},
   "outputs": [
    {
     "output_type": "execute_result",
     "data": {
      "text/plain": [
       "array([-0.33529308,  0.00414462,  0.34992164,  0.01153625, -0.13112226,\n",
       "        0.2744652 ,  0.16004454, -0.26437718, -0.07256277, -0.25427637,\n",
       "        0.55504876, -0.4460526 ,  0.44256127, -0.44208002,  0.01014696,\n",
       "        0.43693516, -0.504732  ,  0.02661002, -0.42967793, -0.02594503,\n",
       "        0.11093866,  0.76053536,  0.10422097,  0.14614084,  0.3729742 ,\n",
       "        0.326285  ,  0.00145865, -0.06264268,  0.16383515, -0.15524615,\n",
       "        0.25348425, -0.3862859 ,  0.2309519 , -0.6686532 ,  0.488442  ,\n",
       "       -0.2353975 ,  0.14880599,  0.6815336 , -0.00150042, -0.38059917,\n",
       "       -0.36264238,  0.7384407 ,  0.15221977,  0.6478087 ,  0.27911428,\n",
       "        0.13441204, -0.08679418,  0.22578771, -0.1164505 ,  0.12677194,\n",
       "       -0.46965516, -0.34450796,  0.20098211, -0.28952408, -0.15831755,\n",
       "       -0.32604113,  0.22450778,  0.03892839,  0.30745432, -0.02661484,\n",
       "        0.1651819 , -0.2671483 ,  0.7422471 ,  0.16411254, -0.26512545,\n",
       "       -0.02638624, -0.17873889,  0.09976531, -0.01144623, -0.03467292,\n",
       "        0.46015096,  0.01041448, -0.26044977, -0.11283349, -0.55414337,\n",
       "        0.06942376,  0.44934702, -0.28512183, -0.1471507 , -0.30030948,\n",
       "        0.09981077,  0.00927656,  0.24655508,  0.13501555, -0.86248195,\n",
       "       -0.00294203, -0.37515306,  0.34276927, -0.0771222 , -0.11881988,\n",
       "       -0.42665154,  0.17737392, -0.09739304, -0.10249011,  0.16497803,\n",
       "       -0.0548581 ,  0.32086664, -0.44935971,  0.0433305 ,  0.6798834 ,\n",
       "        0.28239933, -0.04571238, -0.03047981, -0.18945359,  0.13953741,\n",
       "        0.06133225,  0.24057475, -0.01295307, -0.30138728, -0.16775091,\n",
       "        0.15345655, -0.1214015 ,  0.01716785,  0.01649827,  0.28355297,\n",
       "       -0.3435343 , -0.15197286, -0.13689147, -0.24823608,  0.4173571 ,\n",
       "       -0.42070803,  0.17840713,  0.2823271 ,  0.09492526,  0.7447202 ,\n",
       "       -0.3283107 , -0.6449882 ,  0.47816372], dtype=float32)"
      ]
     },
     "metadata": {},
     "execution_count": 66
    }
   ],
   "source": [
    "##https://radimrehurek.com/gensim/models/doc2vec.html\n",
    "vector = model.infer_vector(['Continuous', 'cardiorespiratory', 'monitoring', 'is', 'a', 'dominant', 'source', 'of', 'predictive', 'signal', 'in', 'machine', 'learning', 'for', 'risk', 'stratification', 'and', 'clinical', 'decision', 'support', 'Beaulieu-Jones', 'and', 'coworkers', 'propose', 'a', 'litmus', 'test', 'for', 'the', 'field', 'of', 'predictive', 'analytics-performance', 'improvements', 'must', 'be', 'demonstrated', 'to', 'be', 'the', 'result', 'of', 'non-clinician-initiated', 'data', 'otherwise', 'there', 'should', 'be', 'caution', 'in', 'assuming', 'that', 'predictive', 'models', 'could', 'improve', 'clinical', 'decision-making', 'Beaulieu-Joneset', 'al2021', 'They', 'demonstrate', 'substantial', 'prognostic', 'information', 'in', 'unsorted', 'physician', 'orders', 'made', 'before', 'the', 'first', 'midnight', 'of', 'hospital', 'admission', 'and', 'we', 'are', 'persuaded', 'that', 'it', 'is', 'fair', 'to', 'ask-if', 'the', 'physician', 'thought', 'of', 'it', 'first', 'what', 'exactly', 'is', 'machine', 'learning', 'for', 'in-patient', 'risk', 'stratification', 'learning', 'about', 'While', 'we', 'want', 'predictive', 'analytics', 'to', 'represent', 'the', 'leading', 'indicators', 'of', 'a', 'patient', \"'s\", 'illness', 'does', 'it', 'instead', 'merely', 'reflect', 'the', 'lagging', 'indicators', 'of', 'clinicians', 'actions', 'We', 'propose', 'that', 'continuous', 'cardiorespiratory', \"monitoring-'routine\", 'telemetry', 'data', 'in', 'Beaulieu-Jones', 'terms-represents', 'the', 'most', 'valuable', 'non-clinician-initiated', 'predictive', 'signal', 'present', 'in', 'patient', 'data', 'and', 'the', 'value', 'added', 'to', 'patient', 'care', 'justifies', 'the', 'efforts', 'and', 'expense', 'required', 'Here', 'we', 'present', 'a', 'clinical', 'and', 'a', 'physiological', 'point', 'of', 'view', 'to', 'support', 'our', 'contention'])\n",
    "vector"
   ]
  },
  {
   "cell_type": "code",
   "execution_count": null,
   "metadata": {},
   "outputs": [],
   "source": []
  }
 ],
 "metadata": {
  "kernelspec": {
   "display_name": "pytorch",
   "language": "python",
   "name": "pytorch"
  }
 },
 "nbformat": 4,
 "nbformat_minor": 5
}