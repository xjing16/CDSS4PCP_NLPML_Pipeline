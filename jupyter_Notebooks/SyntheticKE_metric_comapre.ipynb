{
 "cells": [
  {
   "cell_type": "code",
   "execution_count": 2,
   "id": "de2e605b-4075-424a-b1c0-41b70ec130ec",
   "metadata": {},
   "outputs": [],
   "source": [
    "import os, json\n",
    "from sklearn.metrics import confusion_matrix\n",
    "from sklearn.metrics.cluster import normalized_mutual_info_score\n",
    "from sklearn.metrics import confusion_matrix\n",
    "from seqeval.metrics import classification_report, accuracy_score, f1_score, recall_score, precision_score\n",
    "from seqeval.scheme import IOB2"
   ]
  },
  {
   "cell_type": "code",
   "execution_count": 3,
   "id": "1c5cdbdb-af51-45d5-be31-a2f9cbb3bc50",
   "metadata": {},
   "outputs": [],
   "source": [
    "with open(\"topicRank_KW.json\", \"r\") as infile:\n",
    "    topicPartiteRank_kws = json.loads(infile.read()) \n",
    "    \n",
    "with open(\"multiPartiteRank_KW.json\", \"r\") as infile:\n",
    "    multiPartiteRank_kws = json.loads(infile.read())\n",
    "    \n",
    "with open(\"positionRank_KW.json\", \"r\") as infile:\n",
    "    positionRank_kws = json.loads(infile.read())\n",
    "\n",
    "with open(\"scispacy_KW.json\", \"r\") as infile:\n",
    "    scispacy_kws = json.loads(infile.read())\n",
    "    \n",
    "with open(\"processedTexts.json\", \"r\") as infile:\n",
    "    processed_texts = json.loads(infile.read())"
   ]
  },
  {
   "cell_type": "code",
   "execution_count": 4,
   "id": "bd698e47-b525-408f-9cae-0bfb90267568",
   "metadata": {},
   "outputs": [],
   "source": [
    "files = os.listdir(\"/home/rgoli/MetaMap-src/data/gold_standard/AnnotationResults_Abstracts/done\")\n",
    "manual_pmids = [file.split('.')[0][4:] for file in files if file!='.ipynb_checkpoints']\n",
    "pmid_manual_kw={}\n",
    "for file in files:\n",
    "    if file=='.ipynb_checkpoints': continue\n",
    "    with open(\"/home/rgoli/MetaMap-src/data/gold_standard/AnnotationResults_Abstracts/done/\"+file,'r') as fp:\n",
    "        temp = fp.read().splitlines()\n",
    "        pmid_manual_kw[temp[0].strip()]=temp[1:]"
   ]
  },
  {
   "cell_type": "code",
   "execution_count": 7,
   "id": "cef7fdce-2ea3-45ed-937e-ab4737b3f253",
   "metadata": {},
   "outputs": [],
   "source": [
    "def get_metrics(text_dict, kws_dict, gs_dict):\n",
    "    ## For confusion matrix\n",
    "    test_mappers = []\n",
    "    gs_mappers = []\n",
    "    \n",
    "    ## Iterate over PMID texts and get mappingf of keywords\n",
    "    for pmid,text in text_dict.items():\n",
    "        text_len = len(text)\n",
    "        \n",
    "        test_kws = [x.split() for x in kws_dict[pmid]]\n",
    "        gs_kws = [x.split() for x in gs_dict[pmid]]\n",
    "        \n",
    "        result = []\n",
    "        test_mapper = [0]*text_len\n",
    "        gs_mapper = [0]*text_len\n",
    "        \n",
    "        for kw in test_kws:\n",
    "            kw_len = len(kw)\n",
    "            i=0\n",
    "            while i<text_len-kw_len:\n",
    "                if text[i:i+kw_len]==kw and test_mapper[i:i+kw_len]==[0]*kw_len:\n",
    "                    test_mapper[i:i+kw_len]=[1]*kw_len\n",
    "                i+=1\n",
    "                \n",
    "        for kw in gs_kws:\n",
    "            kw_len=len(kw)\n",
    "            i=0\n",
    "            while i<text_len-kw_len:\n",
    "                if text[i:i+kw_len]==kw and gs_mapper[i:i+kw_len]==[0]*kw_len:\n",
    "                    gs_mapper[i:i+kw_len]=[1]*kw_len\n",
    "                i+=1 \n",
    "        test_mappers.append(test_mapper)\n",
    "        gs_mappers.append(gs_mapper)\n",
    "        \n",
    "    ## Calculate Metrics from Text Mappers\n",
    "    TP, TN, FN, FP = 0, 0, 0, 0\n",
    "    N = len(text_dict.keys())\n",
    "    i=0\n",
    "    nmi_arr=[]\n",
    "    while i<N:\n",
    "        matrix = confusion_matrix(gs_mappers[i],test_mappers[i], labels=[1,0])\n",
    "        nmi_arr.append(normalized_mutual_info_score(gs_mappers[i],test_mappers[i]))\n",
    "        TP += matrix[0][0]\n",
    "        FN += matrix[0][1]\n",
    "        FP += matrix[1][0]\n",
    "        TN += matrix[1][1]\n",
    "\n",
    "        i+=1\n",
    "\n",
    "    nmi = sum(nmi_arr)/len(nmi_arr)\n",
    "        \n",
    "    accuracy = (TP+TN)/(TP+FN+FP+TN)\n",
    "    misclassification = (FP+FN)/(TP+TN+FP+FN)\n",
    "    precision = TP/(TP+FP)\n",
    "    sensitivity = TP/(TP+FN)\n",
    "    specificity = TN/(TN+FP)\n",
    "    f1score=(2 * precision * sensitivity) / (precision + sensitivity)\n",
    "    print(\"\"\"\n",
    "    Accuracy:\\t{}\n",
    "    Misclassification:\\t{}\n",
    "    Precision:\\t{}\n",
    "    Sensitivity/Recall:\\t{}\n",
    "    Specificity:\\t{}\n",
    "    F1 Score:\\t{}\n",
    "    NMI:\\t{}\"\"\".format(accuracy,misclassification,precision, sensitivity,specificity,f1score,nmi))\n",
    "    \n",
    "    # print(classification_report(gs_mappers, test_mappers, mode='strict', scheme=IOB2))\n",
    "    # print(\"Precision given by SeqEval: {:.2f}%\".format(precision_score(gs_mappers, test_mappers)*100))\n",
    "    # print(\"Recall given by SeqEval: {:.2f}%\".format(recall_score(gs_mappers, test_mappers)*100))\n",
    "    # print(\"F1-Score given by SeqEval: {:.2f}%\".format(f1_score(gs_mappers, test_mappers)*100))\n",
    "    # print(\"Accuracy given by SeqEval: {:.2f}%\".format(accuracy_score(gs_mappers, test_mappers)*100))    "
   ]
  },
  {
   "cell_type": "code",
   "execution_count": 8,
   "id": "38af4a32-6ad0-461b-b254-0d8af557a3e6",
   "metadata": {},
   "outputs": [
    {
     "name": "stdout",
     "output_type": "stream",
     "text": [
      "Metrics for sciSpacy\n",
      "\n",
      "    Accuracy:\t0.6882071144633575\n",
      "    Misclassification:\t0.31179288553664253\n",
      "    Precision:\t0.3625648279113626\n",
      "    Sensitivity/Recall:\t0.8124669836238775\n",
      "    Specificity:\t0.6584996211164436\n",
      "    F1 Score:\t0.5013854930725347\n",
      "    NMI:\t0.1395377814386023\n"
     ]
    }
   ],
   "source": [
    "print(\"Metrics for sciSpacy\")\n",
    "get_metrics(processed_texts,scispacy_kws,pmid_manual_kw)"
   ]
  },
  {
   "cell_type": "code",
   "execution_count": 22,
   "id": "1e67536f-9032-4186-8273-4aa7be044631",
   "metadata": {
    "tags": []
   },
   "outputs": [
    {
     "name": "stdout",
     "output_type": "stream",
     "text": [
      "Metrics for Position Rank\n",
      "\n",
      "    Accuracy:\t0.7676077871776578\n",
      "    Misclassification:\t0.23239221282234226\n",
      "    Precision:\t0.39135317237507017\n",
      "    Sensitivity/Recall:\t0.3681986265187533\n",
      "    Specificity:\t0.8630967416014145\n",
      "    F1 Score:\t0.3794229722373435\n",
      "    NMI:\t0.06926592253284956\n"
     ]
    }
   ],
   "source": [
    "print(\"Metrics for Position Rank\")\n",
    "get_metrics(processed_texts,positionRank_kws,pmid_manual_kw)"
   ]
  },
  {
   "cell_type": "code",
   "execution_count": 23,
   "id": "55eb6d25-8826-4e29-adfe-abe88ac1ad7b",
   "metadata": {},
   "outputs": [
    {
     "name": "stdout",
     "output_type": "stream",
     "text": [
      "Metrics for Multi Partite Rank\n",
      "\n",
      "    Accuracy:\t0.7606767913566405\n",
      "    Misclassification:\t0.2393232086433595\n",
      "    Precision:\t0.3747936158503027\n",
      "    Sensitivity/Recall:\t0.35974643423137875\n",
      "    Specificity:\t0.8565294266228846\n",
      "    F1 Score:\t0.3671159029649596\n",
      "    NMI:\t0.05519556739959275\n"
     ]
    }
   ],
   "source": [
    "print(\"Metrics for Multi Partite Rank\")\n",
    "get_metrics(processed_texts,multiPartiteRank_kws,pmid_manual_kw)"
   ]
  },
  {
   "cell_type": "code",
   "execution_count": 24,
   "id": "3f57b30e-fe5f-4bf8-aff2-40fa332f2ff0",
   "metadata": {},
   "outputs": [
    {
     "name": "stdout",
     "output_type": "stream",
     "text": [
      "Metrics for Topic Rank\n",
      "\n",
      "    Accuracy:\t0.7690347569055143\n",
      "    Misclassification:\t0.2309652430944858\n",
      "    Precision:\t0.391758560650029\n",
      "    Sensitivity/Recall:\t0.35657686212361334\n",
      "    Specificity:\t0.8676433442788583\n",
      "    F1 Score:\t0.37334070796460184\n",
      "    NMI:\t0.057050633351478384\n"
     ]
    }
   ],
   "source": [
    "print(\"Metrics for Topic Rank\")\n",
    "get_metrics(processed_texts,topicPartiteRank_kws,pmid_manual_kw)"
   ]
  },
  {
   "cell_type": "code",
   "execution_count": null,
   "id": "5dd22711-5b7f-4cb4-83bb-dc887f219fab",
   "metadata": {},
   "outputs": [],
   "source": []
  }
 ],
 "metadata": {
  "kernelspec": {
   "display_name": "pytorch",
   "language": "python",
   "name": "pytorch"
  },
  "language_info": {
   "codemirror_mode": {
    "name": "ipython",
    "version": 3
   },
   "file_extension": ".py",
   "mimetype": "text/x-python",
   "name": "python",
   "nbconvert_exporter": "python",
   "pygments_lexer": "ipython3",
   "version": "3.8.3"
  }
 },
 "nbformat": 4,
 "nbformat_minor": 5
}
