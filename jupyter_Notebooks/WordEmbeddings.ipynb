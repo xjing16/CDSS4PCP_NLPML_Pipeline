{
 "cells": [
  {
   "cell_type": "code",
   "execution_count": 1,
   "id": "dab2063a-bbf7-4ee0-a0a6-159ce643eac3",
   "metadata": {},
   "outputs": [
    {
     "output_type": "stream",
     "name": "stderr",
     "text": [
      "/home/rgoli/.conda/envs/pytorch/lib/python3.8/site-packages/spacy/util.py:833: UserWarning: [W095] Model 'en_core_sci_lg' (0.4.0) was trained with spaCy v3.0 and may not be 100% compatible with the current version (3.2.4). If you see errors or degraded performance, download a newer compatible model or retrain your custom model with the current spaCy version. For more details and available updates, run: python -m spacy validate\n",
      "  warnings.warn(warn_msg)\n",
      "/home/rgoli/.local/lib/python3.8/site-packages/sklearn/base.py:324: UserWarning: Trying to unpickle estimator TfidfTransformer from version 0.20.3 when using version 1.0.1. This might lead to breaking code or invalid results. Use at your own risk. For more info please refer to:\n",
      "https://scikit-learn.org/stable/modules/model_persistence.html#security-maintainability-limitations\n",
      "  warnings.warn(\n",
      "/home/rgoli/.local/lib/python3.8/site-packages/sklearn/base.py:324: UserWarning: Trying to unpickle estimator TfidfVectorizer from version 0.20.3 when using version 1.0.1. This might lead to breaking code or invalid results. Use at your own risk. For more info please refer to:\n",
      "https://scikit-learn.org/stable/modules/model_persistence.html#security-maintainability-limitations\n",
      "  warnings.warn(\n"
     ]
    }
   ],
   "source": [
    "import json \n",
    "import spacy\n",
    "import scispacy\n",
    "from scispacy.linking import EntityLinker\n",
    "import pubmed_parser as pp\n",
    "from tqdm import tqdm\n",
    "\n",
    "nlp = spacy.load(\"en_core_sci_lg\")\n",
    "nlp.add_pipe(\"scispacy_linker\", config={\"resolve_abbreviations\": True, \"linker_name\": \"umls\"})\n",
    "\n",
    "nlp2 = spacy.load('en_ner_bc5cdr_md')\n",
    "nlp2.add_pipe(\"scispacy_linker\", config={\"resolve_abbreviations\": True, \"linker_name\": \"umls\"})\n",
    "\n",
    "dicts_out = pp.parse_medline_xml('../data/pubmed_data/processed_data/processed_full_data.xml',\n",
    "                                 year_info_only=False,\n",
    "                                 nlm_category=False,\n",
    "                                 author_list=False,\n",
    "                                 reference_list=False)"
   ]
  },
  {
   "cell_type": "code",
   "execution_count": 2,
   "id": "b3b81885-9648-4dd7-94c2-3ec504d725ce",
   "metadata": {},
   "outputs": [
    {
     "output_type": "stream",
     "name": "stdout",
     "text": [
      "Hold Out Data:  236\n"
     ]
    }
   ],
   "source": [
    "## HoldOut 125 GS + 111 No/Little Abstract\n",
    "\n",
    "pmids_HO = set()\n",
    "with open('../data/HoldOut_Total.txt','r') as f:\n",
    "    for line in f.readlines():\n",
    "        pmids_HO.add(line.strip())\n",
    "print(\"Hold Out Data: \",len(pmids_HO))"
   ]
  },
  {
   "cell_type": "code",
   "execution_count": 3,
   "id": "b18e8a77-16dc-4764-a628-78f24bdfb464",
   "metadata": {},
   "outputs": [
    {
     "output_type": "stream",
     "name": "stdout",
     "text": [
      "Full Data for further processing:  3100\n"
     ]
    }
   ],
   "source": [
    "N=len(dicts_out)\n",
    "i=0\n",
    "j=0\n",
    "while i<N:\n",
    "    if dicts_out[i]['pmid'] not in pmids_HO:\n",
    "        dicts_out[j]=dicts_out[i]\n",
    "        j+=1\n",
    "    i+=1\n",
    "dicts_out[j:]=[]\n",
    "\n",
    "print(\"Full Data for further processing: \",len(dicts_out))"
   ]
  },
  {
   "cell_type": "code",
   "execution_count": 4,
   "id": "1f04fa4a-7b92-470c-a798-a39227421640",
   "metadata": {},
   "outputs": [
    {
     "output_type": "stream",
     "name": "stderr",
     "text": [
      "  0%|          | 0/3100 [00:00<?, ?it/s]/home/rgoli/.conda/envs/pytorch/lib/python3.8/site-packages/scispacy/candidate_generation.py:284: VisibleDeprecationWarning: Creating an ndarray from ragged nested sequences (which is a list-or-tuple of lists-or-tuples-or ndarrays with different lengths or shapes) is deprecated. If you meant to do this, you must specify 'dtype=object' when creating the ndarray.\n",
      "  extended_neighbors[empty_vectors_boolean_flags] = numpy.array(neighbors)[:-1]\n",
      "/home/rgoli/.conda/envs/pytorch/lib/python3.8/site-packages/scispacy/candidate_generation.py:285: VisibleDeprecationWarning: Creating an ndarray from ragged nested sequences (which is a list-or-tuple of lists-or-tuples-or ndarrays with different lengths or shapes) is deprecated. If you meant to do this, you must specify 'dtype=object' when creating the ndarray.\n",
      "  extended_distances[empty_vectors_boolean_flags] = numpy.array(distances)[:-1]\n",
      "The 3101 document is processed: 100%|██████████| 3100/3100 [04:39<00:00, 11.10it/s]\n",
      "Total Articles removed:  48\n",
      "['34042851', '31349252', '31225983', '30399617', '28269917', '28086985', '27762202', '27235214', '26262257', '26262255', '23920886', '23920721', '23861123', '23851288', '22929351', '22219234', '22060071', '21295751', '21095686', '20592007', '20501532', '20407168', '18999221', '18999012', '18998900', '18998875', '18694272', '18694237', '18580428', '18487843', '17945725', '17911954', '17238710', '17238621', '17238566', '17238503', '16779188', '15846970', '15770911', '15455842', '14728543', '12365297', '11813521', '10587916', '10338700', '9700425', '10177918', '10177693']\n",
      "Total Dataset Length:  3052\n",
      "Train Dataset Length:  1017\n",
      "Test  Dataset Length:  2035\n",
      "Total KWS generated: 224833\n",
      "Avg. KWS generated/abstract: 73.66743119266054\n",
      "Total KWS trimmed:  11995\n",
      "Avg. KWS trimmed: 3.9302096985583224\n",
      "Total KWS - post processing:  212838\n",
      "Avg. KWS - post processing: 69.73722149410223\n"
     ]
    }
   ],
   "source": [
    "comb_arr=[]\n",
    "pmid_arr =[]\n",
    "for paper in dicts_out:\n",
    "    comb_arr.append(paper['title']+' '+paper['abstract'])\n",
    "    pmid_arr.append(paper['pmid'])\n",
    "    \n",
    "idx=0\n",
    "processed_texts = {}\n",
    "scispacy_kw = {}\n",
    "no_kws_trimmed =[]\n",
    "no_kws=[]\n",
    "post_no_kws =[]\n",
    "outlier_kws=[\n",
    "    'http','www','university','department','antibiotic','antimicrobial','institute','ministry', 'pubmed',\n",
    "    '.gov','.org','.com','.edu','.net',\n",
    "    'city','disease','injury','trauma','syndrome','country','national','regimen','swelling','cholesterol','cerebrovascular','leukemia'\n",
    "    'surgery', 'medication','infection','stroke','diabetes','bleeding','comorbid','java','python',\n",
    "    \"united states\",'united kingdom','india','china','germany','france','ghana','australia','italy','england','japan',\n",
    "    'english','spanish','french','british','spain'\n",
    "    ]\n",
    "\n",
    "remove_sent_no_outliers = []\n",
    "with tqdm(nlp.pipe(comb_arr),total=len(comb_arr)) as pbar:\n",
    "    for doc in pbar:\n",
    "        sents = [[token.orth_.lower() for token in sent if not token.is_punct | token.is_space] for sent in doc.sents]\n",
    "        if len(sents)<4:\n",
    "            remove_sent_no_outliers.append(idx)\n",
    "            idx+=1\n",
    "            continue\n",
    "        text = [token.orth_ for token in doc if not token.is_punct | token.is_space] \n",
    "        rule_out_ents = [str(_) for _ in nlp2(comb_arr[idx]).ents]\n",
    "        rule_out_ents = [_ for _ in rule_out_ents if not _.isupper()]\n",
    "        kws = [str(_) for _ in doc.ents]\n",
    "        # print('-'*50)\n",
    "        # print(len(kws))\n",
    "        temp_kws_len = len(kws)\n",
    "        # print(kws)\n",
    "        if rule_out_ents==[]:\n",
    "            kws = [_ for _ in kws]\n",
    "        else:\n",
    "            kws = [_ for _ in kws if _ not in rule_out_ents]\n",
    "        # print(kws)\n",
    "        kws = [_ for _ in kws if all([True if n_ not in _.lower() else False for n_ in outlier_kws])]\n",
    "        no_kws_trimmed.append(temp_kws_len-len(kws))\n",
    "        no_kws.append(temp_kws_len)\n",
    "        post_no_kws.append(len(kws))\n",
    "        # print(len(kws))\n",
    "        # print(rule_out_ents)\n",
    "        # print(kws)\n",
    "        # print('-'*50)\n",
    "        kws.sort(reverse=True, key=len)\n",
    "        \n",
    "        dicts_out[idx]['fullText'] = text\n",
    "        dicts_out[idx]['sentences'] = sents\n",
    "        dicts_out[idx][\"keywords\"]=kws=kws\n",
    "        \n",
    "        idx+=1\n",
    "        pbar.set_description(\"The %s document is processed\" % (idx + 1))\n",
    "\n",
    "## Filter Docs with less than minimum senetences\n",
    "i=0\n",
    "j=0\n",
    "print(\"Total Articles removed: \",len(remove_sent_no_outliers))\n",
    "print([pmid_arr[x] for x in remove_sent_no_outliers])\n",
    "while i<idx:\n",
    "    if i not in remove_sent_no_outliers:\n",
    "        dicts_out[j]=dicts_out[i]\n",
    "        j+=1\n",
    "    i+=1\n",
    "dicts_out[j:]=[]\n",
    "\n",
    "dataset_length = len(dicts_out)\n",
    "\n",
    "print(\"Total Dataset Length: \",dataset_length)\n",
    "print(\"Train Dataset Length: \",dataset_length//3)\n",
    "print(\"Test  Dataset Length: \",dataset_length-dataset_length//3)\n",
    "\n",
    "with open(\"GNA_Files/train.json\", \"w\") as outfile:\n",
    "    json.dump(dicts_out[:dataset_length//3], outfile)\n",
    "\n",
    "with open(\"GNA_Files/test.json\", \"w\") as outfile:\n",
    "    json.dump(dicts_out[dataset_length//3:], outfile)\n",
    "\n",
    "print(\"Total KWS generated:\", sum(no_kws))\n",
    "print(\"Avg. KWS generated/abstract:\", sum(no_kws)/len(no_kws))\n",
    "\n",
    "print(\"Total KWS trimmed: \",sum(no_kws_trimmed))\n",
    "print(\"Avg. KWS trimmed:\", sum(no_kws_trimmed)/len(no_kws_trimmed))\n",
    "\n",
    "print(\"Total KWS - post processing: \",sum(post_no_kws))\n",
    "print(\"Avg. KWS - post processing:\", sum(post_no_kws)/len(post_no_kws))"
   ]
  },
  {
   "cell_type": "code",
   "execution_count": 5,
   "id": "bf0e7df7-fcf8-40b2-a02c-7c3f8c0d4a92",
   "metadata": {},
   "outputs": [],
   "source": [
    "train_data = dicts_out[:dataset_length//3]\n",
    "test_data = dicts_out[dataset_length//3:]"
   ]
  },
  {
   "cell_type": "code",
   "execution_count": 6,
   "id": "731b33fe-efdb-43bf-b299-682995f19e97",
   "metadata": {},
   "outputs": [
    {
     "output_type": "stream",
     "name": "stdout",
     "text": [
      "Total Sentences in Train Corpus:  12023\nTotal Sentences in Test Corpus:  20555\n"
     ]
    }
   ],
   "source": [
    "train_corpus_sentences = []\n",
    "for x in train_data:\n",
    "    train_corpus_sentences.extend(x['sentences'])\n",
    "print(\"Total Sentences in Train Corpus: \", len(train_corpus_sentences))\n",
    "\n",
    "test_corpus_sentences = []\n",
    "for x in test_data:\n",
    "    test_corpus_sentences.extend(x['sentences'])\n",
    "print(\"Total Sentences in Test Corpus: \", len(test_corpus_sentences))"
   ]
  },
  {
   "cell_type": "code",
   "execution_count": 7,
   "id": "3b66134e-c7d1-430e-831f-577c42c46597",
   "metadata": {},
   "outputs": [
    {
     "output_type": "stream",
     "name": "stdout",
     "text": [
      "Sample:  ['continuous', 'cardiorespiratory', 'monitoring', 'is', 'a', 'dominant', 'source', 'of', 'predictive', 'signal', 'in', 'machine', 'learning', 'for', 'risk', 'stratification', 'and', 'clinical', 'decision', 'support']\n"
     ]
    }
   ],
   "source": [
    "print('Sample: ', train_corpus_sentences[0])"
   ]
  },
  {
   "cell_type": "code",
   "execution_count": 8,
   "id": "f4609249-db50-4144-9af3-0cdd6ae45439",
   "metadata": {},
   "outputs": [],
   "source": [
    "import gensim\n",
    "\n",
    "modelW2V = gensim.models.Word2Vec(sentences=train_corpus_sentences,size=300,window=5,min_count=0,workers=10,sg=1,seed=42,compute_loss=True)"
   ]
  },
  {
   "cell_type": "code",
   "execution_count": 9,
   "id": "19977ecc-cf33-4c7b-966c-b6e81658e6b4",
   "metadata": {},
   "outputs": [],
   "source": [
    "# modelW2V.save('GNA_Files/word2vec.embedding')\n",
    "modelW2V.wv.save_word2vec_format('GNA_Files/word2vec.bin', binary=True)"
   ]
  },
  {
   "cell_type": "code",
   "execution_count": 10,
   "id": "05819f5c-50ed-4eaf-b98f-2e30fcc3f42f",
   "metadata": {},
   "outputs": [],
   "source": [
    "# modelW2V = gensim.models.Word2Vec.load('GNA_Files/word2vec.bin')\n",
    "from gensim.models import KeyedVectors\n",
    "\n",
    "filename = 'GNA_Files/word2vec.bin'\n",
    "model = KeyedVectors.load_word2vec_format(filename, binary=True)"
   ]
  },
  {
   "cell_type": "code",
   "execution_count": 11,
   "id": "55c65b00-3973-46ad-8df1-ba2ead3b7674",
   "metadata": {},
   "outputs": [
    {
     "output_type": "execute_result",
     "data": {
      "text/plain": [
       "array([[ 1.1465875e-02,  2.4020582e-01,  2.2017255e-02, ...,\n",
       "        -1.6683304e-01, -9.4120137e-02, -2.5385439e-01],\n",
       "       [-2.4647003e-02,  8.3521746e-02, -5.6839019e-02, ...,\n",
       "        -1.9443564e-01, -2.1609481e-01, -4.0310875e-02],\n",
       "       [ 4.9027428e-02,  1.1255401e-01,  4.6202015e-02, ...,\n",
       "        -2.1141855e-01, -2.1330103e-01, -6.1953351e-02],\n",
       "       ...,\n",
       "       [-1.0731264e-02, -1.6498059e-02,  7.8044878e-03, ...,\n",
       "        -2.8128992e-04, -1.4324478e-04, -9.6140197e-03],\n",
       "       [-1.5212214e-02, -2.6840825e-02,  9.3136178e-03, ...,\n",
       "         6.8916059e-03, -4.0749582e-03, -1.8798176e-02],\n",
       "       [-2.3664381e-02, -1.8525474e-02,  7.0460709e-03, ...,\n",
       "        -8.2431443e-04, -6.1397515e-03, -7.5974977e-03]], dtype=float32)"
      ]
     },
     "metadata": {},
     "execution_count": 11
    }
   ],
   "source": [
    "model.vectors"
   ]
  },
  {
   "cell_type": "code",
   "execution_count": 12,
   "id": "9a73dc2e-8496-45e6-ac0c-d96602e2c4ae",
   "metadata": {},
   "outputs": [
    {
     "output_type": "execute_result",
     "data": {
      "text/plain": [
       "[('computer', 0.9198338985443115),\n",
       " ('computerized', 0.91490238904953),\n",
       " ('decision-support', 0.9090330600738525),\n",
       " ('guideline-based', 0.9056036472320557),\n",
       " ('web-based', 0.9044430255889893),\n",
       " ('computerised', 0.9039899110794067),\n",
       " ('cpoe', 0.9003762602806091),\n",
       " ('knowledge-based', 0.8994190692901611),\n",
       " ('point-of-care', 0.8981181979179382),\n",
       " ('real-time', 0.8958467841148376)]"
      ]
     },
     "metadata": {},
     "execution_count": 12
    }
   ],
   "source": [
    "modelW2V.wv.most_similar(positive=['clinical','decision'], topn = 10)"
   ]
  },
  {
   "cell_type": "code",
   "execution_count": 13,
   "id": "1b5fd99e-dfe9-4900-94cc-6e248076ab50",
   "metadata": {},
   "outputs": [
    {
     "output_type": "execute_result",
     "data": {
      "text/plain": [
       "[('speech', 0.9970884919166565),\n",
       " ('navigate', 0.9967279434204102),\n",
       " ('endpoint-directed', 0.9965219497680664),\n",
       " ('irrational', 0.9964563846588135),\n",
       " ('∼80', 0.9964200258255005),\n",
       " ('editing', 0.9964097738265991),\n",
       " ('massachusetts', 0.996346116065979),\n",
       " ('replicable', 0.9962502121925354),\n",
       " ('unrelated', 0.996247410774231),\n",
       " ('citizens', 0.9961835741996765)]"
      ]
     },
     "metadata": {},
     "execution_count": 13
    }
   ],
   "source": [
    "modelW2V.wv.most_similar(positive=['cardiorespiratory'], topn = 10)"
   ]
  },
  {
   "cell_type": "code",
   "execution_count": 14,
   "id": "c98fbfe9-cfbf-45b6-b4fd-41dff4e52155",
   "metadata": {},
   "outputs": [
    {
     "output_type": "execute_result",
     "data": {
      "text/plain": [
       "[('ml', 0.948789119720459),\n",
       " ('artificial', 0.9476273655891418),\n",
       " ('techniques', 0.9451085329055786),\n",
       " ('intelligence', 0.9407348036766052),\n",
       " ('deep', 0.9374027252197266),\n",
       " ('fuzzy', 0.9372469782829285),\n",
       " ('neural', 0.9352610111236572),\n",
       " ('networks', 0.9342448115348816),\n",
       " ('algorithm', 0.9317860007286072),\n",
       " ('bayesian', 0.9288842678070068)]"
      ]
     },
     "metadata": {},
     "execution_count": 14
    }
   ],
   "source": [
    "modelW2V.wv.most_similar(positive=['machine','learning'], topn = 10)"
   ]
  },
  {
   "cell_type": "code",
   "execution_count": 15,
   "id": "92a25a2d-2fa5-42ba-a63d-3b8f2ac309c4",
   "metadata": {},
   "outputs": [
    {
     "output_type": "execute_result",
     "data": {
      "text/plain": [
       "[('computer', 0.9187260866165161),\n",
       " ('dss', 0.9186125993728638),\n",
       " ('guideline-based', 0.9170367121696472),\n",
       " ('computerised', 0.915226936340332),\n",
       " ('cdsss', 0.9142353534698486),\n",
       " ('knowledge-based', 0.9130967855453491),\n",
       " ('ccds', 0.9096958637237549),\n",
       " ('ccdss', 0.909058690071106),\n",
       " ('cpoe', 0.9084491729736328),\n",
       " ('web-based', 0.9077417254447937)]"
      ]
     },
     "metadata": {},
     "execution_count": 15
    }
   ],
   "source": [
    "modelW2V.wv.most_similar(positive=['clinical','cdss'], topn = 10)"
   ]
  },
  {
   "cell_type": "code",
   "execution_count": 16,
   "id": "f00cac28-516b-4434-a960-2c3e23af7ca1",
   "metadata": {},
   "outputs": [
    {
     "output_type": "error",
     "ename": "KeyError",
     "evalue": "\"word 'clinical decision' not in vocabulary\"",
     "traceback": [
      "\u001b[0;31m---------------------------------------------------------------------------\u001b[0m",
      "\u001b[0;31mKeyError\u001b[0m                                  Traceback (most recent call last)",
      "\u001b[0;32m/local_scratch/pbs.5247758.pbs02/ipykernel_2998456/3049383526.py\u001b[0m in \u001b[0;36m<module>\u001b[0;34m\u001b[0m\n\u001b[0;32m----> 1\u001b[0;31m \u001b[0mmodelW2V\u001b[0m\u001b[0;34m.\u001b[0m\u001b[0mwv\u001b[0m\u001b[0;34m.\u001b[0m\u001b[0mmost_similar\u001b[0m\u001b[0;34m(\u001b[0m\u001b[0mpositive\u001b[0m\u001b[0;34m=\u001b[0m\u001b[0;34m[\u001b[0m\u001b[0;34m'clinical decision'\u001b[0m\u001b[0;34m,\u001b[0m\u001b[0;34m'cdss'\u001b[0m\u001b[0;34m]\u001b[0m\u001b[0;34m,\u001b[0m \u001b[0mtopn\u001b[0m \u001b[0;34m=\u001b[0m \u001b[0;36m10\u001b[0m\u001b[0;34m)\u001b[0m\u001b[0;34m\u001b[0m\u001b[0;34m\u001b[0m\u001b[0m\n\u001b[0m",
      "\u001b[0;32m~/.conda/envs/pytorch/lib/python3.8/site-packages/gensim/models/keyedvectors.py\u001b[0m in \u001b[0;36mmost_similar\u001b[0;34m(self, positive, negative, topn, restrict_vocab, indexer)\u001b[0m\n\u001b[1;32m    551\u001b[0m                 \u001b[0mmean\u001b[0m\u001b[0;34m.\u001b[0m\u001b[0mappend\u001b[0m\u001b[0;34m(\u001b[0m\u001b[0mweight\u001b[0m \u001b[0;34m*\u001b[0m \u001b[0mword\u001b[0m\u001b[0;34m)\u001b[0m\u001b[0;34m\u001b[0m\u001b[0;34m\u001b[0m\u001b[0m\n\u001b[1;32m    552\u001b[0m             \u001b[0;32melse\u001b[0m\u001b[0;34m:\u001b[0m\u001b[0;34m\u001b[0m\u001b[0;34m\u001b[0m\u001b[0m\n\u001b[0;32m--> 553\u001b[0;31m                 \u001b[0mmean\u001b[0m\u001b[0;34m.\u001b[0m\u001b[0mappend\u001b[0m\u001b[0;34m(\u001b[0m\u001b[0mweight\u001b[0m \u001b[0;34m*\u001b[0m \u001b[0mself\u001b[0m\u001b[0;34m.\u001b[0m\u001b[0mword_vec\u001b[0m\u001b[0;34m(\u001b[0m\u001b[0mword\u001b[0m\u001b[0;34m,\u001b[0m \u001b[0muse_norm\u001b[0m\u001b[0;34m=\u001b[0m\u001b[0;32mTrue\u001b[0m\u001b[0;34m)\u001b[0m\u001b[0;34m)\u001b[0m\u001b[0;34m\u001b[0m\u001b[0;34m\u001b[0m\u001b[0m\n\u001b[0m\u001b[1;32m    554\u001b[0m                 \u001b[0;32mif\u001b[0m \u001b[0mword\u001b[0m \u001b[0;32min\u001b[0m \u001b[0mself\u001b[0m\u001b[0;34m.\u001b[0m\u001b[0mvocab\u001b[0m\u001b[0;34m:\u001b[0m\u001b[0;34m\u001b[0m\u001b[0;34m\u001b[0m\u001b[0m\n\u001b[1;32m    555\u001b[0m                     \u001b[0mall_words\u001b[0m\u001b[0;34m.\u001b[0m\u001b[0madd\u001b[0m\u001b[0;34m(\u001b[0m\u001b[0mself\u001b[0m\u001b[0;34m.\u001b[0m\u001b[0mvocab\u001b[0m\u001b[0;34m[\u001b[0m\u001b[0mword\u001b[0m\u001b[0;34m]\u001b[0m\u001b[0;34m.\u001b[0m\u001b[0mindex\u001b[0m\u001b[0;34m)\u001b[0m\u001b[0;34m\u001b[0m\u001b[0;34m\u001b[0m\u001b[0m\n",
      "\u001b[0;32m~/.conda/envs/pytorch/lib/python3.8/site-packages/gensim/models/keyedvectors.py\u001b[0m in \u001b[0;36mword_vec\u001b[0;34m(self, word, use_norm)\u001b[0m\n\u001b[1;32m    466\u001b[0m             \u001b[0;32mreturn\u001b[0m \u001b[0mresult\u001b[0m\u001b[0;34m\u001b[0m\u001b[0;34m\u001b[0m\u001b[0m\n\u001b[1;32m    467\u001b[0m         \u001b[0;32melse\u001b[0m\u001b[0;34m:\u001b[0m\u001b[0;34m\u001b[0m\u001b[0;34m\u001b[0m\u001b[0m\n\u001b[0;32m--> 468\u001b[0;31m             \u001b[0;32mraise\u001b[0m \u001b[0mKeyError\u001b[0m\u001b[0;34m(\u001b[0m\u001b[0;34m\"word '%s' not in vocabulary\"\u001b[0m \u001b[0;34m%\u001b[0m \u001b[0mword\u001b[0m\u001b[0;34m)\u001b[0m\u001b[0;34m\u001b[0m\u001b[0;34m\u001b[0m\u001b[0m\n\u001b[0m\u001b[1;32m    469\u001b[0m \u001b[0;34m\u001b[0m\u001b[0m\n\u001b[1;32m    470\u001b[0m     \u001b[0;32mdef\u001b[0m \u001b[0mget_vector\u001b[0m\u001b[0;34m(\u001b[0m\u001b[0mself\u001b[0m\u001b[0;34m,\u001b[0m \u001b[0mword\u001b[0m\u001b[0;34m)\u001b[0m\u001b[0;34m:\u001b[0m\u001b[0;34m\u001b[0m\u001b[0;34m\u001b[0m\u001b[0m\n",
      "\u001b[0;31mKeyError\u001b[0m: \"word 'clinical decision' not in vocabulary\""
     ]
    }
   ],
   "source": [
    "modelW2V.wv.most_similar(positive=['clinical decision','cdss'], topn = 10)"
   ]
  },
  {
   "cell_type": "code",
   "execution_count": 18,
   "id": "5b279de0-ab8d-42c4-a66a-69b1f45b5e99",
   "metadata": {},
   "outputs": [],
   "source": [
    "## Word2Vec 300 Dim vector for a word\n",
    "# model.wv['machine']"
   ]
  },
  {
   "cell_type": "code",
   "execution_count": 19,
   "id": "181a71d3-20d2-49cf-92aa-f3ed2cfeb605",
   "metadata": {},
   "outputs": [],
   "source": [
    "from gensim.models.fasttext import FastText as FT_gensim\n",
    "modelFT = FT_gensim(size=300)\n",
    "\n",
    "# build the vocabulary\n",
    "modelFT.build_vocab(sentences=train_corpus_sentences)\n",
    "# help(model.build_vocab)\n",
    "\n",
    "# train the model\n",
    "modelFT.train(\n",
    "    sentences=train_corpus_sentences, epochs=modelFT.epochs,\n",
    "    total_examples=modelFT.corpus_count, total_words=modelFT.corpus_total_words\n",
    ")"
   ]
  },
  {
   "cell_type": "code",
   "execution_count": 20,
   "id": "ae334b52-8611-457f-b13e-7a81a1daa068",
   "metadata": {},
   "outputs": [],
   "source": [
    "modelFT.wv.save_word2vec_format('GNA_Files/fastText.bin', binary=True)"
   ]
  },
  {
   "cell_type": "code",
   "execution_count": 21,
   "id": "87ff6852-e128-4da2-87da-fa18d47f118f",
   "metadata": {},
   "outputs": [],
   "source": [
    "modelFT.save('GNA_Files/fastText.embedding')\n",
    "modelFT = FT_gensim.load('GNA_Files/fastText.embedding')"
   ]
  },
  {
   "cell_type": "code",
   "execution_count": 22,
   "id": "f5bd6108-8a8f-43d3-981e-600c90c96e73",
   "metadata": {},
   "outputs": [
    {
     "output_type": "stream",
     "name": "stdout",
     "text": [
      "False\n"
     ]
    }
   ],
   "source": [
    "from pprint import pprint\n",
    "pprint('breakfast' in modelFT.wv.vocab)"
   ]
  },
  {
   "cell_type": "code",
   "execution_count": 23,
   "id": "7601e36b-6601-4230-894f-65eac8aa68ed",
   "metadata": {},
   "outputs": [
    {
     "output_type": "stream",
     "name": "stderr",
     "text": [
      "/local_scratch/pbs.5247758.pbs02/ipykernel_2998456/1473263544.py:2: DeprecationWarning: Call to deprecated `most_similar` (Method will be removed in 4.0.0, use self.wv.most_similar() instead).\n",
      "  print(modelFT.most_similar(\"clinical decision\"))\n",
      "[('decision-making', 0.9911418557167053), ('decision-support', 0.9900878667831421), ('decisional', 0.9900567531585693), ('decisions', 0.9860702753067017), ('decision', 0.9816697835922241), ('provision', 0.9731867909431458), ('deciding', 0.9678906202316284), ('compute', 0.9678195118904114), ('use', 0.9672898650169373), ('information', 0.967155933380127)]\n"
     ]
    }
   ],
   "source": [
    "# model['breakfast']\n",
    "print(modelFT.most_similar(\"clinical decision\"))"
   ]
  },
  {
   "cell_type": "code",
   "execution_count": 24,
   "id": "3294c710-2ee7-4129-a127-9dbfb10c092f",
   "metadata": {},
   "outputs": [
    {
     "output_type": "execute_result",
     "data": {
      "text/plain": [
       "[('machine-learning', 0.9997397661209106),\n",
       " ('machines', 0.9910284876823425),\n",
       " ('took', 0.9904155135154724),\n",
       " ('form', 0.990329384803772),\n",
       " ('algorithm', 0.9895416498184204),\n",
       " ('rule', 0.988652229309082),\n",
       " ('cdst', 0.9880639314651489),\n",
       " ('systematic', 0.9875674247741699),\n",
       " ('cdsas', 0.9873975515365601),\n",
       " ('algorithm-based', 0.9872178435325623)]"
      ]
     },
     "metadata": {},
     "execution_count": 24
    }
   ],
   "source": [
    "modelFT.wv.most_similar(positive=['machine','learning'], topn = 10)"
   ]
  },
  {
   "cell_type": "code",
   "execution_count": 25,
   "id": "229f1adc-68fe-445d-8b2f-bbf384fc929d",
   "metadata": {},
   "outputs": [
    {
     "output_type": "execute_result",
     "data": {
      "text/plain": [
       "[('tinnitus', 0.9976578950881958),\n",
       " ('diverse', 0.9976482391357422),\n",
       " ('injuries', 0.9971669316291809),\n",
       " ('t2d', 0.9963470697402954),\n",
       " ('diastolic', 0.9961583018302917),\n",
       " ('failure', 0.9960494041442871),\n",
       " ('comorbidities', 0.995898962020874),\n",
       " ('failures', 0.9958155155181885),\n",
       " ('drugs', 0.9955398440361023),\n",
       " ('ventricular', 0.9952231645584106)]"
      ]
     },
     "metadata": {},
     "execution_count": 25
    }
   ],
   "source": [
    "modelFT.wv.most_similar(positive=['cardiorespiratory'], topn = 10)"
   ]
  },
  {
   "cell_type": "code",
   "execution_count": 26,
   "id": "bddb4d31-5e9b-41fd-847f-bd814707cd10",
   "metadata": {},
   "outputs": [
    {
     "output_type": "execute_result",
     "data": {
      "text/plain": [
       "[('decision-support', 0.9952415823936462),\n",
       " ('decision-making', 0.9858211278915405),\n",
       " ('decisional', 0.9835367798805237),\n",
       " ('compute', 0.9824199676513672),\n",
       " ('computing', 0.9763392210006714),\n",
       " ('decisions', 0.974543571472168),\n",
       " ('implementing', 0.973444938659668),\n",
       " ('use', 0.9734196066856384),\n",
       " ('cds', 0.9723677039146423),\n",
       " ('ecosystem', 0.970734179019928)]"
      ]
     },
     "metadata": {},
     "execution_count": 26
    }
   ],
   "source": [
    "modelFT.wv.most_similar(positive=['clinical','decision'], topn = 10)"
   ]
  },
  {
   "cell_type": "code",
   "execution_count": 27,
   "id": "6adfc782-3a25-493e-926c-992814849afb",
   "metadata": {},
   "outputs": [
    {
     "output_type": "execute_result",
     "data": {
      "text/plain": [
       "[('cdss-t', 0.9993053078651428),\n",
       " ('cdsss', 0.9965502619743347),\n",
       " ('cdr', 0.9922662973403931),\n",
       " ('cdsi', 0.9913590550422668),\n",
       " ('developing', 0.9905264377593994),\n",
       " ('cdc', 0.9903756380081177),\n",
       " ('ccdss', 0.989611029624939),\n",
       " ('cdsas', 0.9889644384384155),\n",
       " ('cdsms', 0.98882657289505),\n",
       " ('computerized', 0.9875862002372742)]"
      ]
     },
     "metadata": {},
     "execution_count": 27
    }
   ],
   "source": [
    "modelFT.wv.most_similar(positive=['cdss'], topn = 10)"
   ]
  },
  {
   "cell_type": "code",
   "execution_count": 28,
   "id": "1c385a87-3f2f-49e0-b3a5-62e8a4db9672",
   "metadata": {},
   "outputs": [
    {
     "output_type": "execute_result",
     "data": {
      "text/plain": [
       "[('decision-support', 0.9942960143089294),\n",
       " ('compute', 0.9920271635055542),\n",
       " ('cds', 0.9911463260650635),\n",
       " ('systems', 0.9896308183670044),\n",
       " ('cdc', 0.9884072542190552),\n",
       " ('ecosystem', 0.9880969524383545),\n",
       " ('system', 0.9880873560905457),\n",
       " ('cdsi', 0.986912727355957),\n",
       " ('clinical', 0.9853878021240234),\n",
       " ('tools', 0.9849950671195984)]"
      ]
     },
     "metadata": {},
     "execution_count": 28
    }
   ],
   "source": [
    "modelFT.wv.most_similar(positive=['clinical decision support system'], topn = 10)"
   ]
  },
  {
   "cell_type": "code",
   "execution_count": 29,
   "id": "25981335-d3d0-4722-abdf-d1701030ca0f",
   "metadata": {},
   "outputs": [
    {
     "output_type": "execute_result",
     "data": {
      "text/plain": [
       "[('into', 0.6904014945030212),\n",
       " ('integral', 0.688778817653656),\n",
       " ('integrate', 0.6847514510154724),\n",
       " ('making', 0.684546709060669),\n",
       " ('clinic', 0.6836258172988892),\n",
       " ('provide', 0.6830564141273499),\n",
       " ('integrates', 0.6796035766601562),\n",
       " ('intelligent', 0.6759086847305298),\n",
       " ('providing', 0.6752824783325195),\n",
       " ('inform', 0.6748147010803223)]"
      ]
     },
     "metadata": {},
     "execution_count": 29
    }
   ],
   "source": [
    "modelFT.wv.most_similar(positive=['clinical','CDS'], topn = 10)"
   ]
  },
  {
   "cell_type": "code",
   "execution_count": 30,
   "id": "4b90768b-98b0-4047-8375-1a1582208ac9",
   "metadata": {},
   "outputs": [],
   "source": [
    "# modelW2V.wv['machine']"
   ]
  },
  {
   "cell_type": "code",
   "execution_count": 31,
   "id": "6d246e7d-f828-457e-9359-dec5a9b00169",
   "metadata": {},
   "outputs": [],
   "source": [
    "# modelFT.wv['machine']"
   ]
  },
  {
   "cell_type": "code",
   "execution_count": 32,
   "id": "cb82e237-514a-453b-9e7b-3db728a878c2",
   "metadata": {},
   "outputs": [],
   "source": [
    "# modelW2V.wv.most_similar(positive=['machine'])"
   ]
  },
  {
   "cell_type": "code",
   "execution_count": 33,
   "id": "bf7363b8-4e84-41bd-b72c-194d869a45cf",
   "metadata": {},
   "outputs": [],
   "source": [
    "# modelFT.wv.most_similar(positive=['machine'])"
   ]
  },
  {
   "cell_type": "code",
   "execution_count": 34,
   "id": "c5c783e6-6c0e-4e39-9a67-c80f7966cec8",
   "metadata": {},
   "outputs": [
    {
     "output_type": "stream",
     "name": "stdout",
     "text": [
      "0.95006484\n0.90896904\n0.9493738\n0.9691944\n0.97116977\n"
     ]
    }
   ],
   "source": [
    "print(modelFT.wv.similarity('cdss', 'clinical'))\n",
    "print(modelFT.wv.similarity('cdss', 'decision'))\n",
    "print(modelFT.wv.similarity('cdss', 'support'))\n",
    "print(modelFT.wv.similarity('cdss', 'systems'))\n",
    "print(modelFT.wv.similarity('cdss', 'clinical decision support systems'))"
   ]
  },
  {
   "cell_type": "code",
   "execution_count": 35,
   "id": "299dc530-d2c0-4957-926a-4c175c0322a5",
   "metadata": {},
   "outputs": [
    {
     "output_type": "stream",
     "name": "stdout",
     "text": [
      "0.789354\n0.7820957\n0.7978011\n0.75958157\n"
     ]
    }
   ],
   "source": [
    "print(modelW2V.wv.similarity('cdss', 'clinical'))\n",
    "print(modelW2V.wv.similarity('cdss', 'decision'))\n",
    "print(modelW2V.wv.similarity('cdss', 'support'))\n",
    "print(modelW2V.wv.similarity('cdss', 'systems'))"
   ]
  },
  {
   "cell_type": "code",
   "execution_count": 36,
   "id": "ec42a3bd-5d64-4fbe-9603-8b4e4f8ac6a7",
   "metadata": {},
   "outputs": [
    {
     "output_type": "error",
     "ename": "KeyError",
     "evalue": "\"word 'clinical decision support systems' not in vocabulary\"",
     "traceback": [
      "\u001b[0;31m---------------------------------------------------------------------------\u001b[0m",
      "\u001b[0;31mKeyError\u001b[0m                                  Traceback (most recent call last)",
      "\u001b[0;32m/local_scratch/pbs.5247758.pbs02/ipykernel_2998456/4069053922.py\u001b[0m in \u001b[0;36m<module>\u001b[0;34m\u001b[0m\n\u001b[0;32m----> 1\u001b[0;31m \u001b[0mprint\u001b[0m\u001b[0;34m(\u001b[0m\u001b[0mmodelW2V\u001b[0m\u001b[0;34m.\u001b[0m\u001b[0mwv\u001b[0m\u001b[0;34m.\u001b[0m\u001b[0msimilarity\u001b[0m\u001b[0;34m(\u001b[0m\u001b[0;34m'cdss'\u001b[0m\u001b[0;34m,\u001b[0m \u001b[0;34m'clinical decision support systems'\u001b[0m\u001b[0;34m)\u001b[0m\u001b[0;34m)\u001b[0m\u001b[0;34m\u001b[0m\u001b[0;34m\u001b[0m\u001b[0m\n\u001b[0m",
      "\u001b[0;32m~/.conda/envs/pytorch/lib/python3.8/site-packages/gensim/models/keyedvectors.py\u001b[0m in \u001b[0;36msimilarity\u001b[0;34m(self, w1, w2)\u001b[0m\n\u001b[1;32m    972\u001b[0m \u001b[0;34m\u001b[0m\u001b[0m\n\u001b[1;32m    973\u001b[0m         \"\"\"\n\u001b[0;32m--> 974\u001b[0;31m         \u001b[0;32mreturn\u001b[0m \u001b[0mdot\u001b[0m\u001b[0;34m(\u001b[0m\u001b[0mmatutils\u001b[0m\u001b[0;34m.\u001b[0m\u001b[0munitvec\u001b[0m\u001b[0;34m(\u001b[0m\u001b[0mself\u001b[0m\u001b[0;34m[\u001b[0m\u001b[0mw1\u001b[0m\u001b[0;34m]\u001b[0m\u001b[0;34m)\u001b[0m\u001b[0;34m,\u001b[0m \u001b[0mmatutils\u001b[0m\u001b[0;34m.\u001b[0m\u001b[0munitvec\u001b[0m\u001b[0;34m(\u001b[0m\u001b[0mself\u001b[0m\u001b[0;34m[\u001b[0m\u001b[0mw2\u001b[0m\u001b[0;34m]\u001b[0m\u001b[0;34m)\u001b[0m\u001b[0;34m)\u001b[0m\u001b[0;34m\u001b[0m\u001b[0;34m\u001b[0m\u001b[0m\n\u001b[0m\u001b[1;32m    975\u001b[0m \u001b[0;34m\u001b[0m\u001b[0m\n\u001b[1;32m    976\u001b[0m     \u001b[0;32mdef\u001b[0m \u001b[0mn_similarity\u001b[0m\u001b[0;34m(\u001b[0m\u001b[0mself\u001b[0m\u001b[0;34m,\u001b[0m \u001b[0mws1\u001b[0m\u001b[0;34m,\u001b[0m \u001b[0mws2\u001b[0m\u001b[0;34m)\u001b[0m\u001b[0;34m:\u001b[0m\u001b[0;34m\u001b[0m\u001b[0;34m\u001b[0m\u001b[0m\n",
      "\u001b[0;32m~/.conda/envs/pytorch/lib/python3.8/site-packages/gensim/models/keyedvectors.py\u001b[0m in \u001b[0;36m__getitem__\u001b[0;34m(self, entities)\u001b[0m\n\u001b[1;32m    351\u001b[0m         \u001b[0;32mif\u001b[0m \u001b[0misinstance\u001b[0m\u001b[0;34m(\u001b[0m\u001b[0mentities\u001b[0m\u001b[0;34m,\u001b[0m \u001b[0mstring_types\u001b[0m\u001b[0;34m)\u001b[0m\u001b[0;34m:\u001b[0m\u001b[0;34m\u001b[0m\u001b[0;34m\u001b[0m\u001b[0m\n\u001b[1;32m    352\u001b[0m             \u001b[0;31m# allow calls like trained_model['office'], as a shorthand for trained_model[['office']]\u001b[0m\u001b[0;34m\u001b[0m\u001b[0;34m\u001b[0m\u001b[0;34m\u001b[0m\u001b[0m\n\u001b[0;32m--> 353\u001b[0;31m             \u001b[0;32mreturn\u001b[0m \u001b[0mself\u001b[0m\u001b[0;34m.\u001b[0m\u001b[0mget_vector\u001b[0m\u001b[0;34m(\u001b[0m\u001b[0mentities\u001b[0m\u001b[0;34m)\u001b[0m\u001b[0;34m\u001b[0m\u001b[0;34m\u001b[0m\u001b[0m\n\u001b[0m\u001b[1;32m    354\u001b[0m \u001b[0;34m\u001b[0m\u001b[0m\n\u001b[1;32m    355\u001b[0m         \u001b[0;32mreturn\u001b[0m \u001b[0mvstack\u001b[0m\u001b[0;34m(\u001b[0m\u001b[0;34m[\u001b[0m\u001b[0mself\u001b[0m\u001b[0;34m.\u001b[0m\u001b[0mget_vector\u001b[0m\u001b[0;34m(\u001b[0m\u001b[0mentity\u001b[0m\u001b[0;34m)\u001b[0m \u001b[0;32mfor\u001b[0m \u001b[0mentity\u001b[0m \u001b[0;32min\u001b[0m \u001b[0mentities\u001b[0m\u001b[0;34m]\u001b[0m\u001b[0;34m)\u001b[0m\u001b[0;34m\u001b[0m\u001b[0;34m\u001b[0m\u001b[0m\n",
      "\u001b[0;32m~/.conda/envs/pytorch/lib/python3.8/site-packages/gensim/models/keyedvectors.py\u001b[0m in \u001b[0;36mget_vector\u001b[0;34m(self, word)\u001b[0m\n\u001b[1;32m    469\u001b[0m \u001b[0;34m\u001b[0m\u001b[0m\n\u001b[1;32m    470\u001b[0m     \u001b[0;32mdef\u001b[0m \u001b[0mget_vector\u001b[0m\u001b[0;34m(\u001b[0m\u001b[0mself\u001b[0m\u001b[0;34m,\u001b[0m \u001b[0mword\u001b[0m\u001b[0;34m)\u001b[0m\u001b[0;34m:\u001b[0m\u001b[0;34m\u001b[0m\u001b[0;34m\u001b[0m\u001b[0m\n\u001b[0;32m--> 471\u001b[0;31m         \u001b[0;32mreturn\u001b[0m \u001b[0mself\u001b[0m\u001b[0;34m.\u001b[0m\u001b[0mword_vec\u001b[0m\u001b[0;34m(\u001b[0m\u001b[0mword\u001b[0m\u001b[0;34m)\u001b[0m\u001b[0;34m\u001b[0m\u001b[0;34m\u001b[0m\u001b[0m\n\u001b[0m\u001b[1;32m    472\u001b[0m \u001b[0;34m\u001b[0m\u001b[0m\n\u001b[1;32m    473\u001b[0m     \u001b[0;32mdef\u001b[0m \u001b[0mwords_closer_than\u001b[0m\u001b[0;34m(\u001b[0m\u001b[0mself\u001b[0m\u001b[0;34m,\u001b[0m \u001b[0mw1\u001b[0m\u001b[0;34m,\u001b[0m \u001b[0mw2\u001b[0m\u001b[0;34m)\u001b[0m\u001b[0;34m:\u001b[0m\u001b[0;34m\u001b[0m\u001b[0;34m\u001b[0m\u001b[0m\n",
      "\u001b[0;32m~/.conda/envs/pytorch/lib/python3.8/site-packages/gensim/models/keyedvectors.py\u001b[0m in \u001b[0;36mword_vec\u001b[0;34m(self, word, use_norm)\u001b[0m\n\u001b[1;32m    466\u001b[0m             \u001b[0;32mreturn\u001b[0m \u001b[0mresult\u001b[0m\u001b[0;34m\u001b[0m\u001b[0;34m\u001b[0m\u001b[0m\n\u001b[1;32m    467\u001b[0m         \u001b[0;32melse\u001b[0m\u001b[0;34m:\u001b[0m\u001b[0;34m\u001b[0m\u001b[0;34m\u001b[0m\u001b[0m\n\u001b[0;32m--> 468\u001b[0;31m             \u001b[0;32mraise\u001b[0m \u001b[0mKeyError\u001b[0m\u001b[0;34m(\u001b[0m\u001b[0;34m\"word '%s' not in vocabulary\"\u001b[0m \u001b[0;34m%\u001b[0m \u001b[0mword\u001b[0m\u001b[0;34m)\u001b[0m\u001b[0;34m\u001b[0m\u001b[0;34m\u001b[0m\u001b[0m\n\u001b[0m\u001b[1;32m    469\u001b[0m \u001b[0;34m\u001b[0m\u001b[0m\n\u001b[1;32m    470\u001b[0m     \u001b[0;32mdef\u001b[0m \u001b[0mget_vector\u001b[0m\u001b[0;34m(\u001b[0m\u001b[0mself\u001b[0m\u001b[0;34m,\u001b[0m \u001b[0mword\u001b[0m\u001b[0;34m)\u001b[0m\u001b[0;34m:\u001b[0m\u001b[0;34m\u001b[0m\u001b[0;34m\u001b[0m\u001b[0m\n",
      "\u001b[0;31mKeyError\u001b[0m: \"word 'clinical decision support systems' not in vocabulary\""
     ]
    }
   ],
   "source": [
    "print(modelW2V.wv.similarity('cdss', 'clinical decision support systems'))"
   ]
  },
  {
   "cell_type": "code",
   "execution_count": 37,
   "id": "b4882b05-6cb3-45b5-b6d5-ce476ad79116",
   "metadata": {},
   "outputs": [
    {
     "output_type": "stream",
     "name": "stdout",
     "text": [
      "Word2Vec Vocab 15755\nFastText Vocab 4705\n"
     ]
    }
   ],
   "source": [
    "print(\"Word2Vec Vocab\",len(modelW2V.wv.vocab))\n",
    "print(\"FastText Vocab\",len(modelFT.wv.vocab))"
   ]
  },
  {
   "cell_type": "code",
   "execution_count": 41,
   "metadata": {
    "tags": [
     "outputPrepend"
    ]
   },
   "outputs": [
    {
     "output_type": "stream",
     "name": "stdout",
     "text": [
      "n', '863', 'polysomnography', 'antidepressant', 'low-back', 'flags', 'imaged', '.974', 'returned', '.170', 'hepatology', 'gynecology', 'fairly', 'modularized', 'chaining', 'exactness', '99.01', '84.73', 'explicable', 'objectivity', 'postburn', 'resuscitated', '24.9', '29.9', 'inches', 'overresuscitation', 'impetus', 'interplay', 'nursing-sensitive', '5515', 'intra', 'http://www.crd.york.ac.uk/prospero/display_record.asp?id', 'webcite', 'http://www.webcitation.org/6pihmlbzh', 'radiographs', '2012-december', 'credentialed', '14,642', '632', 'control-group', '239/258=92.6', '231/374=61.8', '209/258=81.0', '238/374=63.6', '166/258=64.3', '183/374=48.9', '141/258=54.6', '202/374=54.0', 'p=0.95', '26/307=8.5', '18/385=4.7', 'interventionally', 'web-centric', 'enriching', 'navigate', 'intrauterine', 'confers', 'macrosomia', 'offspring', 'artificial-intelligence-augmented', 'seventh', '247', '(re)usability', 'tmr', 'futile', '95.3', 'epidemiology', 'strobe', 'stard', '389', '42.0', 'ahd', '245', '164', '24.1', '55.1', '0.717', '0.680', '0.754', '33.1', '27.3', '87.8', '92.4', '0.709', '0.671', '0.747', 'multiorgan', 'reweighting', 'minus', '12/17/08', '2/17/13', 'icd-9-cm', 'bigram', 'negation', 'bag', '230,936', 'bag-of-words', 'drastically', 'mistreatment', 'caseworkers', 'differing', 'scenario-specific', 'nonradiologists', 'eastern', 'supplementary', '(ussd)-based', 'system-2', 'dhims-2', 'nct02468310', 'pan', 'pactr20151200109073', 'cardiotocogram', 'non-classical', 'fetus', 'outperform', '790', '≥36', 'umbilical', 'trace', 'nonreactive', 'decelerative', 'nonclassical', 'preeclampsia', 'thick', 'meconium', '3197', '793', '43.3', '38.0', '36.1', 'historic', 'acos', 'pcmh', 'ameliorate', 'race/ethnic', 'disengaged', 'metaheuristic', '6065', 'converges', 'compose', 'patient-personalized', 'device-associated', 'cvads', 'hematologic', 'wocova', 'evidence-', 'cvad-associated', '2-phase', 'posttest', 'in-process', 'non-indexed', 'granisetron', 'unwarranted', 'or/pacu', 'interviewees', 'bwh', 'feeling', 'self-reporting', 'episodic', 'portions', '0.87±0.11', '0.99±0.03', '0.98±0.03', '0.82±0.24', '0.65±0.28', 'blood-pressure', '0.75±1.33', 'end-of-study', 'afeqt', 'patient-guidance', 'self-measurement', 'ldh', 'l4/5', 'l5/s1', 'oswestry', '25.1', '80.8', '92.1', '7.3', 'scorings', 'cannula', '635', '2394', '2.3%-3.7', '0.8%-1.5', '2.1%-4.0', 'ged', '1.7%-6.2', 'secular', 'databank', 'rxnorm', 'ingredient', 'kb', 'rankings', 'pacs', 'medicolegal', 'fasciotomies', 'guarding', 'intramuscular', 'near-infrared', 'spectroscopy', '191', 'normally', 'unrecognized', 'pathway-specific', 'extraordinary', 'chronification', 'competence', 'bonn', 'zseb', 'shed', 'directive', 'interpod.', 'interpod', 'interpod-related', '80,587', 'discordance', 'resuscitate', '85.36', '13.69', '399.85', '182.86', '1.99', '16.70', 'honor', 'non-medication', 'dwelling', 'nih', 'nhlbi', 'hf', 'rule-sharing', 'systemized', 'lexicon', 'fewest', 'ctakes', 'ample', 'imaging-', 'enterprise-wide', 'externalize', 'blend', 'graphic', 'hermeneutic', 'suddenly', 'organization-international', 'who-ish', 'avatars', 'time-in-therapeutic-range', 'two-sided', 'minimizes', 'entropy/impurity', 'fault', 'keeps', 'clots', 'anticoagulant(s', 'ios-based', 'georgia', 'tech', 'ease-of-use', 'hmic', '1980', 'icroms', 'fifty-eight', '28/38;74', 'csfs', 'overused', 'resided', '3,467', '707', '1,150', '636', '974', '35.6', '44.4', '-8.7', '-14.65', '-2.67', '2.8', '-0.13', '-0.35', '.927', 'non-small-cell', 'partnered', 'non-small', 'postpathway', 'prepathway', 'egfr', 'alk', '15,013', '67,050', '52,037', 'antineoplastics', 'coalesce', 'assessment-based', 'winter', '567', '98%+', 'fears', 'reasoned', 'non-diabetic', '≥140', '≤40', 'titrated', 'replicable', '12,440', 'antiviral', 'elders', 'nhg', '40.7', 'dutch-translated', '9/17', '5/10', '3/6', '6/13', '1/6', '16.6', '2/13', '0/9', 'fall-related', 'two-fifths', 'acove-based', 'assimilation', 'piecemeal', 'segregated', 'diabetes-specific', 'graphically', 'color-coded', 'informs', 'appreciation', 'swabs', '676', '41.4', 'retained', 'optimism-corrected', '4.7', 'radt-for-all', 'exploited', 'al.', 'stack', 'sutton', 'trialed', 'age∗10μg/l', '50years', '3324', '25.2', '500μg/l', '19.7', '30.1', '12.6', 'doubles', 'inadequately', 'judging', '1369', 'boys', '657', 'girls', '48.0', '684', '685', '663', 'sixty-five', '31.4', '153', '18.9', 'nct01814787', 'hurdles', 'correcting', 'prepares', '13,788', '3447', '1526', 'corrected', 'eliminated', 'crt', '69.0', 'multi-emr', 'user-acceptance', 'multi-centered', 'elicits', 'signaling', 'fun', 'carolina', 'counties', '7146', 'treatment-related', 'heath', '60.61', 'ccda', 'qualify', 'payments', 'prohibit', 'withheld', 'withholding', '5,841', '6,935', '93.7', 'antibiograms', 'infect', 'hosp', 'epidemiol', '2017;38:469', 're-hospitalization', 'drug-gene-based', '0.27', 'broaden', 'nct02378220', 'conceptualize', 'epidemiologists', 'italiano', 'buenos', 'aires', 'sociologists', 'anthropologists', 'socio-cultural', 'vagueness', 'randomness', 'ignorance', 'early-intervention', 'come', 'within-participant', '12.35', 'technology-aided', 'chemotherapy-related', '358', 'np', 'nps', 'binominal', '3.59', 'chemical', 'n05a', '61.5', '217/353', '118/353', '217', '137/217', '36.8', '80/217', 'polytherapy', 'nonpsychotic', 'unproductive', 'overprescription', 'scream', 'consist', 'method/design', 'somatic', 'psychogeriatric', 'eliminates', 'ntr5165', 'non-normal', 'microsystems', 'unit-an', 'fragile', 'megaunits', 'reorganized', 'microstructure', 'solid', 'nct02912780', '≤18', 'purulent', 'drained', 'non-suppurative', '97/102', 'suppurative', 'early/suspicious', 'abscess', 'definite', 'abscess/fluid', '32/36', 'fluctuance', 'erythema', '24.3', 'tele-monitoring', 'copd-related', 'contrasts', 'hearth', 'tele-monitored', 'advisortm', 'bootstrapping', 'rates/means', 'sepsis/', '-2.9', '-0.9', '-1.6', '82.0', '50.6', 'sicker', 'wart', 'hands', 'feet', 'endeavoring', 'ghaem', 'mashhad', 'liquid', 'nitrogen', '83.33', 'multifold', 'basics', 'catalonia', 'emphasises', 'nonprofit', 'academically', 'offices', 'adjudicated', 'sbar', 'pubmed/medline/cochrane', 'non-hospital', '1197', 'low-quality', 'digitisation', 'attract', 'strongest', 'confer', 'invest', 'defence', 'post-operational', 'tour', 'post-tour', 'silver', 'bullets', 'institutionalise', 'indigenous', '1976', 'cost-benefit', 'cost-utility', 'cost-beneficial', 'prominently', 'between-visit', 'out-of-range', 'font', 'drawback', 'rule-miner', 'meta-heuristic-based', 'pima', 'indians', 'smartphone-enabled', 'task-sharing', 'himachal', 'pradesh', 'vetted', '6797', '146.1', '145.7', '146.5', '89.52', '89.33', '89.72', '3152', '1516', '177.9', '175.8', '180.0', '450', '-14.6', '-15.3', '-13.8', '-7.6', '-8.0', '-7.2', '-50.0', '-54.6', '-45.5', 'nurse-facilitated', 'system-enabled', 'nct01794052', 'registry-india', 'ctri/2013/02/003412', 'ccr5-coreceptor', 'ccr5', 'r5', 'evade', 'glycoprotein', '73.5', 'reproduce', 'cxcr4-usage', 'substitutions', 'g', '8s', 'v1', 'v2', 'loops', 'v1/v2', 'maraviroc', 'http://coreceptor-hiv2.geno2pheno.org', 'hospitalist', 'kidneys', 'lungs', 'fivefold', 'obstacles', '-14.24', '-26.93', '-1.55', '1.79', '-1.47', '-3.75', 'p=0.21', 'economy', 'suiting', 'sicily', 'diminishing', 'multi-morbid', 'mitigation-oriented', 'depth-first', 'theorem', 'interaction-free', 'insulates', 'scorecards', '2016;11:s8-s14', 'preprocess', 'convert', 'missingness', 'cross-checking', 'accommodating', '(sle)-affected', 'foetal', 'sle-affected', 'shariati', '1982', 'p<0.10', 'afterward', 'multi-layer', '2013b', 'p-value<0.1', '80.0', '94.1', '79.4', '75.16', 'verbalizing', 'thoughts', 'patient-risk', 'high-severity', 'outweighed', 'constancy', 'risk-control', 'prescription-targeted', 'person-specific', 'irccs', 'istituto', 'scientifico', 'romagnolo', 'lo', 'la', 'cura', 'dei', 'tumori', 'irst', 'nct02645357', 'computerization', 'pades', 'post-natal', '330', '30·4', 'licensed', '1·0', 'retains', 'c.p.o.e.', 'multicentric', 'interim', 'end-of-treatment', 'hodgkin', 'non-hodgkin', 'pretransplant', 'response-adapted', 'cornerstone', 'patients≥age', '65years', 'python', '514', '88.24', '97.78', '89.47', '88.00', '98.08', '93.14', '982', 'exudates', 'enlarged', '32.2', 'culture-positive', '4-variable', 'ebm', 'expedition', 'medidss', 'vimercate', 'meldola', 'emilia', 'romagna', '24/7', 'recognizable', 'plenary', 'prepopulated', 'clickable', 'adopters', 'non-users', 'it-support', 'noncontrolled', 'chamber', '30.94±14.04', '72h', 'palmar', 'kite', 'interosseous', 'metacarpal', 'contracture', 'intra-compartment', '55mmhg', 'snakebite', 'iii-iv', 'grave', 'homegrown', 'cumbersome', 'confusing', 'rapid-cycle', 'mini', 'exploitation', 'neuro', 'lot', 'utility/accuracy', 'mined', 'expert-labeled', 'cleaning', '634', 'step-down', '1/20', 'hz', 'oscillometric', 'epochs', '812', '214', 'ml-defined', 'objectives/hypothesis', 'unfamiliarity', 'cancer-specific', 'laryngoscope', '126:2640', '2645', 'injury/percentage', 'burned', 'indexed', 'nonlinearly', 'quadratic', 'polynomial', '0.994', 'presume', 'vice', 'versa', '10%tbsa', 'non-interventional', 'www', 'memind.net', '1116', '486', 'aripiprazole', 'acting', 'ziprasidone', '287', 'depot', 'clotiapine', 'amisulpride', 'clozapine', 'visible', 'momentary', 'joints', 'moderate/high', 'cdai≥10.1', 'das-28crp>3.2', 'cdai≥', 'das28crp>3.2', 'you', 'currently/awaiting', '21,056', '5,428', 'objected', '8,000', 'camera-i', 'camera-ii', 'protocolled', 'dictate', 'mc', 'ventilatory', 'conduction', 'aneurysmal', 'thunderclap', 'rebleeding', 'beach-chair', 'discretionary', '443', '1.92', '2.21', '7.09', '2.63', '19.14', '4.10', '3.33', '5.05', 'freestanding', '2.01', 'sized', '0.42', 'tsas', 'strains', 'governing', 'world-wide', 'pdf-booklet', 'dropbox', 'docs', 'instantly', 'ecco', 'n=127', '74.2', '76.2', 'strictly', 'wherever', 'pointers', 'syntax-applications', '1989', '2.10', 'web-services', 'propositional', 'to-do', 'week/labor/delivery', 'clinical-practice-guideline-based', 'redefining', 'freedom', 'surgeries-invasive', '(ascs)-produced', 'deeply', 'discontents', 'nominated', 'primed', 'iterated', 'criticism', 'coach', 'extrapolation', '3-part', 'one-fifth', '1,247', '3,788', '421', 'columbia', '1.50', '3.83', '3.02', 'preconstructed', 'analogy', 'dirichlet', 'human-authored', '-20', 'process-oriented', 'impairing', 'inferring', 'decision-tree', 'sole', 'presumptions', '7001', '7-day', '3-arm', 'colored', '.018', '.627', 'confidently', 'phenomenographic', 'division', 'team-collaboration', 'pprnet', 'on-site', '23.5', 'ace-inhibitor', 'blocker', 'cqms', '1781', 'toxic', 'non-traumatic', 'xanthochromia', '1561', '277', '≥40', 'stiffness', 'exertion', '1317', 'sugar', 'umin', '00004871', 'preferable', 'repeated-measures', 'recovering', 'story', 'j-curve', 'manageable', 'puts', 'j', 'strategically', 'observability', 'anesthetists', 'bounded', 'margins', 'observation/prediction', 'anesthetist', 'reengineering', '2h', 'didactic', '1h', '20h', 'self-ratings', 'uncritical', 'co-developed', 'österle', 'vidalrecos', 'bottom-up', 'upstream', 'mass-casualty', 'countermeasures', 'deterministic', 'plant', 'fuel', 'weapon', 'accidents/incidents', 'countermeasure(s', 'ncrp-161', 'correlational', 'coordinators', 'socio-demographics', '≤25', '≤75', 'n=23', '[or]=0.11', 'or=0.04', 'or=0.01', 'or=0.94', 'or=0.21', 'vigilantly', 'sofia', 'bulgaria', '360', 'n=720', 'http://www.controlled-trials.com/', 'isrctn46449237', 'cord-artery', 'ph<7.20', 'umbilical-artery', 'ph<7.05', 'forceps', 'apgar', 'seizures', '0.45', 'overstate', 'anaesthesiology', 'speak', 'talked', '126', 'n.s', 'briefings', 'anaesthesiologist', 'cutaneous', 'nijmegen', '619', 'rounding', '⩾1', '445', 'seventy-four', 'rp', 'non-rp', 'sclerodactyly', 'non-raynaud', 'ssc-specific', 'cut', 'lcssc', 'low/high', 'primum', 'benzodiazepines', 'ran', 'silently', '21.75', '1.30', '9998', 'endowed', 'multiskill', 'arrivals', 'multi-healthcare', 'multi-agent', 'negotiation', 'coalition', 'respecting', 'degrees', 'ruhc', 'lille', 'anr', 'hôpital', 'évitement', 'anr-11-tecsan-010', 'http://host.ec-lille.fr/wp-content/themes/twentyeleven/docsanr/r0/host-wp0.pdf', 'aims-based', 'happens', 'overreliant', 'compendex', 'premiere', '1983', '890', 'pharmacy-derived', '1965', 'loose', 'stools', 'salience', '46-year-old', 'right-sided', 'numbness', 'tingling', 'pain-free', 'workflow-driven', 'third-party', 'modelers', 'encapsulate', 'psychological/clinical', 'reinforced', 'mindfulness', 'gamification', 'tailor-made', 'pathology-related', 'defibrillator', 'recorder', 'tasked', 'bachground', 'icd', '74.5', '50.3', '94.7', 'end-organ', 'mm/hg', '53.6', 'chart-review', 'age-based', 'clinically-important', 'customize', 'export', 'rhinosinusitis', '316', '95.25', 'gp-assessed', 'danish', '1.15', '2.60', '5.81', '12.7', 'nights', '1.80', 'colleagues', 'scrambled', 'audiotaped', 'explicitness', 'wilcox', 'p<.01', 'user-experience', 'biophysiological', 'psychobehavioral', 'ecart', '∼80', 'leukocytosis', 'in-house', 'vte-related', 'seconded', 'randomizing', 'https://clinicaltrials.gov/ct2/show/nct02577198?term', 'nct02577198&rank=1', '0.004±0.025', '97.58', '2.2-', '1.4-', '1.3-', 'hear', 'prof.', 'reitsma', 'steeply', 'g20210a', 'first-time', '431', 'at-age', 'first-degree', 'relatives', 'plaster', 'cast', '2.2-fold', '1.4-fold', '1.3-fold', 'prothrombotic', 'physiotherapy', 'survived', '36-item', 'short-form', 'sf-36', '66.2', '84.4', '244', '75.3', '69.4', '13.7', '70.3', '49.1', '6.54', '49.3', '51.0', '-1.22', '-1.79', '.28', 'care-focused', 'isrctn.org', 'isrctn61744782', 'β-lactamase-producing', 'organism', 'β-lactamase', 'carbapenems', 'microbial', 'genus', 'organisms', '≥18', 'escherichia', 'coli', 'klebsiella', 'inhibitory', '≥2', 'µg/ml', 'cross-validated', 'c-statistics', '1288', '194', 'esbl-positive', 'colonization/infection', 'indwelling', '≥43', 'high-burden', '90.8', 'esbl-producing', 'bioindicators', 'ars', 'göttingen', 'mo', 'sham-irradiated', 'bilaterally', 'gamma-photons', 'co', 'cytokines/antibiotics', 'thrombocyte', 'lymphocyte', 'victims', 'non-rodent', 'moved', 'marketplaces', 'population/patients/healthcare', '46.8', '31.5', '21.7', '36.5', '94.2', 'enforce', 'clarified', 'cautious', 'whatever', 'minneapolis', 'mn', 'physician-led', '(icsi)-developed', 'quota', 'synchronized', 'patent', 'players', 'resources/solutions', 'situation/problem', 'multi-relational', 'abstractly', 'traversals', 'vertices', 'edges', 'unsolved', 'timeframe', 'happened', 'coincide', 'repeatly', 'repeatedly', 'cam-icu', 'trackers', 'elaborates', 'implantations', 'consolidation', 'under-investigated', 'throats', 'gabhs', 'etiology', '26.5', '3157', 'duplicates', 'markup', 'compilers', 'coders', 'importing', 'declaration', 'if∼then', 'declarations', '1489', '324', '241', 'imported', '73,841', 'stylesheets', 'gene-drug', 'drug-prescribing', 'pharmacist-managed', 'hla-b*15:02-carbamazepine', 'azathioprine', 'mercaptopurine', 'thioguanine', 'sixty-three', 'hla-b*15:02-anticonvulsants', 'physician-geneticist', 'ontology-driven', 'dentures', 'discounted', 'ndcg', 'merits', 'really', 'age-related', 'interindividual', 'intoxication', 'exemplifies', 'optimizes', 'acm-guided', '752', 'nephrocare', 'μg/kg/month', 'on-target', '70.6', '76.6', 'reaching', '83.2', 'centric', 'privately', 'risk-bearing', '417,000', 'change(1', 'pursue', 'accomplished', 'multi-practice', 'cooperative', 'parceled', 'provisioning', 'goes', 'restructuring', 'deluge', 'layers', 'biodata', 'micro-nano', 'r&d', 'phs', 'telerehabilitation', 'personalising', 'motivating', 'originated', 'kinect', 'eu-funded', 'triad', '5.25', '19.08', '13.21', '2.52', 'gold-standard', 'recalcitrance', 'medication-associated', 'noncritically', 'aminoglycoside', 'nephrotoxins', '1749', '2358', '3243', 'nephrotoxin', '575', '43-month', '11.63', '7.24', 'exposures/1000', 'episodes/1000', '633', 'translatable', 'nonpediatric', 'centred', 'generalisable', 'happen', 'unit-dose', 'interlinking', 'harm-related', 'cost-related', 'crucially', 'free-living', '182', '6-h', '0.1', 'urolithiasis', 'seventy-five', 'fellowship-trained', 'endourologist', 'pre-ffq', 'post-ffq', '1.07', 'treatment-relevant', 'riskprediction', 'univariable', 'waveforms', 'infosphere', 'steady', 'browser', 'ubiquitously', 'lqts', 'qt-prolonging', 'tdp.', 'ophthalmological', 'manifestation', 're-examination', '7169', 'n=3373', 'inter-method', '38.3', '27.6', '65.7', 'proliferative', 'sahlgrenska', 'gothenburg', 'perceives', 'bench', 'ibds', 'advent', 'cellular', 'documentation-', 'seventy-nine', 'glucotab(', ')-a', 'hypoglycemic', 'eightfold', 'paramount', 'strata', 'entrants', 'dead', '100,000/quality-adjusted', '≥5', 'antagonist', 'non-valvular', 'field-atrial', '8445', '±antiplatelet', '5066', '905', '56·0', '49·8', '59·7', '50·0', '0·860', '0·852', '0·867', 'lin', '0·829', '0·821', '0·837', '17·4', 'interchangeably', 'fallible', 'envisioned', 'ascribed', 'bodily', 'realism-based', 'everything', 'thesis', 'tends', 'executes', 'networking', 'www.emama.mk', 'pacemakers', 'defibrillators', 'transmitted', 'telecardiology', 'glioma', 'biomolecular', 'atlas', 'tcga', 'inspect', 'mrmr', 'mkl', 'evidence-driven', 'less-relevant', 'organizer', 'convener', 'illusion', 'domain-specific', 'paved', 'mine', 'catch', 'co-reference', 'inadvertently', 'edited', 'spurious', 'disabling', 'homeostatic', 'stabilizing', '92.9', '91.6', '93.9', 'pleiotropy', 'pharmacogenes', 'pharmacogene', 'nonactionable', '0.0002', 'p-values', 'icers', 'level-i', 'micro-costing', '65-', '74-year-old', '53,407', '30,553', '12.00', '10.11', '12,078/qaly', '75-', '84-year-old', '51,308', '29,789', '6.85', '6.31', '40,467/qaly', 'over-84', '45,978', '28,872', '2.48', '3.73', 'disutility', '100,000/qaly', 'colposcopic', 'liquid-based', 'typing', 'e6&e7', 'mrna', 'nasba', 'cytometry', 'p16ink4a', 'immunostaining', '2267', 'followup', 'n=3565', 'cytological', 'hpv/cin1', 'work-up', 'assessable', 'immobilization', 'calve', 'circumferences', '617', '0.049', 'p=0.13', 'most-utilized', 'highest-costing', '35.4/206', 'non-oral', 'orals', 'blank', 'speculate', 'manchester', '255.668', 'nonobstetric', 'ramon', 'cajal', 'nonrandom', '0.8568', '0.8508', '0.8583', '0.8575', '0.8540', '8610', 'χ', 'deciles', '65.32', '17.28', 'literatures', '1975', 'theory/technology', 'dempster-shafer', 'answer-pattern', 'thereafter', 'pre-diagnostic', 'myotonic', 'dystrophy', 'myotonia', 'amyotrophic', 'polyneuropathy', 'pnp', 'muscular', 'nnd', 'malleable', '89.5', '57/64', 'questionnaire-based', 'piperacillin-tazobactam', 'money', 'ticd', 'osteoarthritis', 'funders', 'educators', 'late-stage', 'markets', 'physician-perceived', 'us/german', 'disclosing', 'physician-rated', 'clinical/health', 'test/platform', 'impractical', 'encoding', 'manipulation', 'tradeoff', 'web-enabled', 'implementation-effectiveness', 'consentable', 'nonadopted', '488', '284', '58.2', '411', '58.7', '2/174', '28/174', '2,125/2,142', 'average-risk', '2,131/2,142', '2/19', '46/57', '1020', '1028', 'robustly', '1946', '1947', 'headings', 'meta-analyze', '2445', 'meta-analyzed', '~80', 'provisional', 'u.k.', 'cpoe/cds', 'biography', 'artefacts', 'two-by-two', 'outset', 'circumvent', 'three-year', 'canceled', 'contracts', 'risk-contract', '63,378', '18,008', 'mris', '18,014', '11,234', '31.2', 'leaked', '3,513', '7,721', 'unaffiliated', '95.5', 'germane', 'nsqip', 'cost-savings', 'arises', 'mistrust', 'processes-cdss-is', 'primitive', 'squares', 'pls', 'utaut-related', 'inclined', 'reinvestment', 'authorizes', 'reimburse', 'clinician-ordered', 'connecticut', 'provoking', 'resuming', 'pre-defined', 'internal-external', 'resumption', 'separating', 'crd42013003494', 'preproduction', 'postproduction', 'emr-embedded', 'cockcroft-gault', 'disrupted', 'hypnotics', 'anticholinergics', '~15', 'evidence-informed', 'scant', 'patients/methods', 'non-cancer', 'learns', 'cbr-based', 'excursion', 'nonvalidated', 'congruent', 'glucose-rate'])\n"
     ]
    }
   ],
   "source": [
    "w2v_vocabulary = model.vocab.keys()\n",
    "print(w2v_vocabulary)"
   ]
  },
  {
   "cell_type": "code",
   "execution_count": 44,
   "metadata": {
    "tags": [
     "outputPrepend"
    ]
   },
   "outputs": [
    {
     "output_type": "stream",
     "name": "stdout",
     "text": [
      "', 'capability', 'scientific', 'encoded', 'standards-based', 'translating', 'update', 'latest', 'archetype', 'primarily', 'contrast', 'ecosystem', 'hypothesis', 'opportunity', 'investigation', 'instances', 'enablers', 'questionnaires', 'becoming', 'ubiquitous', 'linked', 'completion', 'completing', 'follows', 'skills', 'priority', 'own', 'allergic', 'hcp', 'amounts', 'allergy', 'developments', 'vitro', 'ovarian', 'stimulation', 'ivf', 'cycles', 'donor', 'ultrasound', 'stop', 'continue', 'return', 'dosage', 'rationale', 'evaluates', 'observation', 'map', 'pertinent', 'timing', 'organizational', 'waste', 'delay', 'incorporate', 'explaining', 'adaboost', 'behind', 'magnetic', 'resonance', 'explanation', 'xai', 'addresses', 'interpretability', 'makers', 'explain', 'formulation', 'nodes', 'heuristic', 'art', 'stability', 'experiments', 'consistently', 'against', 'outperforms', 'looking', 'worker', 'ask', 'rarely', 'organizations', '83', 'managers', 'categories', 'described', 'called', 'ashas', 'newborn', '45', '2014', 'mothers', 'young', 'ages', 'fifteen', '44', '77', '57', '78', 'sufficient', 'hybrid', 'prescription', 'collated', '0.75', '0.65', 'notably', 'ontological', 'generic', 'abstraction', 'refinement', 'complement', 'changed', 'personnel', 'possibility', 'abstract', 'guided', 'consensus', 'title', '2009', 'algorithm-based', 'sensitivities', 'specificities', '54', 'high-quality', 'exists', 'crisis', 'static', 'seek', 'ddi', 'encountered', 'ade', 'attempted', 'qtc', 'prolongation', 'de', '29', 'alerting', 'adolescents', 'episodes', 'computer-based', 'iddeas', 'individualised', 'adolescent', 'methods/design', 'dissemination', 'psychiatrists', 'disorder', 'customized', 'funded', 'transcribed', 'guides', 'dependent', 'prepare', 'iron', 'fcm', 'isc', 'anemia', 'committee', 'promoting', 'segmented', 'dispensing', 'packed', 'red', 'cells', 'biological', 'rr', '0.12', '0.15', 'savings', '€', 'optimization', 'increasing', 'pumps', 'pump', 'frequent', 'adjustments', 'ai-dss', 'weeks', 'mg', '11.3', '3.0', '1.4', '0.9', '0.0001', 'titration', 'attending', 'assistant', 'relating', 'boundaries', 'suboptimal', 'go', 'cultures', 'revision', 'containing', 'standardization', 'modern', 'pattern', 'short', 'urine', 'participant', 'researchers', 'confirm', 'benchmarking', 'preferred', 'nurse', 'uti', 'vary', 'adapted', 'streptococcal', 'pharyngitis', 'networks', 'mix', 'reason', 'upper', 'showing', '≥65', 'anticoagulant', 'audit', 'nonrandomized', 'population-based', '47', '1.2', '3.2', 'incremental', 'quality-adjusted', 'gained', 'strokes', 'cost-effective', 'emrs', 'contain', 'like', 'constructing', 'mkn', 'cumulative', 'construct', 'capabilities', 'estimate', 'achieves', 'epic', 'bpa', 'replacement', 'pacu', 'abnormal', 'fell', '7.2', 'removal', 'summarize', 'imia', 'bibliographic', 'editorial', 'candidates', 'extended', 'timed', 'diagrams', 'appraisal', 'transplant', 'lab', 'recipients', 'linking', 'hepatic', 'contraindicated', 'mode', 'window', 'intuitive', 'correctly', 'displayed', 'pregnancy', 'fetal', 'special', 'commentary', 'fields', 'pmss', '2008', 'meta-analyses', 'icu', 'transfer', 'lactate', 'strength', 'labour', 'cardiotocography', 'ctg', 'birth', 'maternity', 'composite', 'subset', '2-year', 'interdependencies', 'paediatric', 'chemotherapy', 'regimens', 'oncology', 'ultra-safe', 'organisations', 'far', 'relation', 'whole', 'automation', 'uncertainties', 'hazards', 'medicines', 'living', 'ccdss', 'g-medss', 'goal-directed', 'contains', 'align', 'hmr', 'acps', 'start', 'whilst', 'metabolic', 'antipsychotics', 'prompted', 'a1c', 'hba1c', 'labs', 'passive', 'whenever', 'schizophrenia', 'pose', 'indications', 'spending', 'estimation', '43', 'monthly', 'exams', '6.5', 'microbiology', 'avoidable', 'month', 'negligible', 'liver', 'determining', 'indicator', 'biopsy', 'repeat', 'sampling', 'interesting', 'efficiently', 'miner', 'themselves', 'modifying', 'changing', 'parameter', 'outperformed', 'respect', 'allocation', 'family', 'tier', 'd-dimer', 'p<.001', 'aucs', '0.79', '0.84', 'whose', 'proforma', 'yield', 'authoring', 'open-source', 'kinds', 'ways', 'scotland', 'programme', 'outlines', 'computable', 'examines', 'hand', 'solving', 'displays', 'smart', 'fhir', 'load', 'captured', 'think-aloud', 'coding', '7.0', 'desire', 'navigation', 'familiar', 'integral', 'near', 'projects', 'producing', 'examining', 'motivation', 'ethical', 'beliefs', 'light', 'cooperation', 'audits', 'blunt', 'non-operative', 'abdominal', 'american', 'grading', '1994-aast', 'ctsi', 'splenic', 'systematically', 'v', '3.1', '3.3', '2018-aast', 'correct', 'whereby', 'media', 't1d', 'injections', 'bolus', 'life-threatening', 'hypoglycaemia', 'hyperglycaemia', 'retinopathy', 'weekly', 'indicates', 'glycaemic', 'responding', 'demands', 'adjust', 'monitors', 'keep', 'aware', 'families', 'joint', 'movement', 'musculoskeletal', 'transferrin', 'confusion', 'tibc', 'concordance', 'proved', 'avoided', 'autopend', 'coordinate', 'reminder', 'attended', 'labor', 'california', '$', 'costly', 'vendors', 'dmia', 'computer-assisted', 'exploring', 'patient-related', 'acquiring', 'illustrate', 'diagnosing', 'check', 'explored', 'paired', 'conjunction', 'supervised', 'quantify', 'cross', 'extremity', '51', 'skill', 'maintained', '0.58', 'patient-oriented', 'opinions', 'regards', 'mapped', 'engine', 'trade-offs', 'attribute', 'transfusion', 'product', 'placed', 'began', 'transfusions', 'summarized', 'senior', 'reality', 'ams', 'lymphatic', 'acuity', 'phlebology', 'forum', 'european', 'vascular', 'publications', 'identical', 'except', 'keeping', 'virus', 'anomalies', 'urgency', 'vte', 'compression', 'example', 'massive', 'symptomatic', 'listed', 'topic', '65', 'tuning', 'investigating', 'multicentre', 'hospitalised', 'quantified', 'male', 'cut-off', 'calculators', 'nomogram', 'urology', 'bladder', 'obstruction', 'ethics', 'approval', 'disseminated', 'conferences', 'augment', 'overwhelming', 'computation', 'cerebral', 'arden', 'syntax', 'hl7', 'pre-implementation', 'employed', 'consolidated', 'cfir', 'site', 'documents', 'altering', 'workload', 'fail', 'principle', 'estimates', 'knowing', 'ageing', 'patient-centred', 'empirical', 'illustrating', 'rheumatoid', 'reasonable', 'legal', 'rounds', 'payment', 'radiologist', 'responded', 'altered', 'trainee', 'see', 'radiologists', 'educate', 'engage', 'aortic', 'dissection', 'decreasing', 'radiation', 'abdominopelvic', 'typically', 'initially', 'prostate', 'interpreting', 'proportional', 'hazard', 'specification', 'intensification', 'microvascular', 'mmol/mol', 'helpful', 'veterans', 'va', 'tertile', 'shifts', 'minimizing', 'accordingly', 'contributing', 'opioid', 'mitigation', 'u.s.', 'psychology', 'team-based', 'insight', 'surveillance', 'non-pharmacological', 'spanning', 'line', 'facing', 'dynamically', 'deploy', 'business', '10-fold', 'cross-validation', 'apps', 'back', 'request', 'computed', 'tomography', 'above', 'scenario', 'sense', 'running', 'live', 'adopt', 'diaphragm-protective', 'diaphragm', 'conflict', 'ventilator', 'paradigm', 'metric', 'minimize', 'unfortunately', 'acceptable', 'calculation', 'interpret', 'presentations', 'dhims2', '93', 'directives', 'advocacy', 'computers', 'checking', 'comparisons', 'internet', 'icts', 'provision', 'kaiser', 'reliably', 'malignancy', 'benign', 'lesions', 'bi-rads', 'ranges', 'unlikely', '≤', 'biopsies', 'aids', 'searching', 'polypharmacy', 'person', 'reactions', '2.7', 'initiating', 'omop', 'structure', 'conducting', 'deal', 'usable', 'dealing', 'analysing', 'self-report', 'closely', 'largely', 'mentioned', 'scarce', 'category', 'construction', 'convolutional', 'quick', 'pathological', 'anatomical', 'permit', 'matching', 'case-based', 'investment', 'choose', 'right', 'why', 'trends', '10-year', 'injured', 'vendor', 'non-critical', 'fashion', 'fewer', 'stopped', 'alerted', 'negatively', '148', 'markov', 'mart', 'additionally', 'expression', 'plasma', 'wards', 'pca', 'cspca', 'divided', 'extreme', 'ultrasonography', 'deterioration', 'warning', 'intensity', 'instability', 'dependence', 'frame', 'italian', 'cgm', 'closed-loop', 'seems', 'advancement', 'reimbursement', 'assurance', 'pitfalls', 'chances', 'picklist', 'incomplete', 'free-text', 'split', 'decades', 'k', 'modified', 'contained', 'tele-cc', 'reactivation', '®', 'percentile', 'hr', 'min', '86', 'enhancements', 'respond', 'specialty', 'doing', 'reduces', 'feeding', 'enteral', 'ft', 'ftrmes', 'pre-post', 'netherlands', 'fracture', 'fractures', 'cdsi', 'disease-specific', 'run', 'charts', 'unified', '1.5', 'post', 'youth', 'driven', 'dr', 'session', 'parents', 'shingles', 'powerful', 'low-value', 'counts', 'unknown', 'differed', 'systolic', 'autonomous', 'caregivers', 'classic', 'supervision', 'later', 'interacting', 'consequent', 'empowered', 'produced', 'postprandial', 'hemoglobin', 'evolve', 'sophisticated', 'leverage', 'equipment', 'strategic', 'directors', 'coaching', 'consults', 'nutrition', 'constant', 'predictor', 'stratified', '104', 'unplanned', 'representative', 'loss', 'noisy', 'depending', 'intubation', 'holistic', 'normalized', 'alcohol', 'has-bled', 'oac', '365', 'proportions', '2.1', 'characterize', 'logs', 'uw', 'things', 'neurorehabilitation', 'anns', 'motor', 'classifying', 'therapies', 'syndromes', 'complicated', 'side', 'paper-based', 'prehospital', 'acs', 'computer-aided', 'electrocardiogram', 'toolkit', 'peer', 'website', 'tailoring', 'dedicated', 'uc', 'messaging', 'low-resource', 'lives', 'cdsas', 'pretest', 'cv', 'renal/cv', 'receptor', 'blockers', 'extremely', 'hoc', 'warranted', 'ultimate', 'drawing', 'rpd', 'dentists', 'annotations', 'variations', 'disciplines', 'deviations', 'send', 'ipoa', 'warehouse', 'anesthetic', 'anesthesiology', 'chi-square', 'matched', '76', 'page', 'notification', 'shorter', 'medicaid', 'medd', 'substance', 'abuse', 'screens', '0.89', 'redesign', 'hematoma', 'volumes', 'pelvic', 'ae', 'pp', 'mt', '200', '53', 'sixteen', 'iv', 'raise', 'missed', '2.5', 'hip', 'pop-up', 'namely', 'd', '17.4', 'younger', 'monitor', 'qi', 'extent', 'qualdash', 'theories', 'ethnographic', 'aneurysm', 'aaa', 'rupture', 'distinct', 'dynamics', 'allowed', 'attractive', 'contemporary', 'artery', 'short-term', 'pharmacotherapy', 'parenteral', 'pn', 'exacerbation', 'exacerbations', 'c4.5', 'parkinson', 'pd', 'psychological', 'undertook', 'combinations', 'shoulder', 'jaundice', 'damage', 'bilirubin', 'streamline', '0.4', 'mammography', 'transpara', 'outpatients', 'mammographic', 'reading', '89', 'cutoff', 'aureus', 'sab', 'contributes', '90-day', 'vancomycin', 'closed', 'rising', 'facilitates', 'foster', 'implementers', 'choosing', 'wisely', 'definitions', 'immunotherapy', 'rhinitis', 'asked', 'hypertensive', 'record-based', 'teenbp', 'insured', 'bp', 'isolated', 'equation', 'fibrinolysis', 'inhibitors', 'shareable', 'offered', 'cdc', 'definition', '5.5', 'nepal', 'noncommunicable', 'equitable', 'governance', 'trajectory', 'workforce', 'disposition', 'hospice', 'plays', 'acquisition', 'favorable', 'ieee', 'xplore', 'words', 'chief', 'los', 'actually', 'misuse', 'anticoagulation', 'designers', 'android', 'sleep', 'instructions', 'hereditary', 'appointment', 'genes', 'cancers', 'overdoses', 'greatly', 'oud', 'force', 'calls', 'overdose', 'iii', 'completely', 'decisional', 'dengue', 'haemorrhagic', 'obesity', 'csf', 'quarter', 'operationalized', 'initiate', '140', 'balanced', 'cgs', 'production', 'acquired', 'mlms', 'properties', 'cigs', 'his', 'grouped', 'pre/post', 'ebmeds', 'ig', 'cg', 'existed', 'anxiety', 'visited', 'seeking', 'strabismus', 'delayed', 'institute', 'comprised', '91', 'nudge', 'nasss', 'programmes', 'rich', 'zones', 'coming', '49', 'callers', 'amongst', 'comply', 'intrapartum', 'partograph', 'epartogram', 'sbas', 'log', 'intake', 'hypokalaemia', 'actively', 'potassium', 'spl', '2.9', 'supplementation', '2007', 'normalization', 'normokalaemia', '≥', '.01', 'manually-generated', 'omission', 'overload', 'lists', 'dichotomous', '0.51', 'hemodynamic', 'distress', 'germany', 'heuristics', 'compromised', 'intuition', 'nicu', 'nicus', 'unable', 'reflex', 'syncope', 'consciousness', 'excluding', 'vvs', 'hypotension', 'migraine', 'postimplementation', 'modest', 'rbc', 'decline', 'calcifications', 'read', '150', 'medium', 'candidacy', 'week', '0.64', '0.88', '0.25', 'prone', '8.7', 'triggering', 'imci', 'africa', 'childhood', 'eimci', 'self-efficacy', '79', 'scored', 'tbis', 'ionizing', 'protective', 'redvent', 'epa', 'preceding', 'firing', 'antithrombotic', 'configuration', 'mv', 'induced', 'seeks', 'breathing', 'intermediate', 'potassium-increasing', 'ddis', 'just', 'proactive', 'attributable', 'rank', 'element', 'communicate', 'roadmap', 'block', 'saved', 'exclusion', 'grasp', 'standardised', 'ottawa', 'knee', 'grades', 'updating', 'responsibilities', 'disparities', 'pooled', 'inconsistent', 'p=0.03', 'asymptomatic', 'meningioma', '5-year', 'age-adjusted', 'risk-stratified', 'readiness', 'timeline', 'curated', 'adhd', 'behavioral', 'pediatrics', '2011', 'realization', 'neck', 'fluence', 'receiver-operating', 'pairs', 'sequencing', 'alterations', 'ambiguous', 'scales', 'internally', '1.6', '0.70', '59', 'acm', 'ml-cdss', 'aiming', 'tuberculosis', 'overnight', 'meal', 'derivation', 'assays', 'prophylaxis', 'ecqm', '0.007', 'psychotropics', 'respective', 'ckd', 'clobnet', 'preprocessing', '1.1', 'hemoglobinopathy', 'southern', 'malfunctions', 'percutaneous', 'fall', 'carers', 'wellness', 'true', 'sensor', 'job', 'prescriber', 'emm', 'augmented', 'nn', 'spine', 't2d', 'participatory', 'round', 'risk-stratification', 'granularity', 'smi', 'm', 'ministry', 'subgroups', 'e', 'exposed', 'pddis', 'pddi', 'register', 'probabilistic', 'false-positive', 'af-clinic', 'compute', 'stanford', 'duke', 'rely', 'immunization', 'immunization-related', 'inventory', 'aging', 'storage', 'meningisss', 'intracerebral', 'meningitis', 'deciding', 'predefined', 'stone', 'space', 'scheme', 'stent', 'placement', 'mpower', 'e-cdss', 'impairment', 'ppv', 'mtm', 'alarm', 'rheumatology', 'compares', 'quantity', 'remarks', '1.8', 'agents', 'agent', '4.6', 'octane', 'annotation', 'assignment', 'establishes', 'ptrs', 'carry', 'lupus', 'smile', 'theme', 'champion', 'telemonitoring', 'perfect', 'partially', 'nyha', 'suffer', 'deficiencies', 'naive', 'latent', 'causal', 'cvrm', 'empowerment', 'survivors', 'consequence', 'at-risk', 'trajectories', 'environmental', 'policymakers', 'opinion', 'implementations', 'motivate', 'fidelity', '2.0', 'almost', 'illnesses', 'motivations', 'antenatal', 'descriptions', 'pregnant', 'prospect', 'thyroid', 'resistant', 'antimicrobials', 'ontologies', 'ors', 'languages', 'adrenal', 'hc', 'recordings', 'forced', 'large-scale', 'expand', 'gastric', 'oagb', 'iran', 'multilayer', 'perceptron', 'mlp', '98.4', 'vast', 'crb-65', 'cap', 'investigators', '4.5', 'drug-disease', 'kp', 'dcaps', 'neurologic', 'idh', 'signature', 'multiparametric', 'sage', 'pecarn', 'embedding', 'ap-hp', 'deploying', 'mecds', 'febrile', 'hits', 'extension', 'operators', 'formats', 'streams', 'amr', 'emphasis', 'nutritional', 'maximizing', 'modality', '0.78', 'epad', 'surrogate', 'migration', 'extend', 'pedsguide', '2.6', 'employs', 'osa', 'snoring', 'sign', 'lymphoma', 'mcl', 'ulcerative', 'colitis', 'sca', 'emergence', 'fror', 'flows', 'airway', '0.60', 'abnormalities', 'spirometry', 'p<0.01', 'detail', 'old', 'spinal', 'leveraging', 'locally', 'multimorbidity', 'computer-interpretable', 'tumour', 'staging', 'implant-selection', 'compatibility', 'femoral', 'subarachnoid', 'hemorrhage', 'sah', 'osah', 'icp', 'avoiding', 'french', 'hiv', 'sparse', 'compromise', 'details', 'cma', 'note', 'prolonging', 'telenurses', 'teratogenic', 'esr/crp', 'co-ordering', 'esr', 'nogg', 'advisor', 'opad', 'entered', 'comments', '0.61', 'msk', 'self-monitoring', 'telecare', '0.3', 'standardize', 'pro', 'devoted', 'computing', 'signals', 'persons', 'f-measure', 'storm', 'vha', 'otc', 'cacc', 'activated', 'on-screen', 'gas', 'neuromuscular', 'svv', 'waveform', 'ppvcap', 'svvpc', 'induction', 'rejection', 'processed', 'teamwork', 'malfunction', 'broken', 'bayes', 'investigations', 'sputum', 'hcap', 'empirically', 'gait', 'falls', 'optimally', 'demonstration', 'left', 'ventricular', 'stochastic', 'crc', 'fundamental', 'cyp2d6', 'oprm1', 'relief', 'vulnerable', 'dq', 'aspect', 'dtps', 'dca', 'differ', 'substandard', 'nudges', 'necessity', '99.9', 'oncologists', 'preterm', 'neonates', 'gestational', 'prediabetes', 'fact', 'differentiate', 'cdss-t', '24-hour', 'oximeters', 'imbalanced', 'dm', 'metformin', 'implicit', 'graph', 'separate', 'hmt', 'frailty', 'calculations', 'dialysis', 'angiography', 'cta', 'tia', 'antipsychotic', 'ept', 'dce-mri', 'conductivity', 'reconstruction', 'ser', 'ra', 'allergies', 'terminologies', 'terminology', 'believe', 'cts', 'belief', 'infusion', 'adjunct', 'receives', 'qalys', 'crises', 'snomed', 'hierarchies', 'taxonomy', 'pythagorean', 'trapezoidal', 'einstein', 'endoscopic', 'colon', 'resection', 'msds', 'scopus', 'risq-path', 'qt', 'steroid', 'esods', 'cesarean', 'scar', 'csp', 'gs', 'thickness', 'asps', 'haitool', 'asp', 'caratv2.0', 'occurs', 'add', 'test-retest', 'denmark', 'familiarity', 'artifact', 'herdoo2', 'unprovoked', 'vidas', 'dd', 'cut-point', 'innovance', 'hemosil', 'tina-quant', 'liatest', 'μg/l', 'mask', 'ar', 'diary', 'companion', 'correlations', 'bioinformatics', 'print', 't1dm', 'curb-65', 'tumors', 'tactical', 'apache', 'iranian', 'cl', 'ab', 'students', 'electronically', 'depth', 'execution', 'pm', 'pre', 'frail', 'speed', 'psychotic', 'rom', 'message', 'pgd', 'geriatric', 'wrist', 'easier', 'vote', 'hpv', 'bacteremia', 'injury-related', 'afm', 'inhaled', 'changepoint', 'drain', 'amylase-based', 'leak', 'amylase', 'cycling', 'asynchrony', 'termination', 'premature', 'conflicting', 'lhs', 'neurologically', 'intact', 'mrc', 'hemodialysis', 'complementarity', 'ss', 'ss-ii', 'anaesthesia', 'swab', 'epifinder', 'dtr', 'eresearch', 'animal', 'eds-mi', 'ischaemic', 'tia/stroke', 'surgeries', 'scapula', 'ipsilateral', 'clavicle', 'formulary', 'resectable', 'adjuvant', 'post-hoc', '1.7', 'answering', 'micromedex', 'dental', 'post-test', 'thiopurine', 'tpmt', 'inr', 'hold', 'non-intervention', 'vitamin', 'consultants', 'antihypertensive', 'eregistry', 'nhs111', 'bis', 'disaster', 'cad-rads', 'ica', 'cervical', 'affiliated', 'obstetrics', 'hepatitis', 'psyscan', 'hbv', 'hcv', 'mayo', 'cdsms', 'turnaround', 'pingr', 'huge', 'poct', 'caring', 'graded', 'cot-cr', 'memd', 'opioid-induced', 'riosord', 'vehicle', 'lumbar', 'ctpa', 'before-after', 'booklet/dvd', 'da', 'plaque', 'influenza', 'bcd', 'dpp-4', 'icc', 't3cvd', 'lbp', 'flexible', 'aview', 'radiography', 'haemorrhage', 'separation', 'membrane', 'fluidity', 'orbital', 'combat', 'maf', 'infobutton', 'tailor', 'vt', 'leukaemia', 'mwellcare', 'childbirth', 'usd', 'p=0.02', 'hit', 'splenectomy', 'phd', 'chvs', 'newborns', 'ml/kg', 'certified', 'hmh', 'sai', 'cm', 'her2', 'immunohistochemistry', 'fish', 'concussion', 'sinedie', 'burn', 'ankle', 'foot', 'oar', 'valve', 'tavi', 'bm', 'browsing', 'gdm', 'mobiguide', 'brc', 'cdmss', 'disteam', 'casi', 'non-adherence', 'ponv', 'puncture', 'channel', 'ped', 'kbs', 'onc', 'compartment', 'fasciotomy', 'csr', 'fn', 'risk-appropriate', 'periodontal', 'eprotocol-insulin', 'radt', 'misi', 'ed-based', 'sch', 'memind', 'drainage', 'swelling', 'eprescribing', 'hiv-2', 'coreceptor', 'geno2pheno[coreceptor-hiv2', 'osrd', 'preselected', 'ann', 'tonsillar', 'mcisaac', 'icf', 'tbsa', '□', 'tsa', 'cards', 'handover', 'case-control', 'ihand', 'elastography', 'tri', 'rns', 'fgkm', 'ltr', 'qctg', 'briefing', 'dcssc', 'traction', 'cpr', 'abrs', 'ewd', 'unlabelled', 'esbl', 'gy', 'e-geoplatform', 'geomatics', 'ardenml', 'xslt', 'stylesheet', 'blaze', 'biofilm', 'abc4d', 'ffq', 'dilqts', 'tdp', 'compg', 'proton', 'rt', 'fir', 'ttr', 'gbm', 'ionized', 'i-dvt', 'wells', 'nfm', 'ivd', 'hce', 'ivds', 'metree', 'uedvt', 'uesvt', 'postthrombotic'])\n"
     ]
    }
   ],
   "source": [
    "ft_vocabulary = modelFT.wv.vocab.keys()\n",
    "print(ft_vocabulary)"
   ]
  },
  {
   "cell_type": "code",
   "execution_count": null,
   "metadata": {},
   "outputs": [],
   "source": []
  }
 ],
 "metadata": {
  "kernelspec": {
   "display_name": "pytorch2",
   "language": "python",
   "name": "pytorch2"
  }
 },
 "nbformat": 4,
 "nbformat_minor": 5
}